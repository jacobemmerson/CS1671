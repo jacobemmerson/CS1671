{
 "cells": [
  {
   "cell_type": "markdown",
   "metadata": {},
   "source": [
    "# CS1671 Machine Comprehension Project\n",
    "### Jacob Emmerson\n",
    "11/30/23"
   ]
  },
  {
   "cell_type": "code",
   "execution_count": 1,
   "metadata": {},
   "outputs": [],
   "source": [
    "import pandas as pd\n",
    "import numpy as np\n",
    "import re # regular expression\n",
    "import seaborn as sns\n",
    "import matplotlib.pyplot as plt\n",
    "\n",
    "from THM_class import *\n",
    "from RTE_class import *\n",
    "from dep import *"
   ]
  },
  {
   "cell_type": "code",
   "execution_count": 2,
   "metadata": {},
   "outputs": [
    {
     "data": {
      "text/html": [
       "<div>\n",
       "<style scoped>\n",
       "    .dataframe tbody tr th:only-of-type {\n",
       "        vertical-align: middle;\n",
       "    }\n",
       "\n",
       "    .dataframe tbody tr th {\n",
       "        vertical-align: top;\n",
       "    }\n",
       "\n",
       "    .dataframe thead th {\n",
       "        text-align: right;\n",
       "    }\n",
       "</style>\n",
       "<table border=\"1\" class=\"dataframe\">\n",
       "  <thead>\n",
       "    <tr style=\"text-align: right;\">\n",
       "      <th></th>\n",
       "      <th>story_id</th>\n",
       "      <th>story</th>\n",
       "      <th>q1</th>\n",
       "      <th>q2</th>\n",
       "      <th>q3</th>\n",
       "      <th>q4</th>\n",
       "      <th>q1_a</th>\n",
       "      <th>q2_a</th>\n",
       "      <th>q3_a</th>\n",
       "      <th>q4_a</th>\n",
       "    </tr>\n",
       "  </thead>\n",
       "  <tbody>\n",
       "    <tr>\n",
       "      <th>0</th>\n",
       "      <td>mc500.train.0</td>\n",
       "      <td>Alyssa got to the beach after a long trip. She...</td>\n",
       "      <td>one: What city is Alyssa in?</td>\n",
       "      <td>one: Why did Alyssa go to Miami?</td>\n",
       "      <td>multiple: How many friends does Alyssa have?</td>\n",
       "      <td>multiple: What did Alyssa eat at the restaurant?</td>\n",
       "      <td>{'A': 'trip', 'B': 'Miami', 'C': 'Atlanta', 'D...</td>\n",
       "      <td>{'A': 'swim', 'B': 'travel', 'C': 'visit frien...</td>\n",
       "      <td>{'A': '1', 'B': '2', 'C': '3', 'D': '4'}</td>\n",
       "      <td>{'A': 'steak', 'B': 'soup', 'C': 'salad', 'D':...</td>\n",
       "    </tr>\n",
       "    <tr>\n",
       "      <th>1</th>\n",
       "      <td>mc500.train.1</td>\n",
       "      <td>One morning, Elena woke up, much like she did ...</td>\n",
       "      <td>multiple: What is the very first thing Elena d...</td>\n",
       "      <td>one: At what time of day does this story take ...</td>\n",
       "      <td>multiple: What happened to Mr. Fish in the end?</td>\n",
       "      <td>multiple: What was missing from the fish bowl?</td>\n",
       "      <td>{'A': 'she says hello to the tree', 'B': 'she ...</td>\n",
       "      <td>{'A': 'Before the tree', 'B': 'At the end of t...</td>\n",
       "      <td>{'A': 'He got put back in the bowl, but he was...</td>\n",
       "      <td>{'A': 'the rocks', 'B': 'Mr. Fish', 'C': 'the ...</td>\n",
       "    </tr>\n",
       "  </tbody>\n",
       "</table>\n",
       "</div>"
      ],
      "text/plain": [
       "        story_id                                              story  \\\n",
       "0  mc500.train.0  Alyssa got to the beach after a long trip. She...   \n",
       "1  mc500.train.1  One morning, Elena woke up, much like she did ...   \n",
       "\n",
       "                                                  q1  \\\n",
       "0                       one: What city is Alyssa in?   \n",
       "1  multiple: What is the very first thing Elena d...   \n",
       "\n",
       "                                                  q2  \\\n",
       "0                   one: Why did Alyssa go to Miami?   \n",
       "1  one: At what time of day does this story take ...   \n",
       "\n",
       "                                                q3  \\\n",
       "0     multiple: How many friends does Alyssa have?   \n",
       "1  multiple: What happened to Mr. Fish in the end?   \n",
       "\n",
       "                                                 q4  \\\n",
       "0  multiple: What did Alyssa eat at the restaurant?   \n",
       "1    multiple: What was missing from the fish bowl?   \n",
       "\n",
       "                                                q1_a  \\\n",
       "0  {'A': 'trip', 'B': 'Miami', 'C': 'Atlanta', 'D...   \n",
       "1  {'A': 'she says hello to the tree', 'B': 'she ...   \n",
       "\n",
       "                                                q2_a  \\\n",
       "0  {'A': 'swim', 'B': 'travel', 'C': 'visit frien...   \n",
       "1  {'A': 'Before the tree', 'B': 'At the end of t...   \n",
       "\n",
       "                                                q3_a  \\\n",
       "0           {'A': '1', 'B': '2', 'C': '3', 'D': '4'}   \n",
       "1  {'A': 'He got put back in the bowl, but he was...   \n",
       "\n",
       "                                                q4_a  \n",
       "0  {'A': 'steak', 'B': 'soup', 'C': 'salad', 'D':...  \n",
       "1  {'A': 'the rocks', 'B': 'Mr. Fish', 'C': 'the ...  "
      ]
     },
     "execution_count": 2,
     "metadata": {},
     "output_type": "execute_result"
    }
   ],
   "source": [
    "train_stories = load_stories('data/mc500.train.tsv')\n",
    "train_answers = load_answers('data/mc500.train.ans')\n",
    "train_stories.T.head(2)"
   ]
  },
  {
   "cell_type": "code",
   "execution_count": 3,
   "metadata": {},
   "outputs": [
    {
     "data": {
      "text/html": [
       "<div>\n",
       "<style scoped>\n",
       "    .dataframe tbody tr th:only-of-type {\n",
       "        vertical-align: middle;\n",
       "    }\n",
       "\n",
       "    .dataframe tbody tr th {\n",
       "        vertical-align: top;\n",
       "    }\n",
       "\n",
       "    .dataframe thead th {\n",
       "        text-align: right;\n",
       "    }\n",
       "</style>\n",
       "<table border=\"1\" class=\"dataframe\">\n",
       "  <thead>\n",
       "    <tr style=\"text-align: right;\">\n",
       "      <th></th>\n",
       "      <th>story_id</th>\n",
       "      <th>story</th>\n",
       "      <th>q1</th>\n",
       "      <th>q2</th>\n",
       "      <th>q3</th>\n",
       "      <th>q4</th>\n",
       "      <th>q1_a</th>\n",
       "      <th>q2_a</th>\n",
       "      <th>q3_a</th>\n",
       "      <th>q4_a</th>\n",
       "    </tr>\n",
       "  </thead>\n",
       "  <tbody>\n",
       "    <tr>\n",
       "      <th>0</th>\n",
       "      <td>mc500.dev.0</td>\n",
       "      <td>One sunny morning, Stewart chose to go to the ...</td>\n",
       "      <td>multiple: If the rain arrived on Saturday, wha...</td>\n",
       "      <td>one: What was Stewart doing at the beach?</td>\n",
       "      <td>one: What did the bug want from Stewart?</td>\n",
       "      <td>multiple: What was the bug that Stewart found ...</td>\n",
       "      <td>{'A': 'Friday', 'B': 'Monday', 'C': 'Sunday', ...</td>\n",
       "      <td>{'A': 'reading a newspaper', 'B': 'looking for...</td>\n",
       "      <td>{'A': 'food', 'B': 'to read Stewart's newspape...</td>\n",
       "      <td>{'A': 'beetle', 'B': 'caterpillar', 'C': 'ant'...</td>\n",
       "    </tr>\n",
       "    <tr>\n",
       "      <th>1</th>\n",
       "      <td>mc500.dev.1</td>\n",
       "      <td>My mommy has a really cool job! She makes cost...</td>\n",
       "      <td>multiple: What does Mommy do as a job?</td>\n",
       "      <td>multiple: What was special about the boot?</td>\n",
       "      <td>one: Where does Mommy work?</td>\n",
       "      <td>multiple: Where did the needle the narrator st...</td>\n",
       "      <td>{'A': 'filming movies', 'B': 'making costumes ...</td>\n",
       "      <td>{'A': 'It was covered in beads', 'B': 'it was ...</td>\n",
       "      <td>{'A': 'in the attic', 'B': 'in a costume shop'...</td>\n",
       "      <td>{'A': 'It was next to the lamp', 'B': 'It was ...</td>\n",
       "    </tr>\n",
       "  </tbody>\n",
       "</table>\n",
       "</div>"
      ],
      "text/plain": [
       "      story_id                                              story  \\\n",
       "0  mc500.dev.0  One sunny morning, Stewart chose to go to the ...   \n",
       "1  mc500.dev.1  My mommy has a really cool job! She makes cost...   \n",
       "\n",
       "                                                  q1  \\\n",
       "0  multiple: If the rain arrived on Saturday, wha...   \n",
       "1             multiple: What does Mommy do as a job?   \n",
       "\n",
       "                                           q2  \\\n",
       "0   one: What was Stewart doing at the beach?   \n",
       "1  multiple: What was special about the boot?   \n",
       "\n",
       "                                         q3  \\\n",
       "0  one: What did the bug want from Stewart?   \n",
       "1               one: Where does Mommy work?   \n",
       "\n",
       "                                                  q4  \\\n",
       "0  multiple: What was the bug that Stewart found ...   \n",
       "1  multiple: Where did the needle the narrator st...   \n",
       "\n",
       "                                                q1_a  \\\n",
       "0  {'A': 'Friday', 'B': 'Monday', 'C': 'Sunday', ...   \n",
       "1  {'A': 'filming movies', 'B': 'making costumes ...   \n",
       "\n",
       "                                                q2_a  \\\n",
       "0  {'A': 'reading a newspaper', 'B': 'looking for...   \n",
       "1  {'A': 'It was covered in beads', 'B': 'it was ...   \n",
       "\n",
       "                                                q3_a  \\\n",
       "0  {'A': 'food', 'B': 'to read Stewart's newspape...   \n",
       "1  {'A': 'in the attic', 'B': 'in a costume shop'...   \n",
       "\n",
       "                                                q4_a  \n",
       "0  {'A': 'beetle', 'B': 'caterpillar', 'C': 'ant'...  \n",
       "1  {'A': 'It was next to the lamp', 'B': 'It was ...  "
      ]
     },
     "execution_count": 3,
     "metadata": {},
     "output_type": "execute_result"
    }
   ],
   "source": [
    "dev_stories = load_stories('data/mc500.dev.tsv')\n",
    "dev_answers = load_answers('data/mc500.dev.ans')\n",
    "dev_stories.T.head(2)"
   ]
  },
  {
   "cell_type": "code",
   "execution_count": 4,
   "metadata": {},
   "outputs": [
    {
     "data": {
      "text/html": [
       "<div>\n",
       "<style scoped>\n",
       "    .dataframe tbody tr th:only-of-type {\n",
       "        vertical-align: middle;\n",
       "    }\n",
       "\n",
       "    .dataframe tbody tr th {\n",
       "        vertical-align: top;\n",
       "    }\n",
       "\n",
       "    .dataframe thead th {\n",
       "        text-align: right;\n",
       "    }\n",
       "</style>\n",
       "<table border=\"1\" class=\"dataframe\">\n",
       "  <thead>\n",
       "    <tr style=\"text-align: right;\">\n",
       "      <th></th>\n",
       "      <th>story_id</th>\n",
       "      <th>story</th>\n",
       "      <th>q1</th>\n",
       "      <th>q2</th>\n",
       "      <th>q3</th>\n",
       "      <th>q4</th>\n",
       "      <th>q1_a</th>\n",
       "      <th>q2_a</th>\n",
       "      <th>q3_a</th>\n",
       "      <th>q4_a</th>\n",
       "    </tr>\n",
       "  </thead>\n",
       "  <tbody>\n",
       "    <tr>\n",
       "      <th>0</th>\n",
       "      <td>mc500.test.0</td>\n",
       "      <td>It was Sally's birthday. She was very excited....</td>\n",
       "      <td>one: What time did the party start?</td>\n",
       "      <td>multiple: Who got hurt at the party?</td>\n",
       "      <td>one: Whose birthday is it?</td>\n",
       "      <td>multiple: What time did Jennifer arrive to the...</td>\n",
       "      <td>{'A': '10', 'B': '2', 'C': '11', 'D': '1'}</td>\n",
       "      <td>{'A': 'Erin and Jennifer', 'B': 'Cathy and Eri...</td>\n",
       "      <td>{'A': 'Cathy', 'B': 'Jessica', 'C': 'Sally', '...</td>\n",
       "      <td>{'A': '1', 'B': '2', 'C': '8', 'D': '10'}</td>\n",
       "    </tr>\n",
       "    <tr>\n",
       "      <th>1</th>\n",
       "      <td>mc500.test.1</td>\n",
       "      <td>On the farm there was a little piggy named And...</td>\n",
       "      <td>multiple: What did the piggies do when Andy go...</td>\n",
       "      <td>multiple: What did Andy see on his walk?</td>\n",
       "      <td>one: What did Andy love to roll around in?</td>\n",
       "      <td>one: What did the other piggies not want to do...</td>\n",
       "      <td>{'A': 'play games and eat dinner', 'B': 'play ...</td>\n",
       "      <td>{'A': 'other piggies', 'B': 'flowers and a tre...</td>\n",
       "      <td>{'A': 'mud', 'B': 'cupcakes', 'C': 'grass', 'D...</td>\n",
       "      <td>{'A': 'walk', 'B': 'swim', 'C': 'eat', 'D': 'p...</td>\n",
       "    </tr>\n",
       "  </tbody>\n",
       "</table>\n",
       "</div>"
      ],
      "text/plain": [
       "       story_id                                              story  \\\n",
       "0  mc500.test.0  It was Sally's birthday. She was very excited....   \n",
       "1  mc500.test.1  On the farm there was a little piggy named And...   \n",
       "\n",
       "                                                  q1  \\\n",
       "0                one: What time did the party start?   \n",
       "1  multiple: What did the piggies do when Andy go...   \n",
       "\n",
       "                                         q2  \\\n",
       "0      multiple: Who got hurt at the party?   \n",
       "1  multiple: What did Andy see on his walk?   \n",
       "\n",
       "                                           q3  \\\n",
       "0                  one: Whose birthday is it?   \n",
       "1  one: What did Andy love to roll around in?   \n",
       "\n",
       "                                                  q4  \\\n",
       "0  multiple: What time did Jennifer arrive to the...   \n",
       "1  one: What did the other piggies not want to do...   \n",
       "\n",
       "                                                q1_a  \\\n",
       "0         {'A': '10', 'B': '2', 'C': '11', 'D': '1'}   \n",
       "1  {'A': 'play games and eat dinner', 'B': 'play ...   \n",
       "\n",
       "                                                q2_a  \\\n",
       "0  {'A': 'Erin and Jennifer', 'B': 'Cathy and Eri...   \n",
       "1  {'A': 'other piggies', 'B': 'flowers and a tre...   \n",
       "\n",
       "                                                q3_a  \\\n",
       "0  {'A': 'Cathy', 'B': 'Jessica', 'C': 'Sally', '...   \n",
       "1  {'A': 'mud', 'B': 'cupcakes', 'C': 'grass', 'D...   \n",
       "\n",
       "                                                q4_a  \n",
       "0          {'A': '1', 'B': '2', 'C': '8', 'D': '10'}  \n",
       "1  {'A': 'walk', 'B': 'swim', 'C': 'eat', 'D': 'p...  "
      ]
     },
     "execution_count": 4,
     "metadata": {},
     "output_type": "execute_result"
    }
   ],
   "source": [
    "test_stories = load_stories('data/mc500.test.tsv')\n",
    "test_stories.T.head(2)"
   ]
  },
  {
   "cell_type": "markdown",
   "metadata": {},
   "source": [
    "---\n",
    "## Baselines"
   ]
  },
  {
   "cell_type": "markdown",
   "metadata": {},
   "source": [
    "### Top Hypothesis Match (THM)"
   ]
  },
  {
   "cell_type": "code",
   "execution_count": 5,
   "metadata": {},
   "outputs": [
    {
     "name": "stdout",
     "output_type": "stream",
     "text": [
      "Baseline Accuracy on Training Data: 0.42083333333333334\n"
     ]
    }
   ],
   "source": [
    "thm_baseline = THM_classifier(train_stories)\n",
    "train_preds = thm_baseline.predict()\n",
    "print(f\"Baseline Accuracy on Training Data: {get_accuracy(train_preds, train_answers)}\")"
   ]
  },
  {
   "cell_type": "code",
   "execution_count": 6,
   "metadata": {},
   "outputs": [
    {
     "name": "stdout",
     "output_type": "stream",
     "text": [
      "Baseline Accuracy on Development Data with Weights = [1, 1, 1, 1, 1]: 0.46\n",
      "Baseline Accuracy on Development Data with Weights = [1, 2, 7, 2, 1]: 0.485\n",
      "Baseline Accuracy on Development Data with Weights = [1, 3, 13, 3, 1]: 0.475\n",
      "Baseline Accuracy on Development Data with Weights = [1, 4, 19, 4, 1]: 0.475\n",
      "Baseline Accuracy on Development Data with Weights = [1, 5, 25, 5, 1]: 0.475\n"
     ]
    }
   ],
   "source": [
    "weights = [1,1,1,1,1]\n",
    "for ws in range(5):\n",
    "    thm_baseline = THM_classifier(dev_stories, weights)\n",
    "    print(f\"Baseline Accuracy on Development Data with Weights = {weights}: {get_accuracy(thm_baseline.predict(), dev_answers)}\")\n",
    "    weights[1] += 1\n",
    "    weights[2] += 6\n",
    "    weights[3] += 1"
   ]
  },
  {
   "cell_type": "code",
   "execution_count": 7,
   "metadata": {},
   "outputs": [
    {
     "name": "stdout",
     "output_type": "stream",
     "text": [
      "                 id answer\n",
      "0    mc500.test.0.1      D\n",
      "150  mc500.test.0.2      B\n",
      "300  mc500.test.0.3      C\n",
      "450  mc500.test.0.4      C\n",
      "1    mc500.test.1.1      C\n"
     ]
    }
   ],
   "source": [
    "thm_baseline_test = THM_classifier(test_stories, weights = [1,2,5,2,1])\n",
    "baseline_test_preds = thm_baseline_test.predict()\n",
    "baseline_test_preds['story_id'] = test_stories.T['story_id']\n",
    "baseline_test_preds = baseline_test_preds.melt(id_vars = ['story_id'])\n",
    "baseline_test_preds['variable'] += 1\n",
    "baseline_test_preds['story_id'] = baseline_test_preds['story_id'] + '.' + baseline_test_preds['variable'].astype(str)\n",
    "baseline_test_preds['sort'] = baseline_test_preds['story_id'].str.extract(r'\\.(\\d+)').astype(int)\n",
    "baseline_test_preds = baseline_test_preds.sort_values('sort', kind = 'stable').drop(columns=['sort','variable']).rename(columns={'story_id' : 'id', 'value' : 'answer'})\n",
    "print(baseline_test_preds.head())\n",
    "\n",
    "#temp.to_csv('./test_answers.csv', sep = ',', header = True, index = False)"
   ]
  },
  {
   "cell_type": "markdown",
   "metadata": {},
   "source": [
    "### Guess All C"
   ]
  },
  {
   "cell_type": "code",
   "execution_count": 8,
   "metadata": {},
   "outputs": [
    {
     "data": {
      "text/plain": [
       "0.2525"
      ]
     },
     "execution_count": 8,
     "metadata": {},
     "output_type": "execute_result"
    }
   ],
   "source": [
    "get_accuracy(train_preds.replace(['A','B','D'],'C'), train_answers)"
   ]
  },
  {
   "cell_type": "code",
   "execution_count": 9,
   "metadata": {},
   "outputs": [
    {
     "data": {
      "text/plain": [
       "0.275"
      ]
     },
     "execution_count": 9,
     "metadata": {},
     "output_type": "execute_result"
    }
   ],
   "source": [
    "get_accuracy(train_preds.replace(['A','B','D'],'C').iloc[:50], dev_answers)"
   ]
  },
  {
   "cell_type": "markdown",
   "metadata": {},
   "source": [
    "---\n",
    "## Entailment Model"
   ]
  },
  {
   "cell_type": "code",
   "execution_count": 10,
   "metadata": {},
   "outputs": [],
   "source": [
    "train_statements = load_stories('./data/Statements/mc500.train.statements.tsv')\n",
    "dev_statements = load_stories('./data/Statements/mc500.dev.statements.tsv')\n",
    "test_statements = load_stories('./data/Statements/mc500.test.statements.tsv')"
   ]
  },
  {
   "cell_type": "code",
   "execution_count": 11,
   "metadata": {},
   "outputs": [
    {
     "data": {
      "text/html": [
       "<div>\n",
       "<style scoped>\n",
       "    .dataframe tbody tr th:only-of-type {\n",
       "        vertical-align: middle;\n",
       "    }\n",
       "\n",
       "    .dataframe tbody tr th {\n",
       "        vertical-align: top;\n",
       "    }\n",
       "\n",
       "    .dataframe thead th {\n",
       "        text-align: right;\n",
       "    }\n",
       "</style>\n",
       "<table border=\"1\" class=\"dataframe\">\n",
       "  <thead>\n",
       "    <tr style=\"text-align: right;\">\n",
       "      <th></th>\n",
       "      <th>x1</th>\n",
       "      <th>x2</th>\n",
       "      <th>x3</th>\n",
       "      <th>x4</th>\n",
       "      <th>x5</th>\n",
       "      <th>x6</th>\n",
       "      <th>y</th>\n",
       "    </tr>\n",
       "  </thead>\n",
       "  <tbody>\n",
       "    <tr>\n",
       "      <th>0</th>\n",
       "      <td>-0.590093</td>\n",
       "      <td>-0.376703</td>\n",
       "      <td>-1.350949</td>\n",
       "      <td>-0.240255</td>\n",
       "      <td>0.153940</td>\n",
       "      <td>-0.048334</td>\n",
       "      <td>0</td>\n",
       "    </tr>\n",
       "    <tr>\n",
       "      <th>1</th>\n",
       "      <td>-0.171678</td>\n",
       "      <td>-0.376703</td>\n",
       "      <td>-1.139616</td>\n",
       "      <td>-0.240255</td>\n",
       "      <td>-0.033792</td>\n",
       "      <td>0.369405</td>\n",
       "      <td>1</td>\n",
       "    </tr>\n",
       "    <tr>\n",
       "      <th>2</th>\n",
       "      <td>-0.171678</td>\n",
       "      <td>-0.376703</td>\n",
       "      <td>-0.992221</td>\n",
       "      <td>-0.240255</td>\n",
       "      <td>0.153940</td>\n",
       "      <td>0.156273</td>\n",
       "      <td>0</td>\n",
       "    </tr>\n",
       "    <tr>\n",
       "      <th>3</th>\n",
       "      <td>-0.590093</td>\n",
       "      <td>-0.376703</td>\n",
       "      <td>-1.079965</td>\n",
       "      <td>-0.240255</td>\n",
       "      <td>-0.033792</td>\n",
       "      <td>0.162193</td>\n",
       "      <td>0</td>\n",
       "    </tr>\n",
       "    <tr>\n",
       "      <th>4</th>\n",
       "      <td>-0.365656</td>\n",
       "      <td>-0.019366</td>\n",
       "      <td>-0.715916</td>\n",
       "      <td>-0.240255</td>\n",
       "      <td>-0.033792</td>\n",
       "      <td>-0.464155</td>\n",
       "      <td>0</td>\n",
       "    </tr>\n",
       "  </tbody>\n",
       "</table>\n",
       "</div>"
      ],
      "text/plain": [
       "         x1        x2        x3        x4        x5        x6  y\n",
       "0 -0.590093 -0.376703 -1.350949 -0.240255  0.153940 -0.048334  0\n",
       "1 -0.171678 -0.376703 -1.139616 -0.240255 -0.033792  0.369405  1\n",
       "2 -0.171678 -0.376703 -0.992221 -0.240255  0.153940  0.156273  0\n",
       "3 -0.590093 -0.376703 -1.079965 -0.240255 -0.033792  0.162193  0\n",
       "4 -0.365656 -0.019366 -0.715916 -0.240255 -0.033792 -0.464155  0"
      ]
     },
     "execution_count": 11,
     "metadata": {},
     "output_type": "execute_result"
    }
   ],
   "source": [
    "rte_model = RTE_classifier(train_answers)\n",
    "train_df = rte_model.create_features(train_statements)\n",
    "train_df.head()"
   ]
  },
  {
   "cell_type": "code",
   "execution_count": 12,
   "metadata": {},
   "outputs": [
    {
     "name": "stdout",
     "output_type": "stream",
     "text": [
      "{'alpha': 0.01, 'eta0': 0.1, 'l1_ratio': 0.01, 'learning_rate': 'adaptive', 'loss': 'squared_hinge', 'max_iter': 10000, 'penalty': 'elasticnet'}\n",
      "RTE Training Accuracy on MC500: 0.475\n"
     ]
    }
   ],
   "source": [
    "rte_model.train(train_df)\n",
    "train_preds = rte_model.predict(train_df.drop(columns = 'y'))\n",
    "print(f\"RTE Training Accuracy on MC500: {get_accuracy(train_preds['best'].values.reshape(-4,4), train_answers)}\")"
   ]
  },
  {
   "cell_type": "code",
   "execution_count": 13,
   "metadata": {},
   "outputs": [
    {
     "name": "stdout",
     "output_type": "stream",
     "text": [
      "RTE Training Accuracy on Dev Set with Weights = [1, 1, 1, 1, 1]: 0.5\n",
      "RTE Training Accuracy on Dev Set with Weights = [1, 2, 7, 2, 1]: 0.565\n",
      "RTE Training Accuracy on Dev Set with Weights = [1, 3, 13, 3, 1]: 0.565\n",
      "RTE Training Accuracy on Dev Set with Weights = [1, 4, 19, 4, 1]: 0.575\n",
      "RTE Training Accuracy on Dev Set with Weights = [1, 5, 25, 5, 1]: 0.58\n"
     ]
    }
   ],
   "source": [
    "weights = [1,1,1,1,1]\n",
    "for ws in range(5):\n",
    "    rte_model.lambdas = weights\n",
    "    dev_df = rte_model.create_features(dev_statements)\n",
    "    dev_preds = rte_model.predict(dev_df.drop(columns = 'y'))\n",
    "    print(f\"RTE Training Accuracy on Dev Set with Weights = {weights}: {get_accuracy(dev_preds['best'].values.reshape(-4,4), dev_answers)}\")\n",
    "    weights[1] += 1\n",
    "    weights[2] += 6\n",
    "    weights[3] += 1"
   ]
  },
  {
   "cell_type": "code",
   "execution_count": 14,
   "metadata": {},
   "outputs": [],
   "source": [
    "rte_model.lambdas =  [1,5,25,5,1]"
   ]
  },
  {
   "cell_type": "code",
   "execution_count": 15,
   "metadata": {},
   "outputs": [
    {
     "data": {
      "text/html": [
       "<div>\n",
       "<style scoped>\n",
       "    .dataframe tbody tr th:only-of-type {\n",
       "        vertical-align: middle;\n",
       "    }\n",
       "\n",
       "    .dataframe tbody tr th {\n",
       "        vertical-align: top;\n",
       "    }\n",
       "\n",
       "    .dataframe thead th {\n",
       "        text-align: right;\n",
       "    }\n",
       "</style>\n",
       "<table border=\"1\" class=\"dataframe\">\n",
       "  <thead>\n",
       "    <tr style=\"text-align: right;\">\n",
       "      <th></th>\n",
       "      <th>A</th>\n",
       "      <th>B</th>\n",
       "      <th>C</th>\n",
       "      <th>D</th>\n",
       "      <th>best</th>\n",
       "    </tr>\n",
       "  </thead>\n",
       "  <tbody>\n",
       "    <tr>\n",
       "      <th>0</th>\n",
       "      <td>0.243517</td>\n",
       "      <td>0.244315</td>\n",
       "      <td>0.243750</td>\n",
       "      <td>0.268418</td>\n",
       "      <td>D</td>\n",
       "    </tr>\n",
       "    <tr>\n",
       "      <th>1</th>\n",
       "      <td>0.252504</td>\n",
       "      <td>0.251554</td>\n",
       "      <td>0.247324</td>\n",
       "      <td>0.248619</td>\n",
       "      <td>A</td>\n",
       "    </tr>\n",
       "    <tr>\n",
       "      <th>2</th>\n",
       "      <td>0.242181</td>\n",
       "      <td>0.240963</td>\n",
       "      <td>0.276390</td>\n",
       "      <td>0.240466</td>\n",
       "      <td>C</td>\n",
       "    </tr>\n",
       "    <tr>\n",
       "      <th>3</th>\n",
       "      <td>0.260798</td>\n",
       "      <td>0.242483</td>\n",
       "      <td>0.254229</td>\n",
       "      <td>0.242490</td>\n",
       "      <td>A</td>\n",
       "    </tr>\n",
       "    <tr>\n",
       "      <th>4</th>\n",
       "      <td>0.235833</td>\n",
       "      <td>0.250272</td>\n",
       "      <td>0.242827</td>\n",
       "      <td>0.271068</td>\n",
       "      <td>D</td>\n",
       "    </tr>\n",
       "  </tbody>\n",
       "</table>\n",
       "</div>"
      ],
      "text/plain": [
       "          A         B         C         D best\n",
       "0  0.243517  0.244315  0.243750  0.268418    D\n",
       "1  0.252504  0.251554  0.247324  0.248619    A\n",
       "2  0.242181  0.240963  0.276390  0.240466    C\n",
       "3  0.260798  0.242483  0.254229  0.242490    A\n",
       "4  0.235833  0.250272  0.242827  0.271068    D"
      ]
     },
     "execution_count": 15,
     "metadata": {},
     "output_type": "execute_result"
    }
   ],
   "source": [
    "test_df = rte_model.create_features(test_statements).drop(columns = 'y')\n",
    "test_preds = rte_model.predict(test_df)\n",
    "test_preds.head()"
   ]
  },
  {
   "cell_type": "code",
   "execution_count": 16,
   "metadata": {},
   "outputs": [],
   "source": [
    "pd.DataFrame(\n",
    "    {\n",
    "        'id' : baseline_test_preds['id'].values,\n",
    "        'answer' : test_preds['best'].values\n",
    "    }\n",
    ").to_csv('./test_answers.csv', sep = ',', header = True, index = False)"
   ]
  }
 ],
 "metadata": {
  "kernelspec": {
   "display_name": "base",
   "language": "python",
   "name": "python3"
  },
  "language_info": {
   "codemirror_mode": {
    "name": "ipython",
    "version": 3
   },
   "file_extension": ".py",
   "mimetype": "text/x-python",
   "name": "python",
   "nbconvert_exporter": "python",
   "pygments_lexer": "ipython3",
   "version": "3.11.4"
  }
 },
 "nbformat": 4,
 "nbformat_minor": 2
}
