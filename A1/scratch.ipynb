{
 "cells": [
  {
   "cell_type": "code",
   "execution_count": 1,
   "metadata": {},
   "outputs": [],
   "source": [
    "'''Homework 1 Python Questions\n",
    "\n",
    "This is an individual homework\n",
    "Implement the following functions.\n",
    "\n",
    "Do not add any more import lines to this file than the ones\n",
    "already here without asking for permission on Canvas.\n",
    "'''\n",
    "\n",
    "import re"
   ]
  },
  {
   "cell_type": "code",
   "execution_count": 2,
   "metadata": {},
   "outputs": [],
   "source": [
    "def check_for_foo_or_bar(text):\n",
    "   '''Checks whether the input string meets the following condition.\n",
    "\n",
    "   The string must have both the word 'foo' and the word 'bar' in it,\n",
    "   whitespace- or punctuation-delimited from other words.\n",
    "   (not, e.g., words like 'foobar' or 'bart' that merely contain\n",
    "    the word 'bar');\n",
    "\n",
    "   See the Python regular expression documentation:\n",
    "   https://docs.python.org/3.4/library/re.html#match-objects\n",
    "\n",
    "   Return:\n",
    "     True if the condition is met, false otherwise.\n",
    "   '''\n",
    "\n",
    "   test = re.split('\\W+', text)\n",
    "   print(test)\n",
    "\n",
    "   if ('foo' in test) and ('bar') in test:\n",
    "      return True\n",
    "   else:\n",
    "      return False"
   ]
  },
  {
   "cell_type": "code",
   "execution_count": 3,
   "metadata": {},
   "outputs": [
    {
     "name": "stdout",
     "output_type": "stream",
     "text": [
      "['fooaafoo', 'foo', 'bar']\n"
     ]
    },
    {
     "data": {
      "text/plain": [
       "True"
      ]
     },
     "execution_count": 3,
     "metadata": {},
     "output_type": "execute_result"
    }
   ],
   "source": [
    "check_for_foo_or_bar(\"fooaafoo,foo.bar\")"
   ]
  },
  {
   "cell_type": "code",
   "execution_count": 84,
   "metadata": {},
   "outputs": [],
   "source": [
    "def replace_rgb(text):\n",
    "  '''Replaces all RGB or hex colors with the word 'COLOR'\n",
    "\n",
    "  Possible formats for a color string:\n",
    "  #0f0\n",
    "  #0b013a\n",
    "  #37EfaA\n",
    "  rgb(1, 1, 1)\n",
    "  rgb(255,19,32)\n",
    "  rgb(00,01, 18)\n",
    "  rgb(0.1, 0.5,1.0)\n",
    "\n",
    "  There is no need to try to recognize rgba or other formats not listed \n",
    "  above. There is also no need to validate the ranges of the rgb values.\n",
    "\n",
    "  However, you should make sure all numbers are indeed valid numbers.\n",
    "  For example, '#xyzxyz' should return false as these are not valid hex digits.\n",
    "  Similarly, 'rgb(c00l, 255, 255)' should return false.\n",
    "\n",
    "  Only replace matching colors which are at the beginning or end of the line,\n",
    "  or are space separated from the text around them. For example, due to the \n",
    "  trailing period:\n",
    "\n",
    "  'I like rgb(1, 2, 3) and rgb(2, 3, 4).' becomes 'I like COLOR and rgb(2, 3, 4).'\n",
    "\n",
    "  # See the Python regular expression documentation:\n",
    "  https://docs.python.org/3.4/library/re.html#re.sub\n",
    "\n",
    "  Returns:\n",
    "  The text with all RGB or hex colors replaces with the word 'COLOR'\n",
    "  '''\n",
    "\n",
    "  sentence = text.lower()\n",
    "  form1 = re.compile(r\"\\s+rgb\\(\\d+\\.*\\d*,\\s*\\d+\\.*\\d*,\\s*\\d+\\.*\\d*\\)\\s+\")\n",
    "  form2 = re.compile(r\"\\s+#[0-9a-f]{3}\\s+\")\n",
    "  form3 = re.compile(r\"\\s+#[0-9a-f]{6}\\s+\")\n",
    "\n",
    "  forms = [\n",
    "    form1,\n",
    "    form2,\n",
    "    form3\n",
    "  ]\n",
    "\n",
    "  x = sentence\n",
    "  for f in forms:\n",
    "    x = f.sub(' COLOR ', x)\n",
    "\n",
    "  return x"
   ]
  },
  {
   "cell_type": "code",
   "execution_count": 61,
   "metadata": {},
   "outputs": [
    {
     "name": "stdout",
     "output_type": "stream",
     "text": [
      "I like COLOR and COLOR and COLOR and rgb(2, 3, 4).\n"
     ]
    }
   ],
   "source": [
    "replace_rgb(\"I like rgb(255,19,32) and #0f0 and #0b013a and rgb(2, 3, 4).\")"
   ]
  },
  {
   "cell_type": "code",
   "execution_count": 62,
   "metadata": {},
   "outputs": [
    {
     "name": "stdout",
     "output_type": "stream",
     "text": [
      "I like rgb(c00l, 255, 255) and COLOR and #xzyzy and rgb(2, 3, 4).\n"
     ]
    }
   ],
   "source": [
    "replace_rgb(\"I like rgb(c00l, 255, 255) and #0f0 and #xzyzy and rgb(2, 3, 4).\")"
   ]
  },
  {
   "cell_type": "code",
   "execution_count": 86,
   "metadata": {},
   "outputs": [],
   "source": [
    "test_strings = [\n",
    "    'I like rgb(1,1,1) and rgb(1, 1, 1) and rgb(0.1, 0.5,1.0).',\n",
    "    'I like rgb(255,19,32) and rgb(255, 19, 32) and rgb(0.1, 0.5,1.0).',\n",
    "    'I like rgb(00,01, 18) and rgb(00, 01, 18) and rgb(0.1, 0.5,1.0).',\n",
    "    'I like rgb(0.1, 0.5,1.0) and rgb(0.1, 0.5, 1.0) and rgb(0.1, 0.5,1.0).',\n",
    "    'I like rgb(1.1, 10.5,1.0) and rgb(0.1, 0.25, 1.0) and rgb(0.1, 0.5,1.0).'\n",
    "]"
   ]
  },
  {
   "cell_type": "code",
   "execution_count": 87,
   "metadata": {},
   "outputs": [
    {
     "name": "stdout",
     "output_type": "stream",
     "text": [
      "i like COLOR and COLOR and rgb(0.1, 0.5,1.0).\n",
      "i like COLOR and COLOR and rgb(0.1, 0.5,1.0).\n",
      "i like COLOR and COLOR and rgb(0.1, 0.5,1.0).\n",
      "i like COLOR and COLOR and rgb(0.1, 0.5,1.0).\n",
      "i like COLOR and COLOR and rgb(0.1, 0.5,1.0).\n"
     ]
    }
   ],
   "source": [
    "for t in test_strings:\n",
    "    replace_rgb(t)"
   ]
  },
  {
   "cell_type": "code",
   "execution_count": 6,
   "metadata": {},
   "outputs": [],
   "source": [
    "import string"
   ]
  },
  {
   "cell_type": "markdown",
   "metadata": {},
   "source": [
    "   Process the two files to answer the following questions and output results to stdout.\n",
    "\n",
    "   1. What is the distribution over star ratings?\n",
    "   2. What are the 10 most common words used across all of the reviews, and how many times\n",
    "      is each used?\n",
    "   3. How many times does the word 'a' appear?\n",
    "   4. How many times does the word 'fruit' appear?\n",
    "   5. How many times does the word 'mineral' appear?\n",
    "   6. Common words (like 'a') are not as interesting as uncommon words (like 'mineral').\n",
    "      In natural language processing, we call these common words \"stop words\" and often\n",
    "      remove them before we process text. stopwords.txt gives you a list of some very\n",
    "      common words. Remove these stopwords from your reviews. Also, try converting all the\n",
    "      words to lower case (since we probably don't want to count 'fruit' and 'Fruit' as two\n",
    "      different words). Now what are the 10 most common words across all of the reviews,\n",
    "      and how many times is each used?\n",
    "   7. You should continue to use the preprocessed reviews for the following questions\n",
    "      (lower-cased, no stopwords).  What are the 10 most used words among the 5 star\n",
    "      reviews, and how many times is each used? \n",
    "   8. What are the 10 most used words among the 1 star reviews, and how many times is\n",
    "      each used? \n",
    "   9. Gather two sets of reviews: 1) Those that use the word \"red\" and 2) those that use the word\n",
    "      \"white\". What are the 10 most frequent words in the \"red\" reviews which do NOT appear in the\n",
    "      \"white\" reviews?\n",
    "   10. What are the 10 most frequent words in the \"white\" reviews which do NOT appear in the \"red\"\n",
    "      reviews?\n",
    "\n",
    "   No return value."
   ]
  },
  {
   "cell_type": "code",
   "execution_count": 7,
   "metadata": {},
   "outputs": [],
   "source": [
    "def wine_text_processing(wine_file_path, stopwords_file_path):\n",
    "   words = {}\n",
    "   sorted_words = {}\n",
    "   processed_words = {}\n",
    "   sorted_processed_words = {}\n",
    "   processed_by_stars = {\n",
    "      1 : {},\n",
    "      2 : {},\n",
    "   }\n",
    "   processed_by_wine = {\n",
    "      1 : {},\n",
    "      2 : {},\n",
    "   }\n",
    "   stars = set(['*' * i for i in range(1,6)])\n",
    "   \n",
    "\n",
    "   with open(wine_file_path, encoding = \"ISO-8859-1\") as f:\n",
    "      wine = f.readlines()\n",
    "\n",
    "   with open(stopwords_file_path, encoding = \"ISO-8859-1\") as f:\n",
    "      stops = f.readlines()\n",
    "   stop_words = set([s.strip() for s in stops])\n",
    "\n",
    "   for w in wine:\n",
    "      split = re.split('[^a-zA-Z0-9_*\\S]',w)\n",
    "      #print(split)\n",
    "      for i in split:\n",
    "         if i == '': continue\n",
    "         if i in words:\n",
    "            words[i] += 1\n",
    "\n",
    "         else:\n",
    "            words[i] = 1\n",
    "\n",
    "   print(\"Question 1 Outputs:\")\n",
    "   for i in ['*' * k for k in range(1,6)]:\n",
    "      print(f\"{words.pop(i) : <5} {i : >5}\")\n",
    "   sorted_words = dict(sorted(words.items(), key = lambda x: x[1], reverse = True)[:10])\n",
    "\n",
    "   print(\"\\nQuestion 2 Outputs:\")\n",
    "   for k,v in sorted_words.items():\n",
    "      print(f\"{v : <3} {k : >5}\")\n",
    "\n",
    "   print(\"\\nQuestion 3 Outputs:\")\n",
    "   print(words['a'])\n",
    "\n",
    "   print(\"\\nQuestion 4 Outputs:\")\n",
    "   print(words['fruit'])\n",
    "\n",
    "   print(\"\\nQuestion 5 Outputs:\")\n",
    "   print(words['mineral'])\n",
    "   \n",
    "   star = 0\n",
    "   wine_type = 0\n",
    "   for w in wine:\n",
    "      split = re.split('[^a-zA-Z0-9_*\\S]',w.lower())\n",
    "\n",
    "      if '*' in split: star = 1\n",
    "      elif '*****' in split: star = 2\n",
    "      else: star = 0\n",
    "\n",
    "      if 'red' in split: wine_type = 1\n",
    "      elif 'white' in split: wine_type = 2\n",
    "      else: wine_type = 0\n",
    "\n",
    "      for i in split:\n",
    "         if i == '' or i in stop_words or i in stars: continue\n",
    "         if i in processed_words:\n",
    "            processed_words[i] += 1\n",
    "         else:\n",
    "            processed_words[i] = 1\n",
    "\n",
    "         if star != 0:\n",
    "            if i in processed_by_stars[star]:\n",
    "               processed_by_stars[star][i] += 1\n",
    "            else:\n",
    "               processed_by_stars[star][i] = 1\n",
    "\n",
    "         if wine_type != 0:\n",
    "            if i in processed_by_wine[wine_type]:\n",
    "               processed_by_wine[wine_type][i] += 1\n",
    "            else:\n",
    "               processed_by_wine[wine_type][i] = 1\n",
    "\n",
    "   print(\"\\nQuestion 6 Outputs:\")\n",
    "   for k,v in dict(sorted(processed_words.items(), key = lambda x: x[1], reverse = True)[:10]).items():\n",
    "      print(f\"{v : <3} {k : >5}\")\n",
    "\n",
    "   print('\\nQuestion 7 Outputs:')\n",
    "   for k,v in dict(sorted(processed_by_stars[2].items(), key = lambda x: x[1], reverse = True)[:10]).items():\n",
    "      print(f\"{v : <3} {k : >5}\")\n",
    "\n",
    "   print('\\nQuestion 8 Outputs:')\n",
    "   for k,v in dict(sorted(processed_by_stars[1].items(), key = lambda x: x[1], reverse = True)[:10]).items():\n",
    "      print(f\"{v : <3} {k : >5}\")\n",
    "\n",
    "   print('\\nQuestion 9 Output:')\n",
    "   for k,v in dict(sorted(\n",
    "      {k : v for k,v in processed_by_wine[1].items() if k not in processed_by_wine[2]}.items(),\n",
    "      key = lambda x: x[1], reverse = True)[:10]).items():\n",
    "      print(f\"{v : <3} {k : >5}\")\n",
    "   \n",
    "\n",
    "   print('\\nQuestion 10 Output:')\n",
    "   for k,v in dict(sorted(\n",
    "      {k : v for k,v in processed_by_wine[2].items() if k not in processed_by_wine[1]}.items(),\n",
    "      key = lambda x: x[1], reverse = True)[:10]).items():\n",
    "      print(f\"{v : <3} {k : >5}\")"
   ]
  },
  {
   "cell_type": "code",
   "execution_count": 8,
   "metadata": {},
   "outputs": [
    {
     "name": "stdout",
     "output_type": "stream",
     "text": [
      "Question 1 Outputs:\n",
      "43        *\n",
      "162      **\n",
      "499     ***\n",
      "177    ****\n",
      "53    *****\n",
      "\n",
      "Question 2 Outputs:\n",
      "623     a\n",
      "587   and\n",
      "521   the\n",
      "389     -\n",
      "366    of\n",
      "365   but\n",
      "251     I\n",
      "237    to\n",
      "207  with\n",
      "196    it\n",
      "\n",
      "Question 3 Outputs:\n",
      "623\n",
      "\n",
      "Question 4 Outputs:\n",
      "103\n",
      "\n",
      "Question 5 Outputs:\n",
      "13\n",
      "\n",
      "Question 6 Outputs:\n",
      "389     -\n",
      "229 quite\n",
      "206  good\n",
      "195   top\n",
      "153   bit\n",
      "125 touch\n",
      "115  wine\n",
      "107 fruit\n",
      "107  bare\n",
      "104 rather\n",
      "\n",
      "Question 7 Outputs:\n",
      "17      -\n",
      "13  lovely\n",
      "11  lovely.\n",
      "9    bare\n",
      "8   really\n",
      "7    fine\n",
      "6   nose.\n",
      "6   fruit.\n",
      "6   quite\n",
      "5   palate.\n",
      "\n",
      "Question 8 Outputs:\n",
      "18      -\n",
      "10    bit\n",
      "8     top\n",
      "7    wine\n",
      "6   rather\n",
      "5   touch\n",
      "5   fruit\n",
      "4   fruit.\n",
      "4   slightly\n",
      "3   might\n",
      "\n",
      "Question 9 Output:\n",
      "11    red\n",
      "2   bright,\n",
      "2   fruits.\n",
      "2    bone\n",
      "2   fairly\n",
      "2   seems\n",
      "2   champagne.\n",
      "2   fruits,\n",
      "1   crisp\n",
      "1   excellent\n",
      "\n",
      "Question 10 Output:\n",
      "16  white\n",
      "3   flavours.\n",
      "3   drink\n",
      "3   bottle\n",
      "3   wines\n",
      "3   bread\n",
      "2     lot\n",
      "2    back\n",
      "2   stuff\n",
      "2   acidity\n"
     ]
    }
   ],
   "source": [
    "wine_text_processing('data/wine.txt', 'data/stopwords.txt')"
   ]
  }
 ],
 "metadata": {
  "kernelspec": {
   "display_name": "base",
   "language": "python",
   "name": "python3"
  },
  "language_info": {
   "codemirror_mode": {
    "name": "ipython",
    "version": 3
   },
   "file_extension": ".py",
   "mimetype": "text/x-python",
   "name": "python",
   "nbconvert_exporter": "python",
   "pygments_lexer": "ipython3",
   "version": "3.11.4"
  },
  "orig_nbformat": 4
 },
 "nbformat": 4,
 "nbformat_minor": 2
}
