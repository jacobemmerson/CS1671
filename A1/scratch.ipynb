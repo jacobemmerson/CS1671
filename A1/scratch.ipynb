{
 "cells": [
  {
   "cell_type": "code",
   "execution_count": 140,
   "metadata": {},
   "outputs": [],
   "source": [
    "'''Homework 1 Python Questions\n",
    "\n",
    "This is an individual homework\n",
    "Implement the following functions.\n",
    "\n",
    "Do not add any more import lines to this file than the ones\n",
    "already here without asking for permission on Canvas.\n",
    "'''\n",
    "\n",
    "import re"
   ]
  },
  {
   "cell_type": "code",
   "execution_count": 141,
   "metadata": {},
   "outputs": [],
   "source": [
    "def check_for_foo_or_bar(text):\n",
    "   '''Checks whether the input string meets the following condition.\n",
    "\n",
    "   The string must have both the word 'foo' and the word 'bar' in it,\n",
    "   whitespace- or punctuation-delimited from other words.\n",
    "   (not, e.g., words like 'foobar' or 'bart' that merely contain\n",
    "    the word 'bar');\n",
    "\n",
    "   See the Python regular expression documentation:\n",
    "   https://docs.python.org/3.4/library/re.html#match-objects\n",
    "\n",
    "   Return:\n",
    "     True if the condition is met, false otherwise.\n",
    "   '''\n",
    "\n",
    "   test = re.split('\\W+', text)\n",
    "   print(test)\n",
    "\n",
    "   if ('foo' in test) and ('bar') in test:\n",
    "      return True\n",
    "   else:\n",
    "      return False"
   ]
  },
  {
   "cell_type": "code",
   "execution_count": 142,
   "metadata": {},
   "outputs": [
    {
     "name": "stdout",
     "output_type": "stream",
     "text": [
      "['fooaafoo', 'foo', 'bar']\n"
     ]
    },
    {
     "data": {
      "text/plain": [
       "True"
      ]
     },
     "execution_count": 142,
     "metadata": {},
     "output_type": "execute_result"
    }
   ],
   "source": [
    "check_for_foo_or_bar(\"fooaafoo,foo.bar\")"
   ]
  },
  {
   "cell_type": "code",
   "execution_count": 143,
   "metadata": {},
   "outputs": [],
   "source": [
    "def replace_rgb(text):\n",
    "  '''Replaces all RGB or hex colors with the word 'COLOR'\n",
    "\n",
    "  Possible formats for a color string:\n",
    "  #0f0\n",
    "  #0b013a\n",
    "  #37EfaA\n",
    "  rgb(1, 1, 1)\n",
    "  rgb(255,19,32)\n",
    "  rgb(00,01, 18)\n",
    "  rgb(0.1, 0.5,1.0)\n",
    "\n",
    "  There is no need to try to recognize rgba or other formats not listed \n",
    "  above. There is also no need to validate the ranges of the rgb values.\n",
    "\n",
    "  However, you should make sure all numbers are indeed valid numbers.\n",
    "  For example, '#xyzxyz' should return false as these are not valid hex digits.\n",
    "  Similarly, 'rgb(c00l, 255, 255)' should return false.\n",
    "\n",
    "  Only replace matching colors which are at the beginning or end of the line,\n",
    "  or are space separated from the text around them. For example, due to the \n",
    "  trailing period:\n",
    "\n",
    "  'I like rgb(1, 2, 3) and rgb(2, 3, 4).' becomes 'I like COLOR and rgb(2, 3, 4).'\n",
    "\n",
    "  # See the Python regular expression documentation:\n",
    "  https://docs.python.org/3.4/library/re.html#re.sub\n",
    "\n",
    "  Returns:\n",
    "  The text with all RGB or hex colors replaces with the word 'COLOR'\n",
    "  '''\n",
    "  word = re.split(\"(rgb\\(\\))\", text)\n",
    "  pattern = re.compile(\"\")\n",
    "  print(word)\n",
    "\n",
    "  return (\"\").join(word)"
   ]
  },
  {
   "cell_type": "code",
   "execution_count": 144,
   "metadata": {},
   "outputs": [
    {
     "name": "stdout",
     "output_type": "stream",
     "text": [
      "['I like rgb(1, 2, 3) and rgb(2, 3, 4).']\n"
     ]
    },
    {
     "data": {
      "text/plain": [
       "'I like rgb(1, 2, 3) and rgb(2, 3, 4).'"
      ]
     },
     "execution_count": 144,
     "metadata": {},
     "output_type": "execute_result"
    }
   ],
   "source": [
    "replace_rgb(\"I like rgb(1, 2, 3) and rgb(2, 3, 4).\")"
   ]
  },
  {
   "cell_type": "code",
   "execution_count": 145,
   "metadata": {},
   "outputs": [],
   "source": [
    "import string"
   ]
  },
  {
   "cell_type": "code",
   "execution_count": 304,
   "metadata": {},
   "outputs": [],
   "source": [
    "def wine_text_processing(wine_file_path, stopwords_file_path):\n",
    "   '''Process the two files to answer the following questions and output results to stdout.\n",
    "\n",
    "   1. What is the distribution over star ratings?\n",
    "   2. What are the 10 most common words used across all of the reviews, and how many times\n",
    "      is each used?\n",
    "   3. How many times does the word 'a' appear?\n",
    "   4. How many times does the word 'fruit' appear?\n",
    "   5. How many times does the word 'mineral' appear?\n",
    "   6. Common words (like 'a') are not as interesting as uncommon words (like 'mineral').\n",
    "      In natural language processing, we call these common words \"stop words\" and often\n",
    "      remove them before we process text. stopwords.txt gives you a list of some very\n",
    "      common words. Remove these stopwords from your reviews. Also, try converting all the\n",
    "      words to lower case (since we probably don't want to count 'fruit' and 'Fruit' as two\n",
    "      different words). Now what are the 10 most common words across all of the reviews,\n",
    "      and how many times is each used?\n",
    "   7. You should continue to use the preprocessed reviews for the following questions\n",
    "      (lower-cased, no stopwords).  What are the 10 most used words among the 5 star\n",
    "      reviews, and how many times is each used? \n",
    "   8. What are the 10 most used words among the 1 star reviews, and how many times is\n",
    "      each used? \n",
    "   9. Gather two sets of reviews: 1) Those that use the word \"red\" and 2) those that use the word\n",
    "      \"white\". What are the 10 most frequent words in the \"red\" reviews which do NOT appear in the\n",
    "      \"white\" reviews?\n",
    "   10. What are the 10 most frequent words in the \"white\" reviews which do NOT appear in the \"red\"\n",
    "      reviews?\n",
    "\n",
    "   No return value.\n",
    "   '''\n",
    "\n",
    "   words = {}\n",
    "   sorted_words = {}\n",
    "   processed_words = {}\n",
    "   sorted_processed_words = {}\n",
    "\n",
    "   with open(wine_file_path, encoding = \"ISO-8859-1\") as f:\n",
    "      wine = f.readlines()\n",
    "\n",
    "   with open(stopwords_file_path, encoding = \"ISO-8859-1\") as f:\n",
    "      stops = f.readlines()\n",
    "   stop_words = set([s.strip() for s in stops])\n",
    "\n",
    "   for w in wine:\n",
    "      split = re.split('[^a-zA-Z0-9_*\\S]',w)\n",
    "      #print(split)\n",
    "      for i in split:\n",
    "         if i == '': continue\n",
    "         if i in words:\n",
    "            words[i] += 1\n",
    "\n",
    "         else:\n",
    "            words[i] = 1\n",
    "   '''\n",
    "   print(\"Question 1 Outputs:\")\n",
    "   for i in ['*' * k for k in range(1,6)]:\n",
    "      print(f\"{i : <5} {words.pop(i) : >3}\")\n",
    "   sorted_words = dict(sorted(words.items(), key = lambda x: x[1], reverse = True)[:10])\n",
    "\n",
    "   print(\"\\nQuestion 2 Outputs:\")\n",
    "   for k,v in sorted_words.items():\n",
    "      print(f\"{v : <3} {k : >5}\")\n",
    "\n",
    "   print(\"\\nQuestion 3 Outputs:\")\n",
    "   print(words['a'])\n",
    "\n",
    "   print(\"\\nQuestion 4 Outputs:\")\n",
    "   print(words['fruit'])\n",
    "\n",
    "   print(\"\\nQuestion 5 Outputs:\")\n",
    "   print(words['mineral'])\n",
    "   '''\n",
    "   \n",
    "   for w in wine:\n",
    "      split = re.split('[^a-zA-Z0-9_*\\S]',w.lower())\n",
    "      for i in split:\n",
    "         if i == '' or i in stop_words: continue\n",
    "\n",
    "         if i in processed_words:\n",
    "            processed_words[i] += 1\n",
    "         else:\n",
    "            processed_words[i] = 1\n",
    "\n",
    "   for i in ['*' * i for i in range(1,6)]:\n",
    "      processed_words.pop(i)\n",
    "   sorted_processed_words = dict(sorted(processed_words.items(), key = lambda x: x[1], reverse = True)[:10])\n",
    "\n",
    "   print(\"\\nQuestion 6 Outputs:\")\n",
    "   for k,v in sorted_processed_words.items():\n",
    "      print(f\"{v : <3} {k : >5}\")"
   ]
  },
  {
   "cell_type": "code",
   "execution_count": 305,
   "metadata": {},
   "outputs": [
    {
     "name": "stdout",
     "output_type": "stream",
     "text": [
      "\n",
      "Question 6 Outputs:\n",
      "389     -\n",
      "229 quite\n",
      "206  good\n",
      "195   top\n",
      "153   bit\n",
      "125 touch\n",
      "115  wine\n",
      "107 fruit\n",
      "107  bare\n",
      "104 rather\n"
     ]
    }
   ],
   "source": [
    "wine_text_processing('data/wine.txt', 'data/stopwords.txt')"
   ]
  },
  {
   "cell_type": "code",
   "execution_count": 148,
   "metadata": {},
   "outputs": [
    {
     "data": {
      "text/plain": [
       "['*', '**', '***', '****', '*****']"
      ]
     },
     "execution_count": 148,
     "metadata": {},
     "output_type": "execute_result"
    }
   ],
   "source": [
    "['*'*i for i in range(1,6)]"
   ]
  },
  {
   "cell_type": "code",
   "execution_count": 259,
   "metadata": {},
   "outputs": [
    {
     "data": {
      "text/plain": [
       "'myself'"
      ]
     },
     "execution_count": 259,
     "metadata": {},
     "output_type": "execute_result"
    }
   ],
   "source": [
    "\"myself\\n\""
   ]
  }
 ],
 "metadata": {
  "kernelspec": {
   "display_name": "base",
   "language": "python",
   "name": "python3"
  },
  "language_info": {
   "codemirror_mode": {
    "name": "ipython",
    "version": 3
   },
   "file_extension": ".py",
   "mimetype": "text/x-python",
   "name": "python",
   "nbconvert_exporter": "python",
   "pygments_lexer": "ipython3",
   "version": "3.11.4"
  },
  "orig_nbformat": 4
 },
 "nbformat": 4,
 "nbformat_minor": 2
}
