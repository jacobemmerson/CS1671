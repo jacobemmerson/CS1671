{
 "cells": [
  {
   "cell_type": "code",
   "execution_count": 9,
   "metadata": {},
   "outputs": [],
   "source": [
    "import math, random, string"
   ]
  },
  {
   "cell_type": "code",
   "execution_count": 10,
   "metadata": {},
   "outputs": [],
   "source": [
    "################################################################################\n",
    "# Part 0: Utility Functions\n",
    "################################################################################\n",
    "\n",
    "COUNTRY_CODES = ['af', 'cn', 'de', 'fi', 'fr', 'in', 'ir', 'pk', 'za']\n",
    "\n",
    "def start_pad(c):\n",
    "    ''' Returns a padding string of length n to append to the front of text\n",
    "        as a pre-processing step to building n-grams '''\n",
    "    return '~' * c\n",
    "\n",
    "def ngrams(c, text):\n",
    "    ''' Returns the ngrams of the text as tuples where the first element is\n",
    "        the length-n context and the second is the character '''\n",
    "    \n",
    "    # sliding window\n",
    "    ng = []\n",
    "    for x in range(len(text)):\n",
    "        char = text[x]\n",
    "        if x < c:\n",
    "            context = start_pad(c - x) + text[:x] # x = 0, 0 chars, x = 1, 1 char, etc\n",
    "        else:\n",
    "            context = text[x-c:x]\n",
    "\n",
    "        ng.append((context, char))\n",
    "    return ng\n",
    "\n",
    "def create_ngram_model(model_class, path, c=2, k=0):\n",
    "    ''' Creates and returns a new n-gram model '''\n",
    "    model = model_class(c, k)\n",
    "    with open(path, encoding='utf-8', errors='ignore') as f:\n",
    "        model.update(f.read())\n",
    "    return model"
   ]
  },
  {
   "cell_type": "code",
   "execution_count": 11,
   "metadata": {},
   "outputs": [
    {
     "data": {
      "text/plain": [
       "[('~~~', 'a'),\n",
       " ('~~a', 'b'),\n",
       " ('~ab', 'c'),\n",
       " ('abc', 'a'),\n",
       " ('bca', 'b'),\n",
       " ('cab', 'c')]"
      ]
     },
     "execution_count": 11,
     "metadata": {},
     "output_type": "execute_result"
    }
   ],
   "source": [
    "ngrams(3, 'abcabc')"
   ]
  },
  {
   "cell_type": "code",
   "execution_count": 77,
   "metadata": {},
   "outputs": [],
   "source": [
    "################################################################################\n",
    "# Part 1: Basic N-Gram Model\n",
    "################################################################################\n",
    "\n",
    "class NgramModel(object):\n",
    "    ''' A basic n-gram model using add-k smoothing '''\n",
    "\n",
    "    def __init__(self, c, k):\n",
    "        self.ngram_max = c\n",
    "        self.smooth_par = k\n",
    "        self.vocab = set()\n",
    "        self.wc = {}\n",
    "\n",
    "    def get_vocab(self):\n",
    "        ''' Returns the set of characters in the vocab '''\n",
    "        return self.vocab\n",
    "\n",
    "    def update(self, text):\n",
    "        ''' Updates the model n-grams based on text '''\n",
    "        unique = set(text)\n",
    "        self.vocab = self.vocab | unique # | = union\n",
    "        wc = self.wc\n",
    "        for g in ngrams(self.ngram_max, text):\n",
    "            if g[0] in wc:\n",
    "                if g[1] in wc[g[0]]:\n",
    "                    wc[g[0]][g[1]] += 1\n",
    "                else:\n",
    "                    wc[g[0]][g[1]] = 1\n",
    "            else:\n",
    "                wc[g[0]] = {}\n",
    "                wc[g[0]][g[1]] = 1\n",
    "        \n",
    "        self.wc = wc\n",
    "\n",
    "    def prob(self, context, char):\n",
    "        ''' Returns the probability of char appearing after context '''\n",
    "        if context not in self.wc: # return 1/len(V) for a novel context\n",
    "            return 1/len(self.vocab)\n",
    "        \n",
    "        k = self.smooth_par\n",
    "        v = len(self.vocab)\n",
    "        p = 0\n",
    "        counts = self.wc[context]\n",
    "        if char not in counts:\n",
    "            c = 0\n",
    "        else:\n",
    "            c = counts[char]\n",
    "            \n",
    "        # p(char | context) = counts(context, char)/counts(context)\n",
    "        p = (c + k) / (sum(counts.values()) + (0 if k == 0 else v))\n",
    "\n",
    "        return p\n",
    "\n",
    "    def random_char(self, context):\n",
    "        ''' Returns a random character based on the given context and the \n",
    "            n-grams learned by this model '''\n",
    "        \n",
    "        r = random.random()\n",
    "        if context not in self.wc:\n",
    "            x = r / (1/len(self.vocab)) # equal chance with no context\n",
    "            x = math.floor(x)\n",
    "            return list(self.vocab)[x]\n",
    "        \n",
    "        counts = self.wc[context]\n",
    "        total =  sum(counts.values())\n",
    "        curr = 0\n",
    "\n",
    "        for k,v in counts.items():\n",
    "            curr += (v / total)\n",
    "            if r <= curr:\n",
    "                return k\n",
    "\n",
    "        return '-'\n",
    "\n",
    "    def random_text(self, length):\n",
    "        ''' Returns text of the specified character length based on the\n",
    "            n-grams learned by this model '''\n",
    "        \n",
    "        c = self.ngram_max\n",
    "        text = \"\"\n",
    "\n",
    "        for i in range(length):\n",
    "            if i >= c:\n",
    "                context = text[(i - c):i]\n",
    "            else:\n",
    "                context = start_pad(c - i) + text[:i]\n",
    "\n",
    "            text += self.random_char(context)\n",
    "\n",
    "        return text\n",
    "\n",
    "    def perplexity(self, text):\n",
    "        ''' Returns the perplexity of text based on the n-grams learned by\n",
    "            this model '''\n",
    "        perp = 0\n",
    "        c = self.ngram_max\n",
    "\n",
    "        for w in range(len(text)): # take the geometric mean of all chars\n",
    "            if w >= c:\n",
    "                context = text[(w - c):w]\n",
    "            else:\n",
    "                context = start_pad(c - w) + text[:w]\n",
    "            char = text[w]\n",
    "            prob = self.prob(context, char)\n",
    "            if not prob: # catch log(0) <- undefined\n",
    "                return (float('inf'))\n",
    "\n",
    "            perp -= math.log(prob) #\n",
    "        \n",
    "        perp = perp / (len(text))\n",
    "        return math.e**(perp)"
   ]
  },
  {
   "cell_type": "markdown",
   "metadata": {},
   "source": [
    "\\begin{align*}\n",
    "\\log\\left(Perplexity(W)\\right) &= \\log\\left[\\left(\\prod_{i = 1}^{N} \\frac{1}{P(w_i \\mid w_1,\\dots,w_{i-1})} \\right)^{1/N}\\right] \\\\\n",
    "                               &= \\frac{1}{N}\\log\\left[\\prod_{i = 1}^{N} \\frac{1}{P(w_i \\mid w_1,\\dots,w_{i-1})}\\right] \\\\\n",
    "                               &= \\frac{1}{N} \\sum_{i = 1}^{N} \\log\\left[\\frac{1}{P(w_i \\mid w_1,\\dots,w_{i-1})}\\right] \\\\\n",
    "                               &= \\frac{1}{N} \\sum_{i = 1}^{N} \\left[\\log\\left(1\\right) - \\log\\left( P(w_i \\mid w_1,\\dots,w_{i-1} ) \\right)\\right] \\\\\n",
    "                               &= \\frac{1}{N} \\sum_{i = 1}^{N} 0 - \\log\\left( P(w_i \\mid w_1,\\dots,w_{i-1} ) \\right)\\\\\n",
    "\\log\\left(Perplexity(W)\\right) &= -\\frac{1}{N} \\sum_{i = 1}^{N} \\log\\left( P(w_i \\mid w_1,\\dots,w_{i-1} ) \\right) \n",
    "\n",
    "\n",
    "\\end{align*}"
   ]
  },
  {
   "cell_type": "code",
   "execution_count": 13,
   "metadata": {},
   "outputs": [
    {
     "name": "stdout",
     "output_type": "stream",
     "text": [
      "{'a', 'b'}\n",
      "{'a', 'd', 'c', 'b'}\n",
      "1.0\n",
      "0.0\n",
      "0.5\n"
     ]
    }
   ],
   "source": [
    "temp = NgramModel(1, 0)\n",
    "temp.update('abab')\n",
    "print(temp.get_vocab())\n",
    "temp.update('abcd')\n",
    "print(temp.get_vocab())\n",
    "\n",
    "print(temp.prob('a','b'))\n",
    "print(temp.prob('~','c'))\n",
    "print(temp.prob('b','c'))"
   ]
  },
  {
   "cell_type": "code",
   "execution_count": 73,
   "metadata": {},
   "outputs": [
    {
     "data": {
      "text/plain": [
       "['a',\n",
       " 'c',\n",
       " 'c',\n",
       " 'a',\n",
       " 'b',\n",
       " 'b',\n",
       " 'b',\n",
       " 'c',\n",
       " 'a',\n",
       " 'a',\n",
       " 'c',\n",
       " 'b',\n",
       " 'c',\n",
       " 'a',\n",
       " 'b',\n",
       " 'b',\n",
       " 'a',\n",
       " 'd',\n",
       " 'd',\n",
       " 'a',\n",
       " 'a',\n",
       " 'b',\n",
       " 'd',\n",
       " 'b',\n",
       " 'a']"
      ]
     },
     "execution_count": 73,
     "metadata": {},
     "output_type": "execute_result"
    }
   ],
   "source": [
    "temp = NgramModel(0, 0)\n",
    "temp.update('abab')\n",
    "temp.update('abcd')\n",
    "random.seed(1)\n",
    "[temp.random_char('') for i in range(25)]"
   ]
  },
  {
   "cell_type": "code",
   "execution_count": 76,
   "metadata": {},
   "outputs": [
    {
     "name": "stdout",
     "output_type": "stream",
     "text": [
      "\n",
      "a\n",
      "ab\n",
      "abc\n",
      "abcd\n",
      "abcdd\n",
      "abcddd\n",
      "abcdddc\n",
      "abcdddcd\n",
      "abcdddcda\n",
      "abcdddcdab\n",
      "abcdddcdabc\n",
      "abcdddcdabcd\n",
      "abcdddcdabcdb\n",
      "abcdddcdabcdba\n",
      "abcdddcdabcdbab\n",
      "abcdddcdabcdbabc\n",
      "abcdddcdabcdbabcd\n",
      "abcdddcdabcdbabcdb\n",
      "abcdddcdabcdbabcdbc\n",
      "abcdddcdabcdbabcdbcd\n",
      "abcdddcdabcdbabcdbcda\n",
      "abcdddcdabcdbabcdbcdab\n",
      "abcdddcdabcdbabcdbcdabc\n",
      "abcdddcdabcdbabcdbcdabcd\n"
     ]
    },
    {
     "data": {
      "text/plain": [
       "'abcdddcdabcdbabcdbcdabcda'"
      ]
     },
     "execution_count": 76,
     "metadata": {},
     "output_type": "execute_result"
    }
   ],
   "source": [
    "m = NgramModel(1, 0)\n",
    "m.update('abab')\n",
    "m.update('abcd')\n",
    "random.seed(1)\n",
    "m.random_text(25)"
   ]
  },
  {
   "cell_type": "code",
   "execution_count": 16,
   "metadata": {},
   "outputs": [
    {
     "name": "stdout",
     "output_type": "stream",
     "text": [
      "Firt be don, bequardoseent. Lore himpon his him, Lornextee imparrociss,\n",
      "And lin courepat inche\n",
      "To to er somentrund arthenceight mestatch fich ourd: lothearguand lade this gracteare Dukeetche ill, way clord:\n",
      "POLIA:\n",
      "GRANTONSON:\n",
      "It th bar le joingueelto\n"
     ]
    }
   ],
   "source": [
    "m = create_ngram_model(NgramModel, 'data/shakespeare_input.txt',2)\n",
    "print(m.random_text(250))"
   ]
  },
  {
   "cell_type": "code",
   "execution_count": 17,
   "metadata": {},
   "outputs": [
    {
     "name": "stdout",
     "output_type": "stream",
     "text": [
      "First Cupill I\n",
      "est-il?\n",
      "\n",
      "Like Henription; the good from honough much bot: whath\n",
      "where dearls to senance do,\n",
      "Come stribestrust dust her ple goes itself me like no:\n",
      "Sol\n",
      "To wer\n",
      "work, I'll comes a vilst Served:\n",
      "O, be arthis.\n",
      "So find with my fore nake; leg\n"
     ]
    }
   ],
   "source": [
    "m = create_ngram_model(NgramModel, 'data/shakespeare_input.txt',3)\n",
    "print(m.random_text(250))"
   ]
  },
  {
   "cell_type": "code",
   "execution_count": 18,
   "metadata": {},
   "outputs": [
    {
     "name": "stdout",
     "output_type": "stream",
     "text": [
      "First Citizens:\n",
      "Why, waited.\n",
      "\n",
      "VALENTIO:\n",
      "What you thine have no far and didst to siness Androus as conventions in me: a barbariation, sways\n",
      "Drag pear it, and wealthou die, lord Pompey.\n",
      "\n",
      "MISTRESS FORD:\n",
      "Greath, I darest with his return, seed most the st\n"
     ]
    }
   ],
   "source": [
    "m = create_ngram_model(NgramModel, 'data/shakespeare_input.txt',4)\n",
    "print(m.random_text(250))"
   ]
  },
  {
   "cell_type": "code",
   "execution_count": 19,
   "metadata": {},
   "outputs": [
    {
     "name": "stdout",
     "output_type": "stream",
     "text": [
      "First Citizen:\n",
      "Ye're honest;\n",
      "but yet drunk in hand: I am too choleric.\n",
      "\n",
      "ANTIPHOLUS OF EPHESUS:\n",
      "I needs as valiant youth will cut off, and be that, my lord,\n",
      "As if this busy time.\n",
      "\n",
      "CORIOLANUS:\n",
      "Not I, sir; let me ha't: I have deposed.\n",
      "\n",
      "WARWICK:\n",
      "When we \n"
     ]
    }
   ],
   "source": [
    "m = create_ngram_model(NgramModel, 'data/shakespeare_input.txt',7)\n",
    "print(m.random_text(250))"
   ]
  },
  {
   "cell_type": "code",
   "execution_count": 20,
   "metadata": {},
   "outputs": [
    {
     "name": "stdout",
     "output_type": "stream",
     "text": [
      "First Citizen:\n",
      "We'll burn his body in the holy place,\n",
      "And you within the compass of a praemunire,\n",
      "That therefore never flout at me for what you seek so?\n",
      "\n",
      "LADY FAULCONBRIDGE:\n",
      "King Richard thus removed,\n",
      "Leaving no tract behind.\n",
      "\n",
      "Painter:\n",
      "How shall I understand me: over and beside\n",
      "Signior Baptista Minola,\n",
      "As if he were forgot;\n",
      "And on their skins, as on the bark of trees,\n",
      "Have with our niece a dowry large enough:\n",
      "What, are you merry,\n",
      "If worthier friends had not prevented many. Eros, ho!\n",
      "\n",
      "CLEOPATRA:\n",
      "\n"
     ]
    }
   ],
   "source": [
    "m = create_ngram_model(NgramModel, 'data/shakespeare_input.txt',12)\n",
    "print(m.random_text(500))"
   ]
  },
  {
   "cell_type": "code",
   "execution_count": 21,
   "metadata": {},
   "outputs": [
    {
     "name": "stdout",
     "output_type": "stream",
     "text": [
      "1.189207115002721\n",
      "inf\n",
      "1.515716566510398\n"
     ]
    }
   ],
   "source": [
    "temp = NgramModel(1, 0)\n",
    "temp.update('abab')\n",
    "temp.update('abcd')\n",
    "print(temp.perplexity('abcd'))\n",
    "print(temp.perplexity('abca'))\n",
    "print(temp.perplexity('abcda'))"
   ]
  },
  {
   "cell_type": "code",
   "execution_count": 67,
   "metadata": {},
   "outputs": [
    {
     "name": "stdout",
     "output_type": "stream",
     "text": [
      "0.0\n",
      "1.0\n",
      "1.0\n",
      "0.25\n"
     ]
    }
   ],
   "source": [
    "m = NgramModel(1, 0)\n",
    "m.update('abab')\n",
    "m.update('abcd')\n",
    "print(m.prob('a', 'a'))\n",
    "print(m.prob('a', 'b'))\n",
    "print(m.prob('c', 'd'))\n",
    "print(m.prob('d', 'a'))"
   ]
  },
  {
   "cell_type": "code",
   "execution_count": 23,
   "metadata": {},
   "outputs": [],
   "source": [
    "################################################################################\n",
    "# Part 2: N-Gram Model with Interpolation\n",
    "################################################################################\n",
    "\n",
    "class NgramModelWithInterpolation(NgramModel):\n",
    "    ''' An n-gram model with interpolation '''\n",
    "\n",
    "    def __init__(self, c, k):\n",
    "        self.ngram_max = c\n",
    "        self.smooth_par = k\n",
    "        self.weights = [1/(c+1)] * (c+1)\n",
    "        self.vocab = set()\n",
    "        self.wc = {}\n",
    "\n",
    "    def set_lambdas(self, lambdas):\n",
    "        if len(lambdas) != (self.ngram_max + 1):\n",
    "            print(\"Error: len(lambdas) does not match max ngram\")\n",
    "        s = sum(lambdas)\n",
    "        if s < 1:\n",
    "            print(\"Error: Weights do not add up to 1.\")\n",
    "        elif s > 1:\n",
    "           print(\"sum(lambdas) > 1, normalizing by sum(lambdas)...\\n\")\n",
    "           t = [x / s for x in lambdas]\n",
    "        else:\n",
    "            t = lambdas\n",
    "        self.weights = t\n",
    "        print(f\"lambdas = {t}\")\n",
    "\n",
    "    def get_vocab(self):\n",
    "        return self.vocab\n",
    "\n",
    "    def update(self, text):\n",
    "        unique = set(text)\n",
    "        self.vocab = self.vocab | unique # | = union\n",
    "        wc = self.wc\n",
    "        for c in range(self.ngram_max,-1,-1):\n",
    "            for g in ngrams(c, text):\n",
    "                if g[0] in wc:\n",
    "                    if g[1] in wc[g[0]]:\n",
    "                        wc[g[0]][g[1]] += 1\n",
    "                    else:\n",
    "                        wc[g[0]][g[1]] = 1\n",
    "                else:\n",
    "                    wc[g[0]] = {}\n",
    "                    wc[g[0]][g[1]] = 1\n",
    "            \n",
    "        self.wc = wc\n",
    "\n",
    "    def prob(self, context, char):\n",
    "        p_interp = 0\n",
    "        lambdas = self.weights\n",
    "\n",
    "        for l in range(len(lambdas)):\n",
    "            t_context = context[l:]\n",
    "            prob = super().prob(t_context, char) # use parent prob \n",
    "            p_interp += lambdas[l] * prob\n",
    "\n",
    "        return p_interp"
   ]
  },
  {
   "cell_type": "code",
   "execution_count": 24,
   "metadata": {},
   "outputs": [
    {
     "name": "stdout",
     "output_type": "stream",
     "text": [
      "0.25\n",
      "0.75\n"
     ]
    }
   ],
   "source": [
    "m = NgramModelWithInterpolation(1, 0)\n",
    "m.update('abab')\n",
    "\n",
    "print(m.prob('a', 'a'))\n",
    "print(m.prob('a', 'b'))"
   ]
  },
  {
   "cell_type": "code",
   "execution_count": 25,
   "metadata": {},
   "outputs": [
    {
     "name": "stdout",
     "output_type": "stream",
     "text": [
      "sum(lambdas) > 1, normalizing by sum(lambdas)...\n",
      "\n",
      "lambdas = [0.6, 0.4]\n"
     ]
    }
   ],
   "source": [
    "m.set_lambdas([3,2])"
   ]
  },
  {
   "cell_type": "code",
   "execution_count": 26,
   "metadata": {},
   "outputs": [
    {
     "name": "stdout",
     "output_type": "stream",
     "text": [
      "0.2\n",
      "0.8\n"
     ]
    }
   ],
   "source": [
    "print(m.prob('a', 'a'))\n",
    "print(m.prob('a', 'b'))"
   ]
  },
  {
   "cell_type": "code",
   "execution_count": 27,
   "metadata": {},
   "outputs": [
    {
     "name": "stdout",
     "output_type": "stream",
     "text": [
      "0.4682539682539682\n",
      "0.4349206349206349\n",
      "0.27222222222222225\n",
      "0.3222222222222222\n"
     ]
    }
   ],
   "source": [
    "m = NgramModelWithInterpolation(2, 1)\n",
    "m.update('abab')\n",
    "m.update('abcd')\n",
    "\n",
    "print(m.prob('~a', 'b'))\n",
    "print(m.prob('ba', 'b'))\n",
    "print(m.prob('~c', 'd'))\n",
    "print(m.prob('bc', 'd'))"
   ]
  },
  {
   "cell_type": "code",
   "execution_count": 28,
   "metadata": {},
   "outputs": [
    {
     "name": "stdout",
     "output_type": "stream",
     "text": [
      "Error: len(lambdas) does not match max ngram\n",
      "sum(lambdas) > 1, normalizing by sum(lambdas)...\n",
      "\n",
      "lambdas = [0.5555555555555556, 0.2777777777777778, 0.1111111111111111, 0.05555555555555555]\n"
     ]
    }
   ],
   "source": [
    "m = create_ngram_model(NgramModelWithInterpolation, 'data/shakespeare_input.txt',c = 4, k = 1)\n",
    "m.set_lambdas([10,5,2,1])"
   ]
  },
  {
   "cell_type": "code",
   "execution_count": 29,
   "metadata": {},
   "outputs": [
    {
     "name": "stdout",
     "output_type": "stream",
     "text": [
      "First Puck,--thick, he stand I loved,\n",
      "Both his kings to-day a subjected emperiod! Welcome, cock- punk,\n",
      "If the dangerous tomb.\n",
      "He must beat all thee;\n",
      "O, let myself,\n",
      "And leave him: and what house of so for ther.\n",
      "\n",
      "CAPULET:\n",
      "Find that sense\n",
      "questions, God and thee thy again! news;\n",
      "Thy name,\n",
      "And whore.\n",
      "\n",
      "LUCIO:\n",
      "Nay, he is not be sweet his by\n",
      "This stranging contrivilely object?\n",
      "\n",
      "Gaoler that tongue, so,\n",
      "I cannot men purpose pint Albion,\n",
      "'I mayst the lion's aughts,\n",
      "Of mine an anothink, harve Gothsayest ho\n"
     ]
    }
   ],
   "source": [
    "print(m.random_text(500))"
   ]
  },
  {
   "cell_type": "markdown",
   "metadata": {},
   "source": [
    "## Analysis"
   ]
  },
  {
   "cell_type": "code",
   "execution_count": 30,
   "metadata": {},
   "outputs": [],
   "source": [
    "def get_model_scores(model_class, c = 2, k = 0, lambdas = []):\n",
    "    model = create_ngram_model(model_class, 'data/shakespeare_input.txt', c = c, k = k)\n",
    "    scores = {\n",
    "        'nytimes' : [],\n",
    "        'shakespeare' : []\n",
    "    }\n",
    "\n",
    "    if len(lambdas) > 0:\n",
    "        model.set_lambdas(lambdas)\n",
    "\n",
    "    with open('data/nytimes_article.txt', encoding='utf-8', errors = 'ignore') as file:\n",
    "        for f in file:\n",
    "            p = model.perplexity(f)\n",
    "            if f == '\\n':\n",
    "                continue\n",
    "            scores['nytimes'].append(p)\n",
    "\n",
    "    with open('data/shakespeare_sonnets.txt', encoding='utf-8', errors = 'ignore') as file:\n",
    "        for f in file:\n",
    "            p = model.perplexity(f)\n",
    "            if f == '\\n':\n",
    "                continue\n",
    "            scores['shakespeare'].append(p)\n",
    "    \n",
    "    return scores"
   ]
  },
  {
   "cell_type": "markdown",
   "metadata": {},
   "source": [
    "---"
   ]
  },
  {
   "cell_type": "markdown",
   "metadata": {},
   "source": [
    "pandas is imported for analytics, not for the model."
   ]
  },
  {
   "cell_type": "code",
   "execution_count": 31,
   "metadata": {},
   "outputs": [],
   "source": [
    "import pandas as pd"
   ]
  },
  {
   "cell_type": "code",
   "execution_count": 62,
   "metadata": {},
   "outputs": [
    {
     "name": "stdout",
     "output_type": "stream",
     "text": [
      "nytimes = [10.482233182563077, 9.553898111051994, 8.975189498416798, 9.933582030628942, 12.008352863948382, 10.04363950678072, 13.527566027064143, 12.72169722732004, 16.20713312896445, 10.367187928900023, 10.517909366798742, 9.321261034892386, 14.356333982286978, 11.375008007235694, 9.164111234526258, 10.59085608550517, 9.251617408549109, 8.975225725422094, 10.347307435744735, 13.053894933226674]\n",
      "E[nytimes] = 11.038700235991318\n",
      "shakespeare = [33.7490740613724, 8.699617160576976, 7.6511181867654905, 7.555693771516753, 7.401168300130703, 6.426215508706716, 9.427182138259385, 8.894834551390415, 7.866336187675141, 7.265983201459965, 8.19948430664172, 7.820822762496098, 10.712307164810564, 9.776670200678232, 5.778839520646137, 55.5810843043339, 7.9124674822657814, 10.075895645424858, 8.95739084288284, 8.645424559530039, 7.360485763232513, 7.554390563914343, 7.974668028487649, 7.985967128596228, 8.80537862081427, 7.426015700395552, 7.0945581504791475, 7.601913278326006, 6.710636729170968, 7.720056648237509, 26.103477841412047, 7.189764149723658, 5.62318390170296, 9.221852361786157, 7.070053671786774, 7.561363530028264, 8.172411794617481, 7.159091769623173, 9.723989061657726, 6.28589576746322, 8.791171353685453, 7.160909794641735, 7.785816726991133, 6.781499237428973, 7.723311134207865, 49.61812417557778, 8.405809056130613, 9.442938546697267, 7.207027387139863, 7.603132460410755, 9.635615000942968, 7.642425089956961, 10.77010049529075, 7.745196025474189, 7.140963991415796, 7.085821112059043, 7.32121201839574, 8.761487994943595, 8.664678284291305, 9.939973331192865, 33.7490740613724, 7.234023976956674, 8.608032264886207, 7.056523470471558, 7.750363821490863, 9.233931510201947, 7.67916958840074, 9.77343812214673, 9.910522629499079, 8.533612339359074, 9.329776942638103, 10.283799725255681, 8.486567618644308, 7.033105107563937, 7.833710494413789, 35.85930917567124, 7.699169832547874, 7.267640706758258, 7.421666230890973, 8.88529299215521, 8.136960472809038, 6.91795675370277, 5.52787625154312, 8.235840678426086, 6.992313543649126, 8.758097563356344, 6.677770486001669, 7.575042246014388, 6.892755850559614, 6.771893261160763, 39.9026244943157, 7.279714565242596, 9.394701924215918, 7.459039336989699, 8.641444321054635, 8.739893502361074, 8.688639278558526, 9.118848799224393, 10.866314593482784, 8.158699946755712, 7.89136851665742, 9.878916467650559, 5.9392228706456525, 8.972265897392099, 7.956446150279488, 23.29183252889882, 8.468823824585414, 7.838023646952475, 7.970858775641911, 10.371314595504828, 7.720934605844434, 8.04692166112227, 8.509594900272704, 6.767212329100414, 6.816706251431917, 10.831823520398386, 7.405437187323262, 7.8311563997288225, 8.049915569166505, 7.0625661508002135, 32.80664400408244, 8.948745822438335, 7.3855769528132855, 9.503155498914348, 7.123697891934333, 6.486964190662588, 6.927011708159096, 10.00606180251687, 9.050836230710726, 7.994232093728473, 7.467882016323276, 6.926462552945507, 8.992996203192627, 8.356146014841991, 8.693279288902792, 33.7490740613724, 6.621994409559624, 8.35429092705422, 7.5408106846868534, 7.106494330019573, 7.594726217068945, 6.4565382054175045, 10.775535934283203, 7.740299705761356, 6.896524964915235, 8.169406282136638, 7.466908229482825, 8.041473197289001, 5.483290335393015, 6.448613137989344, 29.262772321549104, 7.563067656630009, 6.1400857872255425, 7.169334700934494, 7.16131788256514, 9.964897318947596, 7.228389834441486, 7.723462261788651, 6.811711747868322, 6.91688824619895, 11.879566468202615, 7.716593034034271, 9.003256466839026, 8.579994803019204, 7.048925835859062, 44.08602386680247, 6.487986785479894, 7.290114953690833, 8.032026254540632, 9.843551214971034, 10.7915784465801, 9.078338439012025, 8.188430150851058, 8.01712562378088, 7.173049359613649, 6.32781570635137, 8.376817944249462, 7.702181873063731, 8.540147941899416, 6.392041622875922, 25.22570049022515, 5.321287871618903, 6.029111837071912, 5.311609582045926, 6.244432971031504, 6.467129738575328, 8.0852144728452, 7.546285115904747, 7.24898072087133, 8.767154490382596, 8.284356606089334, 8.076518737403944, 11.70185216173672, 8.323161745828871, 6.385767571444837, 40.48889518911525, 7.8960041222789945, 10.463112492156569, 6.7956574571535695, 9.676399833736866, 8.877478354265772, 7.144363718580004, 6.782789063429833, 8.796515526899702, 7.301025653773995, 7.223752475725205, 8.080987271666299, 8.95029754097339, 9.471489246729174, 10.111212527781213, 42.416305879819, 6.838052169544219, 7.717218524185329, 8.158879594654271, 9.11632658674013, 8.135352590934295, 10.149980603752436, 8.372453410555325, 7.5277213008112165, 6.761557043729378, 6.351259154745096, 12.704998088368363, 6.656424602535457, 6.014177636203804, 8.213033449666302]\n",
      "E[shakespeare] = 9.892364135707071\n",
      "\n",
      "\n"
     ]
    }
   ],
   "source": [
    "s = get_model_scores(NgramModel, c = 2, k = 4)\n",
    "for k,v in s.items():\n",
    "    print(f\"{k} = {v}\")\n",
    "    print(f\"E[{k}] = {sum(v)/len(v)}\")\n",
    "print('\\n')"
   ]
  },
  {
   "cell_type": "code",
   "execution_count": 52,
   "metadata": {},
   "outputs": [
    {
     "name": "stdout",
     "output_type": "stream",
     "text": [
      "nytimes = [inf, inf, inf, inf, inf, inf, inf, inf, inf, inf, inf, inf, inf, inf, inf, inf, inf, inf, inf, inf]\n",
      "E[nytimes] = inf\n",
      "shakespeare = [inf, inf, inf, inf, inf, inf, inf, inf, inf, inf, inf, inf, inf, inf, inf, inf, inf, inf, inf, inf, inf, inf, inf, inf, inf, inf, inf, inf, inf, inf, inf, inf, inf, inf, inf, inf, inf, inf, inf, inf, inf, inf, inf, inf, inf, inf, inf, inf, inf, inf, inf, inf, inf, inf, inf, inf, inf, inf, inf, inf, inf, inf, inf, inf, inf, inf, inf, inf, inf, inf, inf, inf, inf, inf, inf, inf, inf, inf, inf, inf, inf, inf, inf, inf, inf, inf, inf, inf, inf, inf, inf, inf, inf, inf, inf, inf, inf, inf, inf, inf, inf, inf, inf, inf, inf, inf, inf, inf, inf, inf, inf, inf, inf, inf, inf, inf, inf, inf, inf, inf, inf, inf, inf, inf, inf, inf, inf, inf, inf, inf, inf, inf, inf, inf, inf, inf, inf, inf, inf, inf, inf, inf, inf, inf, inf, inf, inf, inf, inf, inf, inf, inf, inf, inf, inf, inf, inf, inf, inf, inf, inf, inf, inf, inf, inf, inf, inf, inf, inf, inf, inf, inf, inf, inf, inf, inf, inf, inf, inf, inf, inf, inf, inf, inf, inf, inf, 7.012107374039527, inf, inf, inf, inf, inf, inf, inf, inf, inf, inf, inf, inf, inf, inf, inf, inf, inf, inf, inf, inf, inf, inf, inf, inf, inf, inf, inf, inf, inf, inf, inf, inf, inf, inf, inf, inf, inf, inf]\n",
      "E[shakespeare] = inf\n",
      "\n",
      "\n",
      "nytimes = [inf, inf, inf, inf, inf, inf, inf, inf, inf, inf, inf, inf, inf, inf, inf, inf, inf, inf, inf, inf]\n",
      "E[nytimes] = inf\n",
      "shakespeare = [inf, inf, inf, inf, inf, inf, inf, inf, inf, inf, inf, inf, inf, inf, inf, inf, inf, inf, inf, inf, inf, inf, inf, inf, inf, inf, inf, inf, inf, inf, inf, inf, inf, inf, inf, inf, inf, inf, inf, inf, inf, inf, inf, inf, inf, inf, inf, inf, inf, inf, inf, inf, inf, inf, inf, inf, inf, inf, inf, inf, inf, inf, inf, inf, inf, inf, inf, inf, inf, inf, inf, inf, inf, inf, inf, inf, inf, inf, inf, inf, inf, inf, inf, inf, inf, inf, inf, inf, inf, inf, inf, inf, inf, inf, inf, inf, inf, inf, inf, inf, inf, inf, inf, inf, inf, inf, inf, inf, inf, inf, inf, inf, inf, inf, inf, inf, inf, inf, inf, inf, inf, inf, inf, inf, inf, inf, inf, inf, inf, inf, inf, inf, inf, inf, inf, inf, inf, inf, inf, inf, inf, inf, inf, inf, inf, inf, inf, inf, inf, inf, inf, inf, inf, inf, inf, inf, inf, inf, inf, inf, inf, inf, inf, inf, inf, inf, inf, inf, inf, inf, inf, inf, inf, inf, inf, inf, inf, inf, inf, inf, inf, inf, inf, inf, inf, inf, inf, inf, inf, inf, inf, inf, inf, inf, inf, inf, inf, inf, inf, inf, inf, inf, inf, inf, inf, inf, inf, inf, inf, inf, inf, inf, inf, inf, inf, inf, inf, inf, inf, inf, inf, inf, inf, inf, inf]\n",
      "E[shakespeare] = inf\n",
      "\n",
      "\n",
      "nytimes = [inf, inf, inf, inf, inf, inf, inf, inf, inf, inf, inf, inf, inf, inf, inf, inf, inf, inf, inf, inf]\n",
      "E[nytimes] = inf\n",
      "shakespeare = [inf, inf, inf, inf, inf, inf, inf, inf, inf, inf, inf, inf, inf, inf, inf, inf, inf, inf, inf, inf, inf, inf, inf, inf, inf, inf, inf, inf, inf, inf, inf, inf, inf, inf, inf, inf, inf, inf, inf, inf, inf, inf, inf, inf, inf, inf, inf, inf, inf, inf, inf, inf, inf, inf, inf, inf, inf, inf, inf, inf, inf, inf, inf, inf, inf, inf, inf, inf, inf, inf, inf, inf, inf, inf, inf, inf, inf, inf, inf, inf, inf, inf, inf, inf, inf, inf, inf, inf, inf, inf, inf, inf, inf, inf, inf, inf, inf, inf, inf, inf, inf, inf, inf, inf, inf, inf, inf, inf, inf, inf, inf, inf, inf, inf, inf, inf, inf, inf, inf, inf, inf, inf, inf, inf, inf, inf, inf, inf, inf, inf, inf, inf, inf, inf, inf, inf, inf, inf, inf, inf, inf, inf, inf, inf, inf, inf, inf, inf, inf, inf, inf, inf, inf, inf, inf, inf, inf, inf, inf, inf, inf, inf, inf, inf, inf, inf, inf, inf, inf, inf, inf, inf, inf, inf, inf, inf, inf, inf, inf, inf, inf, inf, inf, inf, inf, inf, inf, inf, inf, inf, inf, inf, inf, inf, inf, inf, inf, inf, inf, inf, inf, inf, inf, inf, inf, inf, inf, inf, inf, inf, inf, inf, inf, inf, inf, inf, inf, inf, inf, inf, inf, inf, inf, inf, inf]\n",
      "E[shakespeare] = inf\n",
      "\n",
      "\n",
      "nytimes = [inf, inf, inf, inf, inf, inf, inf, inf, inf, inf, inf, inf, inf, inf, inf, inf, inf, inf, inf, inf]\n",
      "E[nytimes] = inf\n",
      "shakespeare = [inf, inf, inf, inf, inf, inf, inf, inf, inf, inf, inf, inf, inf, inf, inf, inf, inf, inf, inf, inf, inf, inf, inf, inf, inf, inf, inf, inf, inf, inf, inf, inf, inf, inf, inf, inf, inf, inf, inf, inf, inf, inf, inf, inf, inf, inf, inf, inf, inf, inf, inf, inf, inf, inf, inf, inf, inf, inf, inf, inf, inf, inf, inf, inf, inf, inf, inf, inf, inf, inf, inf, inf, inf, inf, inf, inf, inf, inf, inf, inf, inf, inf, inf, inf, inf, inf, inf, inf, inf, inf, inf, inf, inf, inf, inf, inf, inf, inf, inf, inf, inf, inf, inf, inf, inf, inf, inf, inf, inf, inf, inf, inf, inf, inf, inf, inf, inf, inf, inf, inf, inf, inf, inf, inf, inf, inf, inf, inf, inf, inf, inf, inf, inf, inf, inf, inf, inf, inf, inf, inf, inf, inf, inf, inf, inf, inf, inf, inf, inf, inf, inf, inf, inf, inf, inf, inf, inf, inf, inf, inf, inf, inf, inf, inf, inf, inf, inf, inf, inf, inf, inf, inf, inf, inf, inf, inf, inf, inf, inf, inf, inf, inf, inf, inf, inf, inf, inf, inf, inf, inf, inf, inf, inf, inf, inf, inf, inf, inf, inf, inf, inf, inf, inf, inf, inf, inf, inf, inf, inf, inf, inf, inf, inf, inf, inf, inf, inf, inf, inf, inf, inf, inf, inf, inf, inf]\n",
      "E[shakespeare] = inf\n",
      "\n",
      "\n"
     ]
    }
   ],
   "source": [
    "for x in [2,4,8,10]:\n",
    "    s = get_model_scores(NgramModel, c = x, k = 0)\n",
    "    for k,v in s.items():\n",
    "        print(f\"{k} = {v}\")\n",
    "        print(f\"E[{k}] = {sum(v)/len(v)}\")\n",
    "    print('\\n')"
   ]
  },
  {
   "cell_type": "code",
   "execution_count": 71,
   "metadata": {},
   "outputs": [
    {
     "name": "stdout",
     "output_type": "stream",
     "text": [
      "nytimes\n",
      "[inf, inf, inf, inf, inf, inf, inf, inf, inf, inf, inf, inf, inf, inf, inf, inf, inf, inf, inf, inf]\n",
      "E[nytimes] = inf\n",
      "shakespeare\n",
      "[inf, inf, inf, inf, inf, inf, inf, inf, inf, inf, inf, inf, inf, inf, inf, inf, inf, inf, inf, inf, inf, inf, inf, inf, inf, inf, inf, inf, inf, inf, inf, inf, inf, inf, inf, inf, inf, inf, inf, inf, inf, inf, inf, inf, inf, inf, inf, inf, inf, inf, inf, inf, inf, inf, inf, inf, inf, inf, inf, inf, inf, inf, inf, inf, inf, inf, inf, inf, inf, inf, inf, inf, inf, inf, inf, inf, inf, inf, inf, inf, inf, inf, inf, inf, inf, inf, inf, inf, inf, inf, inf, inf, inf, inf, inf, inf, inf, inf, inf, inf, inf, inf, inf, inf, inf, inf, inf, inf, inf, inf, inf, inf, inf, inf, inf, inf, inf, inf, inf, inf, inf, inf, inf, inf, inf, inf, inf, inf, inf, inf, inf, inf, inf, inf, inf, inf, inf, inf, inf, inf, inf, inf, inf, inf, inf, inf, inf, inf, inf, inf, inf, inf, inf, inf, inf, inf, inf, inf, inf, inf, inf, inf, inf, inf, inf, inf, inf, inf, inf, inf, inf, inf, inf, inf, inf, inf, inf, inf, inf, inf, inf, inf, inf, inf, inf, inf, inf, inf, inf, inf, inf, inf, inf, inf, inf, inf, inf, inf, inf, inf, inf, inf, inf, inf, inf, inf, inf, inf, inf, inf, inf, inf, inf, inf, inf, inf, inf, inf, inf, inf, inf, inf, inf, inf, inf]\n",
      "E[shakespeare] = inf\n",
      "\n",
      "nytimes\n",
      "[10.180440919113257, 10.919540543742905, 9.17876618083674, 9.656882839196603, 13.346563910126964, 9.299295504636614, 14.143580757315451, 16.693490461857422, 18.297168083097933, 10.795911332667746, 10.670871086214186, 9.153735886989617, 14.928090932400078, 12.290695530393396, 10.264071872264235, 10.59659221242217, 8.86023390860159, 8.188366480218855, 10.699847334133189, 13.680849173578828]\n",
      "E[nytimes] = 11.592249747490389\n",
      "shakespeare\n",
      "[67.49814812274481, 6.930428582876626, 7.180120238100191, 7.1908755121762775, 7.526994387038116, 5.164859011123481, 9.407793938097402, 8.213964688263648, 7.958491414638621, 5.893931460787773, 9.907570281189019, 6.672489787573072, 12.35627113139313, 7.673371967003356, 6.094793971568779, 67.3316885742296, 7.311168697988549, 8.624380007387076, 10.06414105290798, 9.702922980992646, 6.5587939943110305, 5.922978159846205, 7.759764210013569, 8.011785263510019, 8.323572735291464, 5.922349830431315, 7.777266813809338, 6.414150983531979, 5.97927959958713, 8.025992877323871, 67.24861280520142, 6.724588641757509, 5.15121759589645, 8.387066546179408, 6.091536521282574, 7.687702466525543, 7.290011381949333, 6.974056628909532, 11.69006817599071, 4.867931285934869, 9.1709188053012, 5.801920801926124, 6.476889145831855, 5.7270466123379995, 7.32545929092583, 67.3316885742296, 7.388451334991263, 8.481555200651345, 6.838003298440033, 7.778103353863457, 7.167987927841714, 7.889755158751407, 8.990466351163956, 7.728174867265845, 8.394827541408727, 6.711121864049829, 5.8596441423032095, 8.230703278863723, 8.361741435952503, 11.921488563590925, 67.49814812274481, 6.383190025591015, 8.096360447215941, 5.721239851866177, 9.344230025485285, 10.57430456100294, 6.1204230947272595, 9.047857785077925, 10.381729101745183, 8.084136662790977, 9.162897307714514, 7.7443448685009875, 6.0777686215773175, 6.165946521903704, 7.049685809318263, 67.3316885742296, 7.902087619168889, 7.00242638387194, 7.332423638003725, 8.19640610925703, 8.933465053772927, 6.948581986157793, 5.636801261933325, 8.65635038326175, 5.899686237762803, 10.534495706537115, 5.543389266326784, 7.658153613475903, 8.006247425678398, 7.211590319752773, 67.24861280520142, 6.999376534830425, 7.922675099364192, 7.967569935516439, 6.659931019551803, 11.284477747609893, 6.438113343339732, 7.8101770867991105, 6.419545327698345, 8.779471322805245, 9.340361051708095, 10.334147329719952, 7.101887599456927, 10.691583043455884, 10.2786230008937, 78.74065212006006, 7.786483435562625, 10.594788117837037, 8.807193806544225, 8.474100661330597, 8.609475493749498, 7.644285118364869, 5.916163526536841, 5.3575131975965835, 5.961270983514983, 9.847447136720358, 5.9382798558226835, 8.244522289240502, 7.46748952925203, 8.69559528707926, 67.3316885742296, 7.807175845689798, 7.764309281129324, 9.471958931113477, 7.314966368695727, 5.768421964851792, 6.474020638122079, 7.093860473929397, 5.638468223328018, 7.134205824469531, 6.090051783193268, 6.06202508784127, 13.784635319791217, 7.778236255351417, 8.945900873579454, 67.49814812274481, 6.797683038533835, 8.021215611781571, 7.36756632201275, 9.765394849564979, 4.996503438442102, 6.601475564514289, 8.93263991192105, 5.800077023516292, 5.426752651745352, 8.231898031395392, 5.670437127641953, 8.797941066280261, 6.162315149282813, 6.160753314060265, 67.3316885742296, 7.2021126806147535, 5.733214581495569, 6.666955830124583, 5.955313854426759, 7.6162679897021395, 7.81552663552759, 6.264191125084877, 6.183096936636205, 5.727979155594655, 12.562152703520622, 7.100962570579119, 6.553876204319999, 9.063441742720284, 6.924203027871285, 67.24861280520142, 5.213669343604443, 7.813876549270593, 7.857649117532921, 10.799455541966546, 9.567298737023078, 10.801115940665213, 9.038517576154153, 8.353298070527984, 6.943082175868121, 6.700473083745123, 6.1495492649417915, 8.581583845955587, 9.08897777339504, 6.099027716289425, 67.19881655249026, 5.4522635342565176, 5.926466731520295, 4.834756119961866, 6.017736437195953, 5.423793915513728, 6.206003693663181, 6.739814011950467, 6.064656714062878, 8.90636752320041, 6.984880204982469, 7.310651908987496, 8.560650680806342, 9.368015362605652, 6.4574998856961265, 67.24861280520142, 8.006866114089089, 9.242145850836168, 7.1665854473364785, 9.970198307323608, 8.258750390309556, 7.498156126201045, 6.21119523701011, 9.714958753104584, 6.138374983210626, 7.3702153373020876, 6.36785442280986, 6.11535918612969, 9.344109354704594, 10.526576841765339, 67.3316885742296, 5.7883385576937965, 5.583013023168458, 7.2264943653105576, 7.27187938155998, 6.547129203674453, 10.021866943557999, 9.46440528037, 6.150777696554027, 5.605952643962409, 5.924853478668095, 10.958917373942082, 6.691016576807436, 7.303470967789289, 10.478691799968434]\n",
      "E[shakespeare] = 11.650336334193321\n",
      "\n",
      "nytimes\n",
      "[7.542293370430642, 7.890079582043024, 6.923413539697039, 7.757451465770861, 9.442623690485197, 7.587739708209235, 10.997592020178088, 13.141844319005134, 13.392812964687993, 8.14565192164336, 7.881277186010239, 7.084500813343962, 11.510475271287442, 9.888901757761182, 7.889600053557251, 8.332689100162549, 6.964004601814565, 6.654918916599098, 8.424538541700553, 9.5732053006276]\n",
      "E[nytimes] = 8.85128070625075\n",
      "shakespeare\n",
      "[30.186089511561438, 6.135916853744599, 6.2570948572387834, 6.225271612402309, 6.530987770721009, 4.704407416180115, 6.863757285418657, 7.094528167229928, 6.638665548644136, 5.263163911111931, 8.162235366276807, 5.7021721530397045, 9.692787796803316, 6.314481616574562, 5.4294928781313665, 39.37581034697437, 6.521247677519981, 7.099523783099023, 7.967092122774001, 7.793764383338386, 5.692946615552067, 5.12340842062585, 6.353769692086227, 6.618119131518289, 6.969044179070292, 5.159043790398156, 6.60589875839649, 5.717743204293447, 5.281117911341506, 6.730982087561156, 44.971857836591724, 5.609985379110962, 4.807151321586713, 6.788076729013832, 5.302134011275111, 6.491375793906682, 6.074137848473758, 6.3266058116067665, 8.557962345797492, 4.53761812903412, 7.036443432456061, 5.334999153364464, 5.766273336762748, 5.253674252861894, 6.024380613505836, 39.37581034697437, 6.1560358341015995, 6.962583502990464, 5.843786867295171, 6.730824975235437, 6.139926559488369, 6.680258106094476, 7.289129343819353, 6.359598969226116, 6.901852623153219, 5.897495924517471, 5.406051414969306, 6.586700432051709, 6.342460637617348, 8.23238832921615, 30.186089511561438, 5.559683739746525, 6.695619815347252, 5.210989753538932, 7.492977005667574, 8.071603204001805, 5.658388073861378, 6.973863111971398, 7.982126436130411, 6.67124645882947, 7.209741303287346, 6.444181543872262, 5.4541142023841696, 5.666793635776852, 6.303959196614015, 39.37581034697437, 7.05316698908642, 6.246984993781101, 5.971693158627881, 6.723789552005746, 7.266114606994442, 5.742880875516281, 5.266349375161598, 7.582805151912071, 5.38739507283097, 8.3860433595967, 4.985109925183511, 6.739017740356031, 6.79059105234002, 6.4967535152099085, 44.971857836591724, 6.011036450073748, 6.463903423911467, 6.5962155557652595, 5.702546270632472, 8.520527009358347, 5.665972318146889, 6.673965330429101, 5.479702111472084, 6.978413682380946, 7.368797591730552, 8.68481883579745, 6.020429821125993, 8.617020960710894, 8.260425960294489, 41.36290242604445, 6.327866807101607, 8.061421039817292, 7.596698370752742, 7.222838356051846, 7.197601998449875, 6.510928324808484, 5.4210086400362725, 4.684452015172132, 5.345967244387003, 7.852429395717402, 5.276331811929294, 7.288398187088826, 6.3253239495216755, 7.009348288659693, 39.37581034697437, 6.558237055982775, 6.543401642035774, 7.452478321468674, 6.253184758030894, 5.271431368869063, 5.879922171208658, 6.26970080104461, 4.964300465733727, 5.937733741225002, 5.340475112985337, 5.5361288985484505, 9.985296868375242, 6.158479398211087, 7.4345404313600705, 30.186089511561438, 5.682026653641912, 6.837991242018216, 6.335088226255221, 8.292624896991144, 4.468615241690759, 5.778102176088734, 7.393941043148043, 5.145877777657063, 5.029301923970592, 7.148274646755076, 5.284008757882384, 7.130057457971191, 5.703867199802249, 5.540019977280385, 39.37581034697437, 6.086240628323485, 5.047455230054955, 5.656178228847906, 5.37227515024438, 6.599885962537922, 6.731467192348149, 5.672258261177336, 5.431291150506118, 5.221750281855144, 9.37778483317306, 6.338544682479954, 5.696602570107486, 7.68902808022071, 5.78666698395521, 44.971857836591724, 4.889341750045097, 6.774833536609749, 6.732214864216479, 8.211803509030217, 7.84200755184589, 8.60781121410036, 7.424053782216417, 6.846349473908325, 6.0191805434151116, 5.865006563007921, 5.520071921640389, 7.335399447948739, 7.1169596715862715, 5.579174206777279, 48.704335660453054, 4.889721111040071, 5.424091186351185, 4.474211107608815, 5.3494707859925565, 5.013555612819801, 5.286876983173889, 5.705986238658234, 5.149287453127474, 7.653395274500902, 5.800198531398015, 6.075695125047042, 7.0345391101237835, 7.249727949584016, 5.904131246469848, 44.971857836591724, 6.781011804755328, 6.891294996049342, 6.079184123043386, 7.555543196775655, 7.070603837646852, 6.659319190171584, 5.508877274237668, 7.877977267034419, 5.393593707167008, 6.519003734656968, 5.147941426998613, 5.372836622301307, 7.163221315973013, 8.451281977180042, 39.37581034697437, 5.336769125205664, 5.055460481423076, 6.210158764236177, 6.413638753923269, 5.983003056059744, 7.6496593624773395, 7.437911781099818, 5.423471710647689, 5.175330965809375, 5.429923202302869, 8.317652244161506, 5.827173268187391, 6.534592489790536, 8.134521803883462]\n",
      "E[shakespeare] = 8.63685928909992\n",
      "\n",
      "nytimes\n",
      "[6.204496502240191, 6.437067813168337, 5.758369390491274, 6.751011354598133, 7.773893659495295, 6.602117119361971, 9.392742611651759, 11.201846307643322, 11.042204234606052, 6.879160680450294, 6.4671702637375414, 6.016938654078463, 9.8712577379901, 8.556126537607822, 6.677332844939327, 7.218142575368713, 5.910173217586233, 5.78497778695803, 7.204673256053446, 7.779166876083901]\n",
      "E[nytimes] = 7.476443471205509\n",
      "shakespeare\n",
      "[21.34478859112921, 5.576306912063614, 5.6252465170923065, 5.609168113645106, 5.930347189565121, 4.395289741791899, 5.634143519329914, 6.293018527017072, 5.854827180376379, 4.83106130382833, 7.06773203949947, 5.144015964105929, 8.169919806184701, 5.51648815855072, 4.987497007723062, 31.252601383443707, 5.936829572610224, 6.2310154778995575, 6.782700933116914, 6.751798794391513, 5.177950374630984, 4.661379826501036, 5.570760951397938, 5.856808660196797, 6.231350557468014, 4.712171607723688, 5.968416286296092, 5.229281619330259, 4.855415093224933, 6.004600376739753, 37.81667404208963, 5.010094205154905, 4.562092288944541, 5.8646731451724285, 4.803385410667025, 5.744790395722912, 5.386901298113296, 5.865429170690293, 7.087014192197506, 4.309377695974878, 5.95333714465243, 4.97352936671033, 5.257420652087524, 4.91871432196945, 5.382956957062329, 31.252601383443707, 5.389643965984992, 6.074649961781792, 5.2767615425920305, 6.080773371140164, 5.4468836099163775, 5.941326008080941, 6.297097554250438, 5.576545517800225, 5.970491411384743, 5.377430893373072, 5.07794468308151, 5.673890967103937, 5.353168821367614, 6.655675912193207, 21.34478859112921, 5.019880057482365, 5.851143452395569, 4.854177038542732, 6.504791131726198, 6.715113439073638, 5.311104168390668, 5.869397002253509, 6.734404524359122, 5.824116179774962, 6.13309952613968, 5.572569867913473, 5.038090944140613, 5.280679739350731, 5.767366981802719, 31.252601383443707, 6.4093894041142265, 5.704738553215605, 5.240018986786036, 5.91358411531858, 6.294320165407294, 5.1215347160923566, 5.007889205779864, 6.830702595178236, 5.010825293833144, 7.336089921160247, 4.6534881206355685, 6.105855186224161, 6.017151944530242, 5.968231906267988, 37.81667404208963, 5.431861762111506, 5.62221668200451, 5.771910294439061, 5.118001547751217, 7.158003611969409, 5.13028492912348, 5.9116483025898905, 4.848419995492181, 5.972224550839693, 6.34709425296367, 7.525947343137248, 5.345559877371993, 7.4851473266466275, 7.138697088432366, 31.347218223054355, 5.498313684663383, 6.702064076909542, 6.919323835344481, 6.546129595002332, 6.2873917468290585, 5.795628447245547, 5.041838429779919, 4.319990810845583, 4.9067279264628665, 6.592996033237461, 4.827185537429938, 6.5992426845587255, 5.629074720192181, 6.0879652583458626, 31.252601383443707, 5.797985365448725, 5.883245739305011, 6.384545470635195, 5.671305211129454, 4.925636853616812, 5.44152956137278, 5.662281807346852, 4.529338777308734, 5.216413207545154, 4.834856947739067, 5.153038937513641, 8.079123139728779, 5.342911704036126, 6.633511295311608, 21.34478859112921, 5.050014898171855, 6.015477344010565, 5.760751106471731, 7.433463704395741, 4.1094463527352705, 5.2326811145270264, 6.396216912069726, 4.749372166953358, 4.751722028549355, 6.468851693371434, 5.013944667867703, 6.244438689309487, 5.3854847987062335, 5.163126990820438, 31.252601383443707, 5.439565131428061, 4.6328520139399805, 5.054996031492867, 4.969468007388373, 5.8980148935300685, 6.033803635425246, 5.244240842629172, 4.939879397183055, 4.859342891826881, 7.697347481657468, 5.759427033731857, 5.087989585562518, 6.936705899105991, 5.163263587803127, 37.81667404208963, 4.652192624365919, 6.062934648527802, 6.001243218204236, 6.882611106871581, 6.765156997800691, 7.310597511986059, 6.525553276807276, 5.96323593601127, 5.47084343252071, 5.355065859334131, 5.063105100588048, 6.598722892556523, 6.0794462369177635, 5.263643634985414, 42.39958684417089, 4.539467681002398, 5.0648008083929135, 4.232765442507575, 4.93456323399894, 4.715634058477137, 4.72327161012239, 5.079441281015203, 4.643907837609992, 6.804989346550753, 5.081897422563144, 5.371250621943365, 6.040031142377196, 6.153575873114243, 5.507419895955854, 37.81667404208963, 5.988804369312587, 5.831375297774026, 5.442309683866617, 6.3209795637542445, 6.310552710594673, 6.0732092332399334, 5.079314738863807, 6.782515782379306, 4.9073072869998455, 5.934354615559989, 4.562109424979129, 4.941384749860656, 6.0484154976383415, 7.294664346947213, 31.252601383443707, 5.022306817735171, 4.668661577772832, 5.520173767403306, 5.776189100722608, 5.548841975555183, 6.384256118434887, 6.3213314886873055, 5.002176567689603, 4.8665517971710885, 5.077493447645213, 6.898547851081162, 5.254120662915769, 6.023770261486888, 6.894414551634176]\n",
      "E[shakespeare] = 7.4393012326499175\n",
      "\n",
      "nytimes\n",
      "[2.153879813063891, 2.2628641936286726, 2.1166984616624487, 3.0390515074662776, 3.028495353868209, 2.7963526836591264, 4.094749197273045, 4.762740656313171, 4.085272973803072, 2.8299524827315796, 2.2058408003708654, 2.424956049455546, 4.562248826865113, 3.7349132156172367, 2.7212858565454536, 3.4105976557155473, 2.3519039390142646, 2.5243480168412837, 3.001575265257516, 2.7897787249354966]\n",
      "E[nytimes] = 3.044875283704391\n",
      "shakespeare\n",
      "[6.749814812274479, 2.6160631997394077, 2.6966142077041, 2.8552887517155043, 3.0905829219555514, 2.6572365633224986, 1.9322767259063816, 2.7588251289715933, 2.682396554192279, 2.639291618277661, 3.0263164206670323, 2.7816519208383115, 3.020464522718877, 2.5437895513622375, 2.9345896619114367, 14.50617256027436, 2.9467770110146994, 2.7559834464558866, 2.659904193462133, 2.93980200568443, 2.8093060957334908, 2.658814537790176, 2.6109402418534318, 2.846303834349716, 3.1023210337603984, 2.627277569653328, 3.226602501106675, 2.774152876137901, 2.882372391945907, 3.001967926546377, 21.265878595120153, 2.594357533795098, 2.9930079620492296, 2.421007595140987, 2.5780205233862983, 2.753811915922195, 2.672864972503477, 3.3897817010517017, 2.6464093310672343, 2.9054327694924726, 2.4110687663352546, 2.7745999976997946, 2.6169102809299982, 2.964526768630748, 2.8513153524350345, 14.50617256027436, 2.415183902670856, 2.673512604941304, 2.6458309237135387, 3.117752462372661, 2.4462535972474555, 2.8754155944905024, 2.568397180695936, 2.5215163901108686, 2.508646758455474, 2.8293746426727284, 3.059910969409191, 2.4307509162008203, 2.2617156234208706, 2.331596504294787, 6.749814812274479, 2.633535680164305, 2.5801298615165686, 2.870729593389605, 2.850063580996998, 2.37802604812367, 3.049787618071155, 2.311359201135543, 2.714490612865215, 2.608811177567232, 2.2964074778690833, 2.2457717961212977, 2.840323383877483, 2.9735927129162363, 3.1191527930576197, 14.50617256027436, 3.046078651648542, 3.0262153412543356, 2.523638264827071, 2.6800204189605403, 2.7381778109217723, 2.7444654120969263, 3.2781362325831926, 3.196683948820028, 2.9321086481331213, 3.541641909527689, 2.8763602466238503, 3.0378488709243157, 2.905341275515498, 3.1663842563364044, 21.265878595120153, 3.087680589596317, 2.4386580163306757, 2.638358882191213, 2.528590446658384, 2.8911778642361945, 2.5200578061548313, 2.6355683564854866, 2.144746302141364, 2.482935476080033, 2.6525169751898763, 2.8577412289008883, 2.570352571543012, 3.4826518890095772, 2.9025978951416738, 12.479552351503195, 2.427356827302205, 2.471635063671968, 4.03782500076919, 3.650744594127723, 2.799653816546468, 2.7349962076656076, 2.72435107669049, 2.6389312161474536, 2.6583249147322796, 2.274659521158462, 2.6054862937278673, 3.1798533983222854, 2.5902972044629933, 2.8380810797536378, 14.50617256027436, 2.6900630332173456, 3.0450965576539386, 2.7164239418581855, 3.0974015510124375, 3.0239871335358437, 3.0235219684650234, 2.6328491676199635, 2.3262737361381554, 2.39574014623092, 2.5703459236474524, 2.919682527352575, 2.6733055856785284, 2.5307382797466875, 3.510064744609841, 6.749814812274479, 2.506147287419403, 2.5856473570983347, 3.1738273240845407, 3.941292150376581, 2.2461120122066975, 2.7191546182707476, 2.578705720190683, 2.687550312177829, 3.0760452711079984, 3.335169975353643, 3.217361088233846, 2.844186633237604, 3.4566900394318707, 3.138806297041657, 14.50617256027436, 2.6868728747778317, 2.760855664835755, 2.5668419005434906, 2.810964338201152, 2.6249529858057197, 2.988753729378319, 2.945954173901801, 2.7361036591928958, 2.8697910356865184, 2.60691590805124, 2.824821292739445, 2.330480842134994, 3.7695936386748725, 2.633047902767702, 21.265878595120153, 2.958117792629041, 2.948971214011603, 2.8003889061262126, 2.604541371832235, 2.597776060443427, 2.918404069982037, 2.8506837719102225, 2.7171070799899484, 2.885873543190405, 2.9885227206073837, 2.6768792683800973, 3.364404989304439, 2.602933726558871, 3.3464258663148567, 26.752330722255397, 2.8366202626757797, 3.044518900926853, 2.7861821364124473, 2.79389969367793, 2.915204932907319, 2.2432200740092307, 2.4783985184300006, 2.518827131308291, 3.0575949493631676, 2.343549429783972, 2.587830781111506, 2.262483300144337, 2.6196560890549225, 3.230054217119836, 21.265878595120153, 2.6711326256328567, 2.576081240248213, 2.7786845875823456, 2.305484563091393, 2.859201575915511, 3.1563261751631884, 2.932530577024272, 2.8188666086171628, 2.5448579624466694, 3.112157149833444, 2.356539073356641, 2.890637352344559, 2.588626865664049, 3.116679976480114, 14.50617256027436, 3.1004469001878925, 2.4962681898672345, 2.640991074718098, 2.6912382526088905, 2.9161755520195114, 2.4118933790917723, 2.502653489597121, 2.954701332842375, 2.984854877348889, 3.096039291756558, 2.4312081904126885, 2.714970817161316, 3.4771515460536966, 2.8098205781852137]\n",
      "E[shakespeare] = 3.6323702599215757\n",
      "\n"
     ]
    }
   ],
   "source": [
    "for x in [0,1,5,10,100]:\n",
    "    s = get_model_scores(NgramModel, c = 4, k = x)\n",
    "    for k,v in s.items():\n",
    "        print(f\"{k}\")\n",
    "        print(f\"{v}\")\n",
    "        print(f\"E[{k}] = {sum(v)/len(v)}\")\n",
    "    print('')"
   ]
  },
  {
   "cell_type": "code",
   "execution_count": 54,
   "metadata": {},
   "outputs": [
    {
     "name": "stdout",
     "output_type": "stream",
     "text": [
      "sum(lambdas) > 1, normalizing by sum(lambdas)...\n",
      "\n",
      "lambdas = [0.3333333333333333, 0.3333333333333333, 0.3333333333333333]\n",
      "nytimes = [12.12756896206027, 11.398065304591833, 11.064588107822905, 12.022709343302235, 13.62339620383827, 12.00821123281535, 15.179010966215566, 15.473737330620555, 16.861933712593483, 12.079630385906283, 12.447697336267561, 11.76932554218231, 14.924047864163187, 13.743157269681351, 10.970446552984884, 12.592717015278474, 11.191887094481096, 10.886972354796804, 12.172291192353546, 13.829270641301546]\n",
      "E[nytimes] = 12.818333220662876\n",
      "shakespeare = [21.81290468692688, 10.856262168716682, 10.114450455683148, 9.373349026341982, 9.434476745698126, 8.907113434987235, 12.646118787550442, 10.556011834523192, 10.29918517337877, 9.271914411012304, 9.729450637340456, 9.500826286820228, 11.715903359739062, 11.077470894728851, 8.144066239752895, 33.531661074913664, 9.745341235544815, 11.549400335821678, 10.7255182354318, 10.180334399624664, 9.569433179067579, 9.146155622118396, 10.074045024332785, 10.250203206599684, 11.339773810195569, 10.022650817089758, 10.005384260414393, 10.59420499875483, 8.788582033197356, 9.867324693102569, 23.035136617725968, 9.449045229020875, 7.787406923718965, 10.642286185122007, 9.593733649196627, 10.028763899992708, 10.459356335008483, 8.682424892920594, 12.31339899993839, 8.252463993210363, 10.80457884543399, 8.96225768979049, 10.091981633017323, 9.101535320933154, 9.123786001418422, 38.91587387689169, 10.774008469807491, 12.343421855416645, 9.79705368067777, 9.417927982578357, 11.435202158906739, 9.504028655637917, 11.387674272756442, 10.737547450187817, 9.625733680580385, 9.61609043316879, 9.10061912867272, 11.010238249721999, 10.460483979150188, 11.108319046870319, 23.5575112852827, 9.564608308694911, 10.419100852321677, 9.11218376308773, 10.486358546653294, 11.801133675196493, 9.297008895385671, 11.436822059891632, 11.748417477882237, 10.672243895403904, 11.736829696470819, 12.583305638011632, 10.238953760543344, 9.246018642368115, 10.261938789857426, 13.853976107874843, 9.928531270319592, 9.269645900191197, 10.392107301040248, 11.323959501536468, 10.388248195719095, 8.86221065775292, 7.563716319485133, 10.215581215388175, 9.124532900368221, 10.086458451247333, 9.031230271374584, 10.017896036571678, 9.815232873380934, 9.18876774201934, 17.849012175088582, 9.464410097771312, 11.87407930353897, 10.485695320587794, 11.225877468963558, 11.026547356080817, 10.953882230016164, 10.981602667564388, 12.731986430425737, 10.513587138414705, 9.995666678684882, 11.470647748335162, 8.679690734364085, 10.26330213203832, 10.74389320363589, 14.994463859744032, 11.196835558820508, 11.175319018038001, 10.009583984168621, 11.85934429994759, 10.24438541983069, 10.201874362929413, 10.41157869370834, 8.958010140068836, 9.459327178966488, 12.903021811128188, 9.699475381974395, 9.599020255905735, 10.688233174354364, 9.790939059245224, 33.223760336508185, 10.6095649194142, 9.925954015089907, 11.688010243126447, 9.124437152751915, 8.65584802426739, 8.639349515072604, 11.462101822148421, 11.119664815929374, 10.262816062114378, 10.021934634224792, 8.86338253180464, 11.164883474924993, 9.902534752771988, 11.177394854257354, 19.394031426576657, 8.858391289150397, 10.622763197432878, 9.800472461266443, 8.956407514783029, 9.53276389429013, 9.323776766066683, 11.786030920518948, 9.698620330155544, 8.804474764044153, 10.121462390862941, 9.368128342574531, 10.809544576584951, 7.5091668057438445, 8.502285748770374, 16.93951768724846, 9.748092912488966, 8.8213630327492, 9.271981843582603, 9.055487760595614, 11.32376372456765, 9.246269850547138, 9.284494355654287, 8.834502452993743, 8.93664331926785, 12.718190541114447, 9.748154109649064, 10.668544381157549, 9.840834738601787, 9.426723748619326, 22.814777358155563, 8.322557289836972, 9.370222565662091, 10.027592111416796, 11.280794008361593, 10.989551377939975, 9.866650205341218, 10.683592474396974, 9.487734525541152, 9.579892107252718, 8.34411049931297, 10.856148391599275, 9.458461782427317, 11.176003723404214, 8.564149605272057, 18.247886926512084, 8.056776716056637, 8.021558670039571, 8.1613908415925, 8.57119744427749, 9.050505164577938, 9.675073590292083, 10.409705710835183, 9.474018568853827, 10.432649528644994, 10.571143148634118, 10.293722912979662, 12.19900817679106, 11.11660833618458, 8.872140144100085, 23.445765648693175, 10.944789373580058, 10.077038158637306, 9.03672877728817, 12.405527774674763, 10.867652280543888, 9.081189758541523, 9.581968120490098, 10.023238685272611, 9.87658330289887, 9.50032992047357, 10.453750063956416, 11.02653352244226, 10.829122872137303, 11.686143153287182, 33.24818544674901, 9.033687411005523, 10.5231545287439, 9.707911973041865, 10.885997811557166, 9.900022421505888, 11.171081459333228, 10.406909757152706, 9.251014631249092, 8.62879017384015, 8.862802562049984, 12.708812732907727, 8.713747395360949, 8.2437810020295, 10.260820242579435]\n",
      "E[shakespeare] = 10.978759760146355\n",
      "sum(lambdas) > 1, normalizing by sum(lambdas)...\n",
      "\n",
      "lambdas = [0.625, 0.3125, 0.0625]\n",
      "nytimes = [10.527677810932609, 9.703050650886977, 9.326803614883767, 10.100898905381682, 11.5683281647909, 10.150097978668564, 12.881286267121803, 12.688640549311122, 14.715859833196733, 10.382745691690722, 10.674612394795439, 9.775823501342641, 13.251890922351294, 11.359777064131823, 9.228947736076908, 10.588410232535088, 9.527081809431689, 9.126815764898842, 10.266337356637251, 12.205852882118954]\n",
      "E[nytimes] = 10.902546956559242\n",
      "shakespeare = [21.963530155286744, 8.985269442484658, 8.167856782746668, 7.676155299945911, 7.731503962615319, 7.031249756111278, 10.152449070236125, 8.730991282262194, 8.43435794769147, 7.548908014074533, 8.00570352209331, 7.814639945419405, 10.135625611003569, 9.79755372670336, 6.520411962916669, 32.03553460815762, 7.934362851254172, 9.745502128638122, 8.761414272413738, 8.704311262718779, 7.664398164091708, 7.597777524401849, 8.275531434465892, 8.364364807485645, 9.134240525969682, 8.022927236482548, 7.86071995160429, 8.281395398968026, 7.243148028214436, 8.19198391885984, 19.20360680751173, 7.7156376251703565, 6.045698834640344, 9.097673604795942, 7.585292665095239, 8.12603305519262, 8.662111652280963, 7.087956888900441, 10.103772384606936, 6.635070327051872, 8.840161538052937, 7.417645741440977, 8.2497506039443, 7.343761544343733, 7.7522360389904605, 32.292304129064966, 8.766901199211242, 9.921550569735635, 7.765422695054883, 7.792054840346729, 9.729698350997134, 7.820237128060558, 9.928684815087923, 8.63634274785973, 7.699016402648283, 7.6831434440068636, 7.514756218748026, 8.928599953339234, 8.966402732790034, 9.627359566547012, 23.876880103956335, 7.632735226006905, 8.732172833510113, 7.3648447382090465, 8.397225250616842, 9.725132111412714, 7.709447153033143, 9.596821545710077, 9.948143665036454, 8.707669012997188, 9.7342010235213, 10.61940428461909, 8.573016494671888, 7.5153277747821585, 8.409852956681515, 12.837335127701303, 7.990185560561095, 7.620481987938712, 8.255707067359117, 9.214949443358082, 8.459431041416272, 7.098885365499122, 5.86809937412538, 8.581824584102785, 7.489142299256456, 8.69083773550875, 7.153594189224777, 8.009649636937823, 7.757548347611173, 7.36924205172625, 15.904747335236253, 7.578180923190091, 10.126699856823723, 8.156221754730264, 9.143813059602644, 8.867748608256289, 9.100607440335915, 9.196875466295332, 10.88089639271104, 8.518435949482628, 8.387298706817358, 9.930458566934629, 6.618070083217066, 8.922076618542045, 8.793899433424041, 12.149222284125724, 9.251665588347565, 8.864530382058351, 8.052345795200589, 10.336564468260145, 8.143283302612053, 8.504390463827663, 8.612972405833132, 7.3236725743802875, 7.433359915658667, 11.184402826964767, 7.82165234995697, 7.9480357020184345, 8.885074976251499, 7.797383155212518, 22.821894277134152, 9.03224795751227, 7.825413141980958, 9.947502336594317, 7.2967180990206, 6.837276836443878, 7.144794358643502, 9.672649147211937, 9.240144567758755, 8.373115405997817, 7.913341593205934, 7.23625005900164, 9.405158897926622, 8.517783791394534, 9.156136468124181, 18.610379781973883, 7.030882943020602, 8.601453473042298, 7.883495520616835, 7.247950857819137, 7.782571735170966, 7.164747105801975, 10.698317742685648, 7.860981510769242, 6.982333785618922, 8.217896156607964, 7.481561599033713, 8.690601562064218, 5.943379290060103, 6.975529022249139, 13.452445979290456, 7.914584675089188, 6.927347064688761, 7.3670891981313495, 7.343411506232611, 9.722780934872679, 7.343285299742277, 7.7114875855298886, 7.152925157584591, 7.352022869731576, 11.335008726473507, 7.970024951132607, 8.97770668983772, 8.392214475476106, 7.692170590057836, 19.829559892033117, 6.710123473010993, 7.635999840814623, 8.15335087811746, 9.654313698924403, 9.691177727783225, 8.331328173851684, 8.64809240245539, 8.026893718643137, 7.520988359089531, 6.619023597816263, 9.034305953147104, 7.81951542790438, 9.180600565421814, 6.941818124029244, 14.493641636512647, 6.0739918384774345, 6.36257159181361, 6.181250412801949, 6.762921589686936, 7.2009188730498055, 8.170315364068028, 8.084403580363384, 7.734249450354029, 8.69918863608779, 8.509128818834826, 8.425593015193192, 11.008686437206915, 8.861032024822006, 7.122864547504769, 19.382202420034822, 8.522249838932403, 8.460204950712935, 7.251726156869615, 10.23460584022116, 9.09300878378455, 7.492710322115152, 7.603317638560229, 8.502480145987061, 7.858457915905908, 7.747223728594912, 8.581073079567691, 9.08451730623478, 9.55390761035541, 10.068407618834128, 31.245134286136665, 7.178379763132387, 8.364401640252776, 7.9877386943052535, 9.270144880044096, 8.148658669875365, 9.484517120654944, 8.750298189595659, 7.610924284111251, 6.94764690453779, 7.037838170885907, 11.293903834986372, 6.940029789266709, 6.576729872709802, 8.593725049706686]\n",
      "E[shakespeare] = 9.099680470930334\n",
      "sum(lambdas) > 1, normalizing by sum(lambdas)...\n",
      "\n",
      "lambdas = [0.0625, 0.3125, 0.625]\n",
      "nytimes = [15.393667625513894, 15.317278224804909, 14.854337700120094, 16.381644625038536, 18.294266552241876, 16.286939396710334, 20.71509962110683, 22.626829741588324, 22.162637313671336, 15.759809365196624, 16.409019665672446, 15.94082087784864, 19.220352196349147, 19.474252218818755, 14.722649419102543, 17.126715430542774, 14.873717279453265, 14.594696391608215, 16.367387380463022, 17.578185008948868]\n",
      "E[nytimes] = 17.205015301740026\n",
      "shakespeare = [24.51457378603526, 14.36935399975616, 14.248847497481107, 12.897422924678153, 13.168777856640762, 13.1135713003544, 18.058530796081822, 14.435744955066639, 14.094463547414623, 12.940890391657135, 13.645717867592008, 12.889326630942705, 15.35153980335285, 14.115461694926992, 11.944721362725627, 38.041005939405096, 13.498830698285099, 15.21121140517715, 15.39016290897494, 13.773649352999483, 13.324946505298124, 12.636738236687087, 13.910096302100106, 14.174071171617413, 15.945241436909678, 14.302113392883259, 15.192060234560019, 15.56169359109429, 12.053657871521116, 13.424585619801032, 35.756326277344705, 13.174408323106507, 11.676224744753922, 14.015124907516185, 13.769967431790434, 13.822029418082419, 14.801218757398704, 12.012425427139858, 17.44798962309065, 11.488064449112489, 15.465654877215625, 12.243120307209633, 14.192040070922895, 13.49741342350524, 12.20193352203778, 54.86926295704504, 15.018156939103644, 17.498726567966802, 14.305119104631519, 12.540512590758174, 15.069508377199883, 13.24774144131834, 14.760746521367514, 15.152973398380311, 14.01110807671478, 13.674298226726727, 12.201649693234605, 15.256024188058907, 13.888715841349455, 15.338669826180446, 26.899301907177808, 13.494600828793532, 14.535223406852362, 12.763600523915242, 15.380763608956126, 15.799824393812592, 12.848677017259343, 15.343853135653482, 15.714280462689489, 14.662172684025759, 16.130842980360345, 16.503405787238247, 13.782105763431122, 13.25196008923267, 14.391339046900558, 16.631314237305176, 14.02013593912497, 12.808135256185492, 14.649933571264683, 15.90489534068116, 14.73525554772116, 12.725785853109095, 11.343323078976482, 13.510685866898855, 12.462818172013893, 13.063123628349606, 12.914523734065014, 14.489788148451538, 14.946262248548727, 13.342266109405283, 23.917298412139324, 13.475310437393189, 15.76991795756777, 15.817609083038084, 16.52609943935658, 16.133655692334308, 14.863001748369989, 14.708726201583183, 16.811891974390203, 14.953183461193417, 13.663764628555747, 14.966634669108679, 13.306127869308014, 13.923342291369131, 15.214678706691268, 24.974730781041316, 15.416620616227043, 16.261643755305236, 14.535219229079527, 15.243013356688545, 14.720284737013474, 13.914815388159342, 14.122123222360683, 12.582709597637761, 13.661827363999011, 16.676765357310043, 13.812976527282652, 13.029081032213103, 14.674762850431692, 14.405124070174113, 67.35001260913643, 14.16624473422613, 14.226872857105963, 15.369775733631682, 13.304995610591279, 12.730580137613257, 11.80030299067606, 15.52741249849194, 15.159576914182885, 14.328972541139086, 14.887751189844218, 12.34831116959135, 14.554031792169619, 13.068499333908909, 15.861165077211238, 23.393360583873292, 12.77377391088079, 14.758517106839912, 13.978393084596505, 12.901243341418324, 13.065696123985823, 14.082806020945794, 14.699492186690984, 13.56257919220438, 12.740375677532322, 14.223571816884743, 13.368066219829316, 15.137040075187333, 11.512661878556598, 11.84066808731861, 24.71959854047793, 13.382644016163947, 12.8105502370098, 13.44306938747472, 12.65260471372483, 14.905612561971312, 13.314934635469236, 12.473789013960026, 12.673377152072979, 12.188477060685067, 15.865482071618967, 13.553211496100456, 14.14284517316533, 12.93959228942316, 13.300765673594894, 32.263370327098755, 11.692800665654145, 13.443480310623329, 13.811526037070019, 15.146446859020456, 13.579026438050903, 13.270133916626667, 14.889930379178479, 12.643818852413448, 14.03952264159068, 11.949106252497733, 14.554282193309612, 12.608831474166047, 15.961986884400865, 12.156762177248556, 31.732106566837416, 12.905307537579299, 11.787808412309102, 12.937509927051437, 12.570995347838531, 12.987726519042457, 13.216001072418656, 15.630551845289038, 13.395069990632953, 13.720652909687384, 15.380512887698064, 14.43482619829278, 15.405401706498132, 16.86173839531596, 12.817662783875885, 37.4596751464804, 16.336346427388513, 13.483285276117378, 13.65366912244164, 17.477473879822114, 14.625370444499552, 12.557773266233387, 13.771384813210934, 13.205319076061178, 14.457206678023592, 13.00666454935586, 14.407810411327036, 15.452675201367995, 14.085967795455849, 15.63630287677775, 40.90180197048386, 12.981250352905823, 15.221015170995312, 13.407563840092122, 14.202620059794407, 13.263531810857287, 15.049766875837545, 14.340416861034706, 12.749547761677237, 12.030559976967666, 13.109818020830238, 15.822850731103836, 12.9266540277054, 12.452149558795858, 14.628506546146106]\n",
      "E[shakespeare] = 15.330437705672404\n",
      "sum(lambdas) > 1, normalizing by sum(lambdas)...\n",
      "\n",
      "lambdas = [0.47619047619047616, 0.047619047619047616, 0.47619047619047616]\n",
      "nytimes = [12.429908798442613, 11.551733957444045, 11.19697682656198, 11.833016093685703, 13.803645625600302, 12.278924627155762, 15.626584810667588, 15.198627899513388, 17.39558149107399, 12.07392104357321, 12.564323455177925, 11.840246295098297, 14.90949007323766, 13.994948291190498, 11.252903810762918, 13.079006737748488, 11.35232111623564, 11.279209484429195, 12.393521163366014, 14.270171296988229]\n",
      "E[nytimes] = 13.016253144897671\n",
      "shakespeare = [22.1101329355739, 11.113118217658233, 10.143218863664538, 9.811283247938707, 9.684839600107505, 8.832795032578138, 12.095336007834378, 11.217113629739703, 10.186790476167058, 9.424828589701134, 10.156446798271395, 10.260740115873572, 12.585722899787621, 11.148567236067127, 7.902679116894821, 33.702210299200146, 10.34482357657514, 12.172313618527864, 11.351698030850347, 10.207974678650366, 10.09352982983297, 9.305280148218468, 10.26548735054011, 10.388925721875202, 11.43395602919037, 10.252886699613281, 9.798913921777476, 10.722478481069485, 8.8055596770829, 9.990901684210518, 21.296037301327022, 9.339233313726826, 7.93223677763055, 10.732088413533832, 9.65171618417127, 10.084551242993232, 10.30020453346258, 9.174063506572057, 11.983034742880669, 8.538023494781273, 11.086413735123822, 9.242676368056726, 10.123625856170205, 8.87734509449145, 9.394891598975457, 37.97952010901172, 10.881341500297228, 12.296233913247605, 10.079735962090277, 9.966331132203605, 11.842633722752657, 9.905996094144003, 11.850283857228215, 10.301996679539247, 9.576803521667697, 9.486811416927749, 9.498657426977434, 11.336763750140733, 10.628187514719295, 11.133731508562407, 22.889033985106654, 9.81080280424549, 10.641615271705701, 9.21626008755969, 10.323129781643688, 11.772615068017842, 9.820263125127124, 11.938005797788309, 11.962640375572581, 10.979220083660016, 11.837698107188093, 12.848596919663379, 10.559672241293846, 9.30959530884381, 9.89363016122816, 23.299958580969662, 10.108680296131165, 9.536955185156073, 10.211020035605491, 11.541482103756927, 10.274266841704803, 9.346733309219788, 7.705560474933605, 10.460363322133903, 9.36748987998886, 10.611385495811104, 9.222656345056391, 10.188295261254169, 9.206753602951611, 9.20851351992113, 25.044537145592333, 9.515304683902125, 11.4287454977979, 10.184868365246247, 10.860875167691667, 11.170479443285972, 11.133141384856728, 11.19020300688, 12.941482141491363, 10.76809806216548, 9.912178908006762, 11.59964358579396, 8.461621878151558, 9.893231091623894, 10.028041189602046, 18.408331066988353, 11.133624145540821, 10.813631285641907, 10.015826481938474, 11.895393224918363, 10.481367511029356, 10.278876245691848, 10.792598531019241, 8.853499662239992, 9.376852349853603, 13.001341027134883, 10.091526198520361, 9.87582032930885, 10.372296605336073, 9.546764150920659, 30.95574428150791, 10.532651798308615, 10.117831214138619, 11.422006849959244, 9.375768040456967, 8.846317775903, 8.936013913126171, 12.107130242338567, 11.659920780970882, 10.28838592082267, 9.933763134088545, 9.219921153672749, 11.175876085093819, 9.927673610171063, 10.865984198044139, 22.366929267533774, 9.110437632562032, 10.773052501488188, 9.937425660405658, 9.022029182779672, 9.950812529869141, 9.224653470287429, 11.750298033971658, 10.084023985244418, 9.828482902257281, 10.442304182250021, 9.950444944356091, 10.84821327162887, 7.3046132855623584, 8.576913845806686, 22.31563632687364, 9.98314542674277, 8.742465626584297, 9.852281746076617, 9.55679330446228, 11.969803735209947, 9.865031428651964, 9.861007065317684, 9.059200249308514, 9.073294063993377, 13.46439172944181, 10.211287694316887, 11.393824093814667, 10.311243444055597, 9.265772825434944, 26.88054093149184, 8.680445031211145, 9.40968524909066, 10.549629072116732, 11.521319338334287, 12.009530530651123, 10.503061217616258, 10.873724651292328, 9.965798067924874, 9.823724294795412, 8.682960224666507, 10.7167827825154, 9.875820429852306, 10.625651557581985, 8.58945848274499, 19.480244869804757, 7.8957663442729435, 8.287581859334118, 7.916372991660445, 8.583017634864099, 8.913803032887417, 9.71598516057696, 10.209648696451575, 9.2716983886606, 10.765279939272348, 10.725352109246087, 10.463270300519321, 12.583087416243485, 10.576461811589061, 8.509157770457174, 26.715865396233962, 10.98825022166968, 11.623740147845638, 8.746942407571058, 12.310671349716808, 11.026616274894502, 9.309779102001828, 9.468249080145831, 10.946137588053189, 9.903820515573774, 9.519902137898827, 10.567620511508059, 11.008752963768515, 10.50957617911798, 11.955793856328219, 39.06575225722953, 9.299405570215999, 10.235535804824433, 10.071538781314876, 11.09791358409534, 10.552818008671222, 11.909113278286739, 10.286329175682132, 9.75888503885895, 9.008288604339768, 8.658139977870011, 13.473610297508683, 8.939304489811452, 8.000683263585545, 9.765139765423315]\n",
      "E[shakespeare] = 11.28882068801134\n",
      "sum(lambdas) > 1, normalizing by sum(lambdas)...\n",
      "\n",
      "lambdas = [0.08333333333333333, 0.8333333333333334, 0.08333333333333333]\n",
      "nytimes = [12.290911084489608, 12.122283331880485, 11.630820248254397, 13.404514066458962, 14.75372221198216, 12.744191086670424, 16.460044418846362, 18.425427867333354, 17.89368242327357, 13.046442383264663, 13.246603999043458, 12.54636025444539, 16.5139847939994, 14.925908099698605, 11.244415897037845, 12.946015441590895, 11.862804012896724, 11.075704879417414, 12.738283149743731, 14.18360236486059]\n",
      "E[nytimes] = 13.702786100759402\n",
      "shakespeare = [23.59948950879228, 10.835339538900849, 10.933641248394329, 9.277755519955003, 9.625394535493635, 10.066531328836483, 14.733382974879287, 10.201570611165616, 11.480514568100999, 9.827701530129337, 10.009138659051162, 8.951638087991643, 11.328920941920117, 11.970945360978996, 9.212852654026696, 35.6750972426144, 9.62023588066855, 11.38722797251837, 10.954263474389338, 11.252112397061458, 9.407217048061456, 9.74401304473307, 10.845459906423098, 10.694063523055744, 12.017953777953476, 10.230492559899862, 10.980439198067485, 11.095943200505204, 9.408541520547445, 10.37418223006958, 32.141550754204914, 10.0506610230843, 8.010744055675657, 11.533282581201977, 10.445885641982393, 10.56731441412441, 11.56534362922986, 8.485059173602753, 14.321226265457144, 8.229412891791334, 11.091983894376195, 9.18327671732545, 10.594366739499256, 10.40893407082673, 9.406657184457162, 48.468249826069226, 11.5676675842306, 13.08301132622931, 10.095385051521893, 9.180426432620585, 11.715602643390591, 9.89434650076449, 11.550221814499269, 12.361329573197777, 10.459088872287163, 10.71789232900263, 9.023983071727056, 11.401091399679768, 10.882380890232968, 12.335113275534908, 32.00478103183954, 9.9093255870842, 11.30331940166203, 9.727097883022829, 11.858237336761201, 12.604415373193374, 9.13163187644709, 11.33977632240117, 12.364222437815226, 11.202340686632906, 12.457351816259104, 12.896574770793864, 10.361296476737, 9.84594592800809, 11.912672519024676, 11.302923914691803, 10.557441981415279, 9.327797534567749, 11.326376694272502, 11.75735602602211, 11.875716841471924, 8.884699598842898, 7.93189784550098, 10.162446768810444, 9.171944092018173, 9.775438011630806, 9.337467606184404, 10.333434187410727, 12.064578526307997, 10.064194105880135, 17.420779144924833, 10.141023257412229, 13.9204272208004, 12.14401136040746, 12.849428781261697, 11.942097469476824, 11.461278501263646, 11.36944865546911, 13.751100642074464, 11.083136907294456, 11.054366310397876, 12.711072951310005, 9.727845630317143, 12.080459235963875, 13.545451621487912, 18.496451664559142, 12.13591580604746, 13.222375132444162, 11.32730732647827, 12.733434237250087, 10.748923936481026, 10.966023877168002, 10.748356182743114, 9.6451923360692, 10.440015914837003, 13.70341870487958, 9.605755367740686, 9.976202593017478, 12.318511300427287, 11.281809662676205, 44.079728358513265, 11.463138840953897, 10.25922145835084, 13.030565552884088, 9.483776604690755, 9.093122224716256, 8.97604073965938, 11.756134390022599, 11.18999601722394, 11.085259099819272, 11.048586503302497, 8.97336977655667, 12.049854566525566, 10.78581100990286, 13.025344033234045, 15.947779555569621, 8.890700189951, 11.53780079048997, 10.213813956611355, 10.008702422891245, 9.469612840030143, 10.329154262246924, 13.121555071878399, 9.928119190555151, 7.9808972137583325, 10.335312181326241, 9.011535346131595, 11.447065696941024, 8.65360598409693, 8.918050516159417, 16.342272772791432, 9.742452119134608, 9.390552325133449, 9.042723439762723, 8.962324743076794, 10.96454634764506, 8.845364313577877, 8.876450010805645, 9.048480187743476, 9.313273275507608, 12.513937104993849, 9.525626308051342, 10.473993804414084, 9.857615095650182, 10.476147457025247, 24.21600340675939, 8.301086349068111, 10.220723120852972, 10.173790764288539, 11.853486499877098, 10.456239134312721, 9.750992625621015, 11.12835379056783, 9.134020755004132, 10.096425916848666, 8.376853254709504, 11.716653943014055, 9.32857030829403, 13.454325810303764, 9.093808953111942, 24.0722307167721, 9.026257592636323, 8.111780443586332, 9.181503945880584, 9.241304764091215, 9.700373677349726, 10.287224527666565, 11.992840956061885, 10.788277839845259, 10.884921325662603, 11.680087107367996, 10.95571397106451, 12.684316495224287, 13.995182088688043, 10.468200396518949, 29.132919767164907, 11.900456839607752, 9.248643929152886, 10.916856992289954, 13.947660189098288, 11.36730231230526, 9.350535166346962, 10.32111160410383, 9.151866718263998, 10.999153166916269, 10.135994832318852, 10.978373702491666, 12.208256901301537, 12.53362539904764, 12.5496211449268, 33.956651124693614, 9.44424740441047, 12.367334221376547, 10.1271000630296, 11.429991264237684, 9.500531030154049, 11.116934351164867, 11.737850914444449, 9.11184202376811, 8.698807663064668, 10.007091499619166, 12.804241940790797, 9.473699583607848, 9.472801861387362, 12.558598483428382]\n",
      "E[shakespeare] = 11.787773070507876\n"
     ]
    }
   ],
   "source": [
    "for x in [[1,1,1],[10,5,1],[1,5,10],[10,1,10],[1,10,1]]:\n",
    "    s = get_model_scores(NgramModelWithInterpolation, c = 2, k = 10, lambdas = x)\n",
    "    for k,v in s.items():\n",
    "        print(f\"{k} = {v}\")\n",
    "        print(f\"E[{k}] = {sum(v)/len(v)}\")"
   ]
  },
  {
   "cell_type": "code",
   "execution_count": 51,
   "metadata": {},
   "outputs": [
    {
     "name": "stdout",
     "output_type": "stream",
     "text": [
      "sum(lambdas) > 1, normalizing by sum(lambdas)...\n",
      "\n",
      "lambdas = [0.2, 0.2, 0.2, 0.2, 0.2]\n",
      "nytimes\n",
      "[8.838510910205054, 8.793205206255161, 8.232673519135517, 8.732644497443232, 10.250220100591823, 8.810393166159862, 11.314920339761747, 12.440911739212895, 13.619749604664817, 8.861675563880071, 9.072524615798752, 8.413114469769434, 11.55544997436978, 10.507959633511723, 8.726364157554881, 9.532601536688398, 8.208037358745152, 7.776592450309424, 9.314068303052256, 10.414251299797897]\n",
      "E[nytimes] = 9.670793422345394\n",
      "\n",
      "\n",
      "shakespeare\n",
      "[29.904551818667493, 7.624648435295606, 7.066342784032428, 6.761396665962851, 7.138327559333438, 5.955389899846334, 8.954174857694792, 8.064730270642, 7.490344255149982, 6.4880412467895665, 7.734132195607656, 6.980671457404721, 8.955368482615667, 7.956327246045352, 6.19367281370912, 41.66701500541883, 7.210516443710775, 7.765264779901839, 8.071841326796422, 8.187523247561254, 6.695306106231437, 6.472736536841071, 7.377177269334825, 7.735237251460906, 7.532864300484028, 6.676768922540211, 7.306989378756646, 6.878671602476588, 6.350350886671565, 7.418337194033354, 30.18234639737258, 6.735996680168243, 5.854676929823346, 7.849490299025284, 6.621342875057497, 7.358715608193066, 7.044192805718852, 6.725680219175439, 9.451293447461515, 5.946909958145191, 8.328340324713364, 6.59022313379765, 7.21071071270602, 6.3276330528061955, 7.18003286558103, 45.83048733320394, 7.910853258166435, 7.854691038759693, 7.051670927545467, 7.14391739094629, 7.678325326060345, 7.134784805855462, 8.40091360825689, 7.992064345931685, 7.068990239493037, 6.6790543395820885, 6.380349428527501, 7.5221169486522665, 7.4699978770434425, 8.672815489865933, 31.94817457383747, 6.822561492694191, 7.368508778351448, 6.274483743173079, 7.4130740157277675, 8.688862929505403, 6.707372192319196, 8.604824962572636, 8.36754899751759, 7.441570882498843, 8.738481894013429, 7.605029145097945, 6.832630902382044, 6.795643809818607, 7.429780656770909, 20.547690782943587, 7.506155238680631, 7.04545605263537, 7.312372052652567, 7.483383248775233, 7.76126657595633, 6.567129365759164, 5.870531066824607, 8.257899652776763, 6.615869366755253, 8.065481812542705, 6.157552096424384, 7.69339022363306, 7.437355711328097, 7.115876376780799, 24.41112601166969, 6.67489340622028, 8.224117983556807, 7.7158797512377175, 6.990171266448766, 8.334168502983472, 7.489972648131452, 7.5665458635644045, 7.852374167600355, 7.643946351330627, 7.894463257757716, 8.660437865392627, 6.694515853688968, 7.967009759922571, 8.804141635296828, 17.729259827882384, 7.781218363489525, 8.178721916287918, 7.1723989113033735, 7.4571579790840214, 7.712735999064923, 7.6754273776403386, 7.001473491841464, 6.320968986810153, 6.556877308889307, 9.193456323643021, 6.681572041875684, 7.871649165570701, 7.593327446400668, 7.903100549897571, 41.821400135225545, 7.8516835106461835, 7.290323438029662, 8.736513717796928, 6.603857088802546, 6.150572928897374, 6.475268930318671, 7.340135863181707, 6.826424706800396, 7.298119235303905, 6.815067687972189, 6.261553354609561, 9.387626741182265, 7.356934563986174, 7.961163674670686, 29.71231425202809, 6.615821066961576, 7.747148900350365, 7.26360218341779, 7.263680727422783, 6.047770029199473, 6.651246713094448, 8.282016927604856, 6.271787197865363, 6.330366496945622, 7.318120937084388, 6.495261039309805, 7.784851900838112, 6.328649867783821, 6.245283431818343, 28.846099862610497, 7.2974548282048755, 6.049660567235518, 6.332984830954657, 6.448785879944498, 7.40525951206795, 7.126038761894432, 6.71536859068525, 6.096825354308376, 6.415709800410127, 9.733757134806929, 7.341463206958778, 7.125822617817417, 7.882122981172853, 6.890769868826619, 36.2931815905519, 5.7675414117962145, 7.153540189407119, 7.359153366149677, 8.703024496874338, 8.516754403083421, 7.550714907907061, 7.9697394756157625, 7.700607320801628, 6.674634350783012, 6.321426047267288, 6.886815315260482, 7.633883282973025, 8.033966379474654, 6.58427092888422, 28.826173697148914, 5.798609346515406, 6.247916887801052, 5.690277938499448, 6.276256527500438, 5.996689235281685, 6.821717885541254, 6.791994400446428, 6.265828672676354, 8.113378968693123, 6.709048036561703, 7.469814406637126, 8.649113991986853, 8.142937073272916, 6.834304970341068, 38.109458712525814, 7.624258984843133, 7.16360038952787, 6.699536308218392, 8.617943332123806, 7.687914190297601, 7.144711613907971, 6.649320237270078, 8.004057665424138, 6.37766523438694, 7.171176567796552, 6.819934740934168, 6.9711219271773786, 8.20570527618536, 8.569382193098726, 43.930753897443985, 6.2450276880814215, 6.752986206053388, 7.197524040740508, 7.542719645201245, 7.016493708497412, 8.688246494317545, 7.97671778981524, 6.501763241629257, 6.475720075762366, 6.621128361890064, 9.177317630863024, 6.740035732947125, 6.753605961275925, 8.31805905608261]\n",
      "E[shakespeare] = 8.98143244435993\n",
      "\n",
      "\n",
      "sum(lambdas) > 1, normalizing by sum(lambdas)...\n",
      "\n",
      "lambdas = [0.5263157894736842, 0.2631578947368421, 0.13157894736842105, 0.05263157894736842, 0.02631578947368421]\n",
      "nytimes\n",
      "[7.371572518172122, 7.518887182312917, 6.841254089361744, 7.37129865181674, 8.70873434372091, 7.407587807960596, 9.852646085428226, 11.125053637258057, 12.255150082513861, 7.537475875282454, 7.629484123728552, 6.9308515286619965, 10.312146319021739, 9.030681969240142, 7.537214282697111, 8.103348324231082, 6.867209259493997, 6.432208294525422, 7.934154436878063, 9.022971469443467]\n",
      "E[nytimes] = 8.289496514087459\n",
      "\n",
      "\n",
      "shakespeare\n",
      "[30.190909005817485, 6.0128365581505, 5.817584564133594, 5.571498179036257, 5.960530529060227, 4.595891779889657, 6.994546945023212, 6.807615440729894, 6.237455672063504, 5.175954462083477, 6.851542726435448, 5.64040153900307, 7.989811449933553, 6.58285928227467, 5.144169561184336, 40.42235036148278, 6.099444241591977, 6.395203423921219, 7.028530793868644, 7.053080759524214, 5.494863211734034, 5.119654300392688, 6.15536800101813, 6.382666356410467, 6.168842040775041, 5.174648642080767, 5.94672208758716, 5.4367567459732555, 5.216497626294046, 6.284365313779101, 31.819705186724967, 5.513069451677028, 4.753393328052322, 6.570241234021444, 5.234470083603687, 5.966844650783051, 5.664548195237873, 5.815781142694744, 7.973372062747034, 4.653121008188539, 6.907594594914807, 5.383876512314911, 5.786400320621728, 5.137513961531743, 6.135799413199687, 40.864261397568015, 6.41383011851266, 6.231922406285619, 5.704498747035332, 6.072210573699222, 6.127689975791082, 6.077083045277655, 6.985509761191899, 6.453855822288923, 5.976819900639272, 5.560221422846325, 5.226499722000569, 6.150346302486525, 6.295840572405964, 7.728675801392713, 30.7147797582108, 5.573482555081363, 6.20743096460069, 5.024037499595001, 6.243720254672474, 7.288208951067769, 5.476607465661266, 7.198492569939203, 7.251258856449809, 6.173604080630517, 7.149201102853518, 6.204237084415004, 5.491759855582901, 5.535191430540042, 6.1876077826161, 28.495937891449476, 6.431183102249628, 5.8898319901581075, 5.896219014922696, 6.0895397453307485, 6.505501403348267, 5.48452026254857, 4.933510372110283, 7.214374037600937, 5.378550543559437, 7.164405385483338, 4.865518079521842, 6.489693978903806, 6.2725753155402195, 6.035376638198593, 30.95442845084479, 5.540611873421532, 6.621178278735109, 6.278017475475168, 5.4932557172377035, 7.195528048044958, 5.939119261285204, 6.184990713885926, 5.864959966676888, 6.302935228244365, 6.881624504913754, 7.572365515637317, 5.572583501860244, 7.186753397488913, 7.725832689128343, 20.217053816058417, 6.151707603082441, 6.886817724804704, 6.205612540790284, 6.1495647503737025, 6.473377281745092, 6.370622665685221, 5.50421824747559, 4.9282926911321825, 5.311692302794648, 7.705517165109067, 5.295329821657628, 6.999109222383304, 6.239190337696835, 6.770161347575722, 37.67079106918583, 6.512722426222576, 6.00641656892399, 7.299129758615542, 5.527156136210661, 5.036315500430036, 5.406015822996118, 6.009545860465463, 5.172535824393467, 5.905043275219553, 5.387620296950477, 5.156897574966393, 8.532602938576257, 6.247516067961355, 6.805597619474214, 30.023653244460757, 5.407799105500636, 6.481997525354611, 6.005331898732208, 6.587521976182926, 4.589932524355602, 5.380613951882862, 6.938568285756087, 4.937783550917183, 5.049789478195708, 6.217491363714179, 5.221561089516878, 6.548211636764112, 5.524983809667116, 5.277469742315865, 33.367667102245385, 6.019440739356067, 4.837684123851537, 5.154999741042815, 5.217730150515342, 6.091126326401877, 6.052611281107934, 5.517932110451831, 4.976048791393342, 5.144010345768586, 8.508985429723776, 6.125017822377827, 5.682647157308277, 6.918781787353813, 5.717311762708458, 40.39121744556484, 4.717222434039696, 6.039710854409538, 6.1913786459057425, 7.412568464215896, 7.418137788225321, 7.004025602949998, 6.68031736632883, 6.654985205859099, 5.509662182202946, 5.376155571045308, 5.442777775308102, 6.609379296194966, 6.60469846121577, 5.533869599399901, 33.359039600078184, 4.667356285628586, 5.319208406990297, 4.395575128540014, 5.09861932019107, 4.828330681789092, 5.408560585462354, 5.338822234982048, 4.9703990087284255, 6.95406604301421, 5.387415253736176, 5.92362962289082, 6.912653037205192, 6.752298161050281, 5.6165483830125975, 40.63480387292754, 6.206296008424941, 6.003763888124762, 5.591033482116766, 7.041851466894706, 6.406652494567968, 6.206917446917362, 5.306642680262786, 7.125729955097326, 5.034063376635722, 5.9610310929629104, 5.304076996144732, 5.439335411499781, 6.962167799927713, 7.342165862048106, 40.17795228452355, 5.076450998819195, 5.210433791074377, 5.995132717017549, 6.146048328730028, 5.749334464652893, 7.512323331078108, 6.850880880854455, 5.18119224248872, 5.250106169350376, 5.360231048167778, 7.746369448997573, 5.67318220694386, 5.956391140969744, 7.419436766035791]\n",
      "E[shakespeare] = 7.907189533897828\n",
      "\n",
      "\n",
      "sum(lambdas) > 1, normalizing by sum(lambdas)...\n",
      "\n",
      "lambdas = [0.02631578947368421, 0.05263157894736842, 0.13157894736842105, 0.2631578947368421, 0.5263157894736842]\n",
      "nytimes\n",
      "[12.814751093907672, 12.548730814311124, 12.146586279239946, 12.998735809779145, 14.948706925889734, 13.131596073529353, 16.595716929378106, 18.189338495663765, 18.661507836019794, 12.882612878948994, 13.276591889734318, 12.79604184446771, 16.01632858817221, 15.642993679335266, 12.330929503522922, 13.987363910565474, 12.075647440891704, 11.77651554275405, 13.521429692138232, 14.737340903889148]\n",
      "E[nytimes] = 14.053973306606935\n",
      "\n",
      "\n",
      "shakespeare\n",
      "[31.500516655669205, 11.82826825079746, 11.102645866966073, 10.463097688253566, 10.760229163650035, 10.003082043092903, 14.208497156101403, 12.014242176111313, 11.332392846331194, 10.307658491252916, 11.239105133476603, 10.749225220113644, 12.783858152066973, 11.674832054540957, 9.453682041302208, 44.73096876414508, 10.950436965987187, 12.089561051397277, 12.212616812543729, 11.572112017553055, 10.611992654719497, 10.214301981593128, 11.189362199066416, 11.644964667896856, 12.166525175764843, 11.019217077750588, 11.690836002041483, 11.673144081663779, 9.694823397264935, 10.966324929910408, 35.136168148984254, 10.326247452125651, 9.240175845177763, 11.567151739380627, 10.787933075484267, 11.32499216231509, 11.336877950925587, 9.945977714880923, 14.000090219948548, 9.394866375997227, 12.462908225935283, 9.933199707640611, 11.282698181337976, 10.160086960832595, 10.160035699814877, 58.389489712130136, 12.151979370524566, 13.22733598450403, 11.25158766113601, 10.507997410263716, 12.115780827235232, 10.667948190428145, 12.362314492186531, 12.191053373180205, 10.890053068745214, 10.426818231905946, 9.89509353176659, 11.903276837167908, 11.185390966961021, 12.258761058300081, 35.28604701536755, 10.724548273859932, 11.314560863540569, 10.02429729648585, 11.73618979013367, 12.81716089339479, 10.427840601419293, 12.7226126860419, 12.451435280801745, 11.661912275989316, 13.219596566433054, 12.478570367862101, 10.77527994492703, 10.528957210428466, 11.335428435784763, 20.774147576062443, 11.326112750209656, 10.540605202989559, 11.57276432828946, 12.246270364799946, 11.79404760264859, 10.130377271801416, 9.029261570610402, 11.487618853151854, 10.079849343070986, 11.147408132346436, 10.078018758306795, 11.607633517483572, 11.453069815203477, 10.64936166204321, 26.69634256085715, 10.520094007428353, 12.597474271021142, 12.235237022966755, 11.85908651747374, 12.742641951787814, 11.813828059054524, 11.702499557725298, 13.044671341493034, 11.920703853879994, 11.251630476290964, 12.427793981299743, 10.404179847797034, 11.19736995976189, 12.394230018007345, 22.55906362192655, 12.333816869281225, 12.6627590455187, 11.118822157212465, 11.859334331014866, 11.827697998407496, 11.455128017271077, 11.277385361020528, 9.995328424567033, 10.4982375424342, 13.646120187306757, 10.799265878930644, 10.992256568847038, 11.63787880515133, 11.606081625826, 62.00404038178054, 11.603027025133663, 11.371057556890038, 12.732364042429905, 10.409919252671308, 9.85856806760086, 9.673887625635327, 11.876947057872647, 11.626444630422842, 11.376763271735788, 11.218506438421425, 9.845036987107472, 12.596818818258104, 10.644915404441454, 12.147442393991797, 33.01772025901704, 10.266802043166598, 11.835620464057795, 11.24732139612327, 10.452202298805787, 10.174614639460081, 10.793660228699462, 12.12626717059101, 10.407710328967234, 10.237497619115489, 11.163851205615344, 10.517342308073596, 11.909630131916341, 9.162890457504993, 9.461462949887993, 31.912015612530315, 10.976209178633155, 9.821639307995992, 10.381327922772138, 10.139588453399863, 11.778342892200312, 10.862034162353826, 10.24320745117932, 9.766926667845281, 9.879459011653065, 13.615494942923151, 11.05373716523538, 11.338088030958085, 11.070753141516382, 10.536086980232872, 39.417883503558585, 9.202849478699362, 10.754445880307685, 11.234907181102956, 12.583870024660508, 11.824357276702969, 10.852945515242329, 12.058199039972672, 10.830333344043412, 10.873256791737846, 9.63251895228273, 11.155456771207168, 10.787182637429353, 12.47289391135496, 9.818553439884367, 33.32676632169855, 9.581542886339008, 9.385344715635126, 9.684491010896739, 9.849235589022511, 9.821254598160042, 10.635637497507531, 11.516916782778953, 10.282097055143145, 11.672278609037463, 11.21516914476816, 11.653895470043386, 12.89211132754548, 12.817368822337253, 10.329665590049665, 44.73346549587693, 12.342187392315127, 10.992300022003299, 10.343009479453524, 13.613965637457364, 11.785489549936006, 10.386468126457197, 10.695325068758503, 11.289541635082116, 10.743424139612673, 10.730852274535774, 11.17475726051853, 11.592704136631635, 11.683176498201279, 12.623845029163332, 55.38752237408614, 10.136555172689171, 11.358424339252284, 10.88620902048851, 11.596071392233675, 10.850641303797843, 12.481084173328274, 11.681816755691479, 10.301466693848095, 9.918955996165518, 10.31702961896451, 13.33969542355297, 10.20601053462137, 9.847729345585856, 11.700257711533954]\n",
      "E[shakespeare] = 12.99941959625382\n",
      "\n",
      "\n",
      "sum(lambdas) > 1, normalizing by sum(lambdas)...\n",
      "\n",
      "lambdas = [0.6896551724137931, 0.1724137931034483, 0.06896551724137931, 0.034482758620689655, 0.034482758620689655]\n",
      "nytimes\n",
      "[7.377092792900238, 7.586225623440742, 6.817033506425907, 7.407536596948235, 8.811399178622123, 7.42440534452688, 10.012963200580133, 11.463930589554767, 12.409420561083538, 7.603848705627064, 7.662849568863342, 6.940271652379696, 10.448078188217455, 9.173120443482501, 7.579502976999898, 8.082760785605105, 6.841830596062327, 6.455592552712134, 8.013535363701658, 9.12173796440483]\n",
      "E[nytimes] = 8.361656809606927\n",
      "\n",
      "\n",
      "shakespeare\n",
      "[30.05112715112353, 5.9762655263682, 5.8794022392674, 5.662481209991881, 6.019992193490314, 4.551988421304714, 6.94649940654907, 6.9117973168360445, 6.288615703500207, 5.134805093399184, 7.093979102559067, 5.565877952164356, 8.279941054775978, 6.466641190043114, 5.20003888286293, 39.89944536729433, 6.175876151357011, 6.45586837974302, 7.2076998722469865, 7.194053212890071, 5.543770866501007, 5.0444239588295146, 6.172706823103783, 6.380652705386138, 6.2947427135738945, 5.115317252633698, 6.02421354367331, 5.5023390436683, 5.221175246677306, 6.3770679656958, 35.413135130879276, 5.496965747528467, 4.742621971080794, 6.5799818951260995, 5.201314114051247, 6.030554519780887, 5.682587828154724, 5.9504256383221295, 8.1121765624001, 4.545967943083794, 6.892725362252254, 5.3418453375392225, 5.763670510162431, 5.102804521358281, 6.094921950579323, 40.38432665505318, 6.323392331079315, 6.358051307632692, 5.719135483914701, 6.169227548593654, 6.0885505338177515, 6.178197635955982, 7.024617935017335, 6.413590173531382, 6.162803170725316, 5.611961387603031, 5.253348452309927, 6.161098820168836, 6.260970785641759, 7.8321163524251585, 30.419362019550842, 5.568333174118553, 6.249223422291598, 5.021626319813064, 6.437108090061667, 7.397420461341097, 5.505846107628136, 7.103701762762325, 7.385303017987896, 6.252377841779404, 7.090795527458931, 6.239936361780788, 5.401290187971201, 5.526719584547333, 6.197718233115488, 31.10395287268708, 6.586313442026909, 5.948931409391893, 5.868575392513843, 6.194491693952024, 6.614384058221128, 5.510877178699388, 4.984041804827051, 7.288748985820156, 5.354372428465761, 7.34823780469531, 4.8739099796733445, 6.5368862468043245, 6.415639897675395, 6.144938924719963, 34.733005492984965, 5.61805661474102, 6.532410095990311, 6.311767851775963, 5.491822161764718, 7.450083701672984, 5.825578774801303, 6.223424363134726, 5.6490953417, 6.398570867543685, 6.94901750421446, 7.797629748615231, 5.669489871907619, 7.443275802801491, 7.887513843899467, 23.276016710869605, 6.173132580226056, 7.180545601755504, 6.419614979612514, 6.254603925251779, 6.626839339537062, 6.373328427773684, 5.454413917401803, 4.82030410800367, 5.311185292135884, 7.680017035178734, 5.235570477648304, 7.095904493930597, 6.245346220177545, 6.855962863691685, 38.64112950405373, 6.465664238601064, 6.077034683861395, 7.263328673830514, 5.625032221627902, 5.046531073823436, 5.480919978169122, 6.000742139390179, 5.061340951493683, 5.859228535578463, 5.356892657527419, 5.2007249988850175, 8.811276106319982, 6.178528802780805, 6.932696926301837, 29.9798020803602, 5.432411148676358, 6.535685634979766, 6.054990067043145, 6.86890832341245, 4.476226715673597, 5.458829058914798, 7.037858737306833, 4.935098433321591, 5.029284119503321, 6.351078619493784, 5.2024432535184095, 6.695298146781265, 5.593758476397768, 5.358670091436298, 35.630101468677196, 6.016926419717005, 4.88111548748516, 5.227413264853301, 5.203715727673962, 6.171653093217842, 6.183793157931412, 5.530926476381043, 5.038073217503167, 5.099773308468196, 8.634851599980388, 6.133477618074702, 5.620501180281056, 7.0735853046575725, 5.728610845933029, 42.13526702186182, 4.72925716802772, 6.17285657193232, 6.277541213916615, 7.531059217700219, 7.444907959430446, 7.328719882201004, 6.798270986341024, 6.702659036585157, 5.637662035747518, 5.453154815520342, 5.418756199952517, 6.712354277947154, 6.694157487716552, 5.550207130073925, 37.8850606178358, 4.736036692462689, 5.364055941901691, 4.375399838105191, 5.090664235283134, 4.873129438843581, 5.331762679478779, 5.39101123767845, 4.959839327392504, 7.1014602521752686, 5.426223098698867, 5.888630361465245, 6.778050262565105, 6.822309151753793, 5.6256645368501275, 42.463147541035376, 6.326728835741387, 6.079146176947241, 5.6404906957802545, 7.1334658555803, 6.506204297231892, 6.32393640718538, 5.342593859560187, 7.301883069105638, 5.057714752710163, 6.021115842857264, 5.227838705815863, 5.37261616506142, 6.96292434372369, 7.491118173770898, 40.02832476603356, 5.1000797575586265, 5.10546079168974, 5.9894297370410055, 6.153434828321681, 5.758108184247953, 7.525629394721847, 7.0087951721058745, 5.158397996761356, 5.1946082218584095, 5.3314146639151705, 7.787888779858816, 5.707159775906915, 6.100185916444404, 7.544911699134243]\n",
      "E[shakespeare] = 8.05001467133979\n",
      "\n",
      "\n",
      "sum(lambdas) > 1, normalizing by sum(lambdas)...\n",
      "\n",
      "lambdas = [0.5555555555555556, 0.2777777777777778, 0.05555555555555555, 0.05555555555555555, 0.05555555555555555]\n",
      "nytimes\n",
      "[7.458590248059109, 7.631612324704762, 6.915899550578177, 7.46482511161721, 8.870600530020887, 7.491282583847173, 10.002088547839088, 11.47626365779051, 12.47655167014336, 7.602678414930624, 7.727431068211471, 7.028344418131657, 10.472897955919159, 9.220055716818342, 7.680121352125836, 8.156337932120842, 6.928137205571769, 6.52159905513923, 8.067635302387806, 9.17392500903736]\n",
      "E[nytimes] = 8.418343882749719\n",
      "\n",
      "\n",
      "shakespeare\n",
      "[29.986943689510163, 6.084652362822647, 5.919883649632538, 5.692777015504476, 6.096413691030218, 4.6628289998966395, 7.080692933201915, 6.9209258551202675, 6.3501705136685995, 5.2227920162383885, 7.03346679670249, 5.737593261356083, 8.127350131437467, 6.57960837344241, 5.256544956534202, 39.91098779975838, 6.164135515095993, 6.494662839478053, 7.155990217303685, 7.229723786418717, 5.584515334896894, 5.164475492048666, 6.260739856050744, 6.491887292425484, 6.343642252789299, 5.250302902295846, 6.060330242633885, 5.531989687443578, 5.271478183075397, 6.402254660799743, 36.48990720547743, 5.575692254972726, 4.855414305092379, 6.618810841373814, 5.2842354045376165, 6.106036185505399, 5.735073765500782, 5.969795357422635, 8.198968842441314, 4.681968561710891, 6.994549573409358, 5.466172410417331, 5.863146421608197, 5.202811089299964, 6.191498810045458, 40.87327370847848, 6.491365462043622, 6.428486568599677, 5.780572378499292, 6.196757886482561, 6.181329787888738, 6.204036223698894, 7.046999841481129, 6.574605409721588, 6.137819349948322, 5.6422040038261985, 5.278508112461511, 6.227788721365864, 6.386418479892331, 7.835410739986054, 30.57494864416799, 5.639886968651136, 6.24734251329801, 5.100258083054448, 6.426506547377529, 7.438090275655999, 5.575837730185144, 7.252884636472534, 7.3098764829617044, 6.248559517239523, 7.251337299498028, 6.253209294486575, 5.519441603122218, 5.601117944544953, 6.2220436050380785, 28.619120235779715, 6.537014574127815, 5.991556356202858, 6.000796650346547, 6.208425294052922, 6.615648374876251, 5.5572228103532595, 5.0500376555978415, 7.360814687364485, 5.437268668530016, 7.289407514173889, 4.916006263102128, 6.566827303038805, 6.418007833680418, 6.186546734896262, 32.1296694962314, 5.633895775636767, 6.616217242126615, 6.373737133786568, 5.557219159148503, 7.5036337774051125, 5.958310579010647, 6.292362028322944, 5.865282810373628, 6.45776709498487, 7.062951659368034, 7.697400304183137, 5.767350300549559, 7.287761058956171, 7.898996311732619, 21.241245730096914, 6.259125457142952, 7.0933179542196205, 6.329949459832185, 6.235661396389212, 6.631722491731804, 6.510314423685927, 5.554892878733748, 4.984525259974206, 5.407488724480885, 7.744876303051183, 5.33624780094241, 7.118857390936098, 6.3292071670951255, 6.950060696337418, 39.37288217364248, 6.620599981706002, 6.1279616385514135, 7.375638085940991, 5.5970236372664095, 5.130254262981634, 5.476479087065543, 6.013571623259583, 5.215090331644753, 5.968732166787368, 5.412995829112801, 5.297243665746293, 8.819713853175024, 6.30033502504673, 6.912352856178342, 29.88059337770039, 5.548809812774157, 6.5863882015319035, 6.161312824518256, 6.773059238416923, 4.648129446716718, 5.479833024072587, 7.026859614097563, 4.953297896827612, 5.10245182218564, 6.395039651189347, 5.287338876920974, 6.692425050255418, 5.712043546731746, 5.3772517149458405, 35.19847119136347, 6.111678389883132, 4.920760056436871, 5.26917040646615, 5.2706850342264655, 6.150011720389146, 6.23742993619843, 5.602787316345721, 5.066190433195713, 5.240666650261309, 8.583359152579822, 6.185851098484698, 5.720627222919177, 7.043895862863706, 5.802187338211268, 41.77393134437329, 4.756999377190375, 6.194899264279076, 6.287838213840098, 7.605128584761754, 7.466894389225489, 7.139080570327035, 6.826796813562384, 6.728075960244803, 5.657765184406793, 5.502033680877851, 5.469407244296643, 6.753368759279073, 6.7592696676985735, 5.633663023800287, 38.53070895813772, 4.755841381702197, 5.413535565429566, 4.504478559351243, 5.2087014181871805, 4.915141317418371, 5.4224701131623245, 5.4466319849679286, 5.01462878556337, 7.075245852669171, 5.435266057643343, 6.049797208956719, 6.967034709146285, 6.834231379529226, 5.740715925794364, 42.44946201282021, 6.326520956110897, 6.146456884725533, 5.723839013648415, 7.200145383712056, 6.467097197913099, 6.294787684538623, 5.41475190967608, 7.258260418827898, 5.167835013495611, 6.097037752703791, 5.389622668192939, 5.485083411352532, 7.060300744696267, 7.433436351291987, 40.45093920123662, 5.119641214502406, 5.240438983068858, 6.08023829810647, 6.1801633484184215, 5.804973536484343, 7.542260004431785, 6.975755629467541, 5.273451116869805, 5.322814121395177, 5.418015752250185, 7.756472742044342, 5.799636281509176, 6.122288751359855, 7.540093880891626]\n",
      "E[shakespeare] = 8.079628398526783\n",
      "\n",
      "\n"
     ]
    }
   ],
   "source": [
    "for x in [[1,1,1,1,1],[20,10,5,2,1],[1,2,5,10,20],[20,5,2,1,1],[10,5,1,1,1]]:\n",
    "    s = get_model_scores(NgramModelWithInterpolation, c = 4, k = 5, lambdas = x)\n",
    "    for k,v in s.items():\n",
    "        print(f\"{k}\")\n",
    "        print(f\"{v}\")\n",
    "        print(f\"E[{k}] = {sum(v)/len(v)}\")\n",
    "        print(\"\\n\")"
   ]
  }
 ],
 "metadata": {
  "kernelspec": {
   "display_name": "base",
   "language": "python",
   "name": "python3"
  },
  "language_info": {
   "codemirror_mode": {
    "name": "ipython",
    "version": 3
   },
   "file_extension": ".py",
   "mimetype": "text/x-python",
   "name": "python",
   "nbconvert_exporter": "python",
   "pygments_lexer": "ipython3",
   "version": "3.11.4"
  },
  "orig_nbformat": 4
 },
 "nbformat": 4,
 "nbformat_minor": 2
}
