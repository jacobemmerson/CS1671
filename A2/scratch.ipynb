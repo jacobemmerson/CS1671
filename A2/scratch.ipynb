{
 "cells": [
  {
   "cell_type": "code",
   "execution_count": 9,
   "metadata": {},
   "outputs": [],
   "source": [
    "import math, random, string"
   ]
  },
  {
   "cell_type": "code",
   "execution_count": 10,
   "metadata": {},
   "outputs": [],
   "source": [
    "################################################################################\n",
    "# Part 0: Utility Functions\n",
    "################################################################################\n",
    "\n",
    "COUNTRY_CODES = ['af', 'cn', 'de', 'fi', 'fr', 'in', 'ir', 'pk', 'za']\n",
    "\n",
    "def start_pad(c):\n",
    "    ''' Returns a padding string of length n to append to the front of text\n",
    "        as a pre-processing step to building n-grams '''\n",
    "    return '~' * c\n",
    "\n",
    "def ngrams(c, text):\n",
    "    ''' Returns the ngrams of the text as tuples where the first element is\n",
    "        the length-n context and the second is the character '''\n",
    "    \n",
    "    # sliding window\n",
    "    ng = []\n",
    "    for x in range(len(text)):\n",
    "        char = text[x]\n",
    "        if x < c:\n",
    "            context = start_pad(c - x) + text[:x] # x = 0, 0 chars, x = 1, 1 char, etc\n",
    "        else:\n",
    "            context = text[x-c:x]\n",
    "\n",
    "        ng.append((context, char))\n",
    "    return ng\n",
    "\n",
    "def create_ngram_model(model_class, path, c=2, k=0):\n",
    "    ''' Creates and returns a new n-gram model '''\n",
    "    model = model_class(c, k)\n",
    "    with open(path, encoding='utf-8', errors='ignore') as f:\n",
    "        model.update(f.read())\n",
    "    return model"
   ]
  },
  {
   "cell_type": "code",
   "execution_count": 11,
   "metadata": {},
   "outputs": [
    {
     "data": {
      "text/plain": [
       "[('~~~', 'a'),\n",
       " ('~~a', 'b'),\n",
       " ('~ab', 'c'),\n",
       " ('abc', 'a'),\n",
       " ('bca', 'b'),\n",
       " ('cab', 'c')]"
      ]
     },
     "execution_count": 11,
     "metadata": {},
     "output_type": "execute_result"
    }
   ],
   "source": [
    "ngrams(3, 'abcabc')"
   ]
  },
  {
   "cell_type": "code",
   "execution_count": 12,
   "metadata": {},
   "outputs": [],
   "source": [
    "################################################################################\n",
    "# Part 1: Basic N-Gram Model\n",
    "################################################################################\n",
    "\n",
    "class NgramModel(object):\n",
    "    ''' A basic n-gram model using add-k smoothing '''\n",
    "\n",
    "    def __init__(self, c, k):\n",
    "        self.ngram_max = c\n",
    "        self.smooth_par = k\n",
    "        self.vocab = set()\n",
    "        self.wc = {}\n",
    "\n",
    "    def get_vocab(self):\n",
    "        ''' Returns the set of characters in the vocab '''\n",
    "        return self.vocab\n",
    "\n",
    "    def update(self, text):\n",
    "        ''' Updates the model n-grams based on text '''\n",
    "        unique = set(text)\n",
    "        self.vocab = self.vocab | unique # | = union\n",
    "        wc = self.wc\n",
    "        for g in ngrams(self.ngram_max, text):\n",
    "            if g[0] in wc:\n",
    "                if g[1] in wc[g[0]]:\n",
    "                    wc[g[0]][g[1]] += 1\n",
    "                else:\n",
    "                    wc[g[0]][g[1]] = 1\n",
    "            else:\n",
    "                wc[g[0]] = {}\n",
    "                wc[g[0]][g[1]] = 1\n",
    "        \n",
    "        self.wc = wc\n",
    "\n",
    "    def prob(self, context, char):\n",
    "        ''' Returns the probability of char appearing after context '''\n",
    "        if context not in self.wc: # return 1/len(V) for a novel context\n",
    "            return 1/len(self.vocab)\n",
    "        \n",
    "        k = self.smooth_par\n",
    "        v = len(self.vocab)\n",
    "        p = 0\n",
    "        counts = self.wc[context]\n",
    "        if char not in counts:\n",
    "            c = 0\n",
    "        else:\n",
    "            c = counts[char]\n",
    "            \n",
    "        # p(char | context) = counts(context, char)/counts(context)\n",
    "        p = (c + k) / (sum(counts.values()) + (0 if k == 0 else v))\n",
    "\n",
    "        return p\n",
    "\n",
    "    def random_char(self, context):\n",
    "        ''' Returns a random character based on the given context and the \n",
    "            n-grams learned by this model '''\n",
    "        \n",
    "        r = random.random()\n",
    "        if context not in self.wc:\n",
    "            x = r / (1/len(self.vocab)) # equal chance with no context\n",
    "            x = math.floor(x)\n",
    "            return list(self.vocab)[x]\n",
    "        \n",
    "        counts = self.wc[context]\n",
    "        total =  sum(counts.values())\n",
    "        curr = 0\n",
    "\n",
    "        for k,v in counts.items():\n",
    "            curr += (v / total)\n",
    "            if r <= curr:\n",
    "                return k\n",
    "\n",
    "        return '-'\n",
    "\n",
    "    def random_text(self, length):\n",
    "        ''' Returns text of the specified character length based on the\n",
    "            n-grams learned by this model '''\n",
    "        \n",
    "        c = self.ngram_max\n",
    "        text = \"\"\n",
    "\n",
    "        for i in range(length):\n",
    "            if i >= c:\n",
    "                context = text[(i - c):i]\n",
    "            else:\n",
    "                context = start_pad(c - i) + text[:i]\n",
    "\n",
    "            text += self.random_char(context)\n",
    "\n",
    "        return text\n",
    "\n",
    "    def perplexity(self, text):\n",
    "        ''' Returns the perplexity of text based on the n-grams learned by\n",
    "            this model '''\n",
    "        perp = 0\n",
    "        c = self.ngram_max\n",
    "\n",
    "        for w in range(len(text)): # take the geometric mean of all chars\n",
    "            if w >= c:\n",
    "                context = text[(w - c):w]\n",
    "            else:\n",
    "                context = start_pad(c - w) + text[:w]\n",
    "            char = text[w]\n",
    "            prob = self.prob(context, char)\n",
    "            if not prob: # catch log(0) <- undefined\n",
    "                return (float('inf'))\n",
    "\n",
    "            perp -= math.log(prob) #\n",
    "        \n",
    "        perp = perp / (len(text))\n",
    "        return math.e**(perp)"
   ]
  },
  {
   "cell_type": "markdown",
   "metadata": {},
   "source": [
    "\\begin{align*}\n",
    "\\log\\left(Perplexity(W)\\right) &= \\log\\left[\\left(\\prod_{i = 1}^{N} \\frac{1}{P(w_i \\mid w_1,\\dots,w_{i-1})} \\right)^{1/N}\\right] \\\\\n",
    "                               &= \\frac{1}{N}\\log\\left[\\prod_{i = 1}^{N} \\frac{1}{P(w_i \\mid w_1,\\dots,w_{i-1})}\\right] \\\\\n",
    "                               &= \\frac{1}{N} \\sum_{i = 1}^{N} \\log\\left[\\frac{1}{P(w_i \\mid w_1,\\dots,w_{i-1})}\\right] \\\\\n",
    "                               &= \\frac{1}{N} \\sum_{i = 1}^{N} \\left[\\log\\left(1\\right) - \\log\\left( P(w_i \\mid w_1,\\dots,w_{i-1} ) \\right)\\right] \\\\\n",
    "                               &= \\frac{1}{N} \\sum_{i = 1}^{N} 0 - \\log\\left( P(w_i \\mid w_1,\\dots,w_{i-1} ) \\right)\\\\\n",
    "\\log\\left(Perplexity(W)\\right) &= -\\frac{1}{N} \\sum_{i = 1}^{N} \\log\\left( P(w_i \\mid w_1,\\dots,w_{i-1} ) \\right) \n",
    "\n",
    "\n",
    "\\end{align*}"
   ]
  },
  {
   "cell_type": "code",
   "execution_count": 13,
   "metadata": {},
   "outputs": [
    {
     "name": "stdout",
     "output_type": "stream",
     "text": [
      "{'a', 'b'}\n",
      "{'a', 'd', 'c', 'b'}\n",
      "1.0\n",
      "0.0\n",
      "0.5\n"
     ]
    }
   ],
   "source": [
    "temp = NgramModel(1, 0)\n",
    "temp.update('abab')\n",
    "print(temp.get_vocab())\n",
    "temp.update('abcd')\n",
    "print(temp.get_vocab())\n",
    "\n",
    "print(temp.prob('a','b'))\n",
    "print(temp.prob('~','c'))\n",
    "print(temp.prob('b','c'))"
   ]
  },
  {
   "cell_type": "code",
   "execution_count": 14,
   "metadata": {},
   "outputs": [
    {
     "data": {
      "text/plain": [
       "['a',\n",
       " 'c',\n",
       " 'c',\n",
       " 'a',\n",
       " 'b',\n",
       " 'b',\n",
       " 'b',\n",
       " 'c',\n",
       " 'a',\n",
       " 'a',\n",
       " 'c',\n",
       " 'b',\n",
       " 'c',\n",
       " 'a',\n",
       " 'b',\n",
       " 'b',\n",
       " 'a',\n",
       " 'd',\n",
       " 'd',\n",
       " 'a',\n",
       " 'a',\n",
       " 'b',\n",
       " 'd',\n",
       " 'b',\n",
       " 'a']"
      ]
     },
     "execution_count": 14,
     "metadata": {},
     "output_type": "execute_result"
    }
   ],
   "source": [
    "temp = NgramModel(0, 0)\n",
    "temp.update('abab')\n",
    "temp.update('abcd')\n",
    "random.seed(1)\n",
    "[temp.random_char('') for i in range(25)]"
   ]
  },
  {
   "cell_type": "code",
   "execution_count": 15,
   "metadata": {},
   "outputs": [
    {
     "data": {
      "text/plain": [
       "'abcdddcdabcdbabcdbcdabcda'"
      ]
     },
     "execution_count": 15,
     "metadata": {},
     "output_type": "execute_result"
    }
   ],
   "source": [
    "m = NgramModel(1, 0)\n",
    "m.update('abab')\n",
    "m.update('abcd')\n",
    "random.seed(1)\n",
    "m.random_text(25)"
   ]
  },
  {
   "cell_type": "code",
   "execution_count": 16,
   "metadata": {},
   "outputs": [
    {
     "name": "stdout",
     "output_type": "stream",
     "text": [
      "Firt be don, bequardoseent. Lore himpon his him, Lornextee imparrociss,\n",
      "And lin courepat inche\n",
      "To to er somentrund arthenceight mestatch fich ourd: lothearguand lade this gracteare Dukeetche ill, way clord:\n",
      "POLIA:\n",
      "GRANTONSON:\n",
      "It th bar le joingueelto\n"
     ]
    }
   ],
   "source": [
    "m = create_ngram_model(NgramModel, 'data/shakespeare_input.txt',2)\n",
    "print(m.random_text(250))"
   ]
  },
  {
   "cell_type": "code",
   "execution_count": 17,
   "metadata": {},
   "outputs": [
    {
     "name": "stdout",
     "output_type": "stream",
     "text": [
      "First Cupill I\n",
      "est-il?\n",
      "\n",
      "Like Henription; the good from honough much bot: whath\n",
      "where dearls to senance do,\n",
      "Come stribestrust dust her ple goes itself me like no:\n",
      "Sol\n",
      "To wer\n",
      "work, I'll comes a vilst Served:\n",
      "O, be arthis.\n",
      "So find with my fore nake; leg\n"
     ]
    }
   ],
   "source": [
    "m = create_ngram_model(NgramModel, 'data/shakespeare_input.txt',3)\n",
    "print(m.random_text(250))"
   ]
  },
  {
   "cell_type": "code",
   "execution_count": 18,
   "metadata": {},
   "outputs": [
    {
     "name": "stdout",
     "output_type": "stream",
     "text": [
      "First Citizens:\n",
      "Why, waited.\n",
      "\n",
      "VALENTIO:\n",
      "What you thine have no far and didst to siness Androus as conventions in me: a barbariation, sways\n",
      "Drag pear it, and wealthou die, lord Pompey.\n",
      "\n",
      "MISTRESS FORD:\n",
      "Greath, I darest with his return, seed most the st\n"
     ]
    }
   ],
   "source": [
    "m = create_ngram_model(NgramModel, 'data/shakespeare_input.txt',4)\n",
    "print(m.random_text(250))"
   ]
  },
  {
   "cell_type": "code",
   "execution_count": 19,
   "metadata": {},
   "outputs": [
    {
     "name": "stdout",
     "output_type": "stream",
     "text": [
      "First Citizen:\n",
      "Ye're honest;\n",
      "but yet drunk in hand: I am too choleric.\n",
      "\n",
      "ANTIPHOLUS OF EPHESUS:\n",
      "I needs as valiant youth will cut off, and be that, my lord,\n",
      "As if this busy time.\n",
      "\n",
      "CORIOLANUS:\n",
      "Not I, sir; let me ha't: I have deposed.\n",
      "\n",
      "WARWICK:\n",
      "When we \n"
     ]
    }
   ],
   "source": [
    "m = create_ngram_model(NgramModel, 'data/shakespeare_input.txt',7)\n",
    "print(m.random_text(250))"
   ]
  },
  {
   "cell_type": "code",
   "execution_count": 20,
   "metadata": {},
   "outputs": [
    {
     "name": "stdout",
     "output_type": "stream",
     "text": [
      "First Citizen:\n",
      "We'll burn his body in the holy place,\n",
      "And you within the compass of a praemunire,\n",
      "That therefore never flout at me for what you seek so?\n",
      "\n",
      "LADY FAULCONBRIDGE:\n",
      "King Richard thus removed,\n",
      "Leaving no tract behind.\n",
      "\n",
      "Painter:\n",
      "How shall I understand me: over and beside\n",
      "Signior Baptista Minola,\n",
      "As if he were forgot;\n",
      "And on their skins, as on the bark of trees,\n",
      "Have with our niece a dowry large enough:\n",
      "What, are you merry,\n",
      "If worthier friends had not prevented many. Eros, ho!\n",
      "\n",
      "CLEOPATRA:\n",
      "\n"
     ]
    }
   ],
   "source": [
    "m = create_ngram_model(NgramModel, 'data/shakespeare_input.txt',12)\n",
    "print(m.random_text(500))"
   ]
  },
  {
   "cell_type": "code",
   "execution_count": 21,
   "metadata": {},
   "outputs": [
    {
     "name": "stdout",
     "output_type": "stream",
     "text": [
      "1.189207115002721\n",
      "inf\n",
      "1.515716566510398\n"
     ]
    }
   ],
   "source": [
    "temp = NgramModel(1, 0)\n",
    "temp.update('abab')\n",
    "temp.update('abcd')\n",
    "print(temp.perplexity('abcd'))\n",
    "print(temp.perplexity('abca'))\n",
    "print(temp.perplexity('abcda'))"
   ]
  },
  {
   "cell_type": "code",
   "execution_count": 22,
   "metadata": {},
   "outputs": [
    {
     "name": "stdout",
     "output_type": "stream",
     "text": [
      "0.14285714285714285\n",
      "0.5714285714285714\n",
      "0.4\n",
      "0.25\n"
     ]
    }
   ],
   "source": [
    "m = NgramModel(1, 1)\n",
    "m.update('abab')\n",
    "m.update('abcd')\n",
    "print(m.prob('a', 'a'))\n",
    "print(m.prob('a', 'b'))\n",
    "print(m.prob('c', 'd'))\n",
    "print(m.prob('d', 'a'))"
   ]
  },
  {
   "cell_type": "code",
   "execution_count": 23,
   "metadata": {},
   "outputs": [],
   "source": [
    "################################################################################\n",
    "# Part 2: N-Gram Model with Interpolation\n",
    "################################################################################\n",
    "\n",
    "class NgramModelWithInterpolation(NgramModel):\n",
    "    ''' An n-gram model with interpolation '''\n",
    "\n",
    "    def __init__(self, c, k):\n",
    "        self.ngram_max = c\n",
    "        self.smooth_par = k\n",
    "        self.weights = [1/(c+1)] * (c+1)\n",
    "        self.vocab = set()\n",
    "        self.wc = {}\n",
    "\n",
    "    def set_lambdas(self, lambdas):\n",
    "        if len(lambdas) != (self.ngram_max + 1):\n",
    "            print(\"Error: len(lambdas) does not match max ngram\")\n",
    "        s = sum(lambdas)\n",
    "        if s < 1:\n",
    "            print(\"Error: Weights do not add up to 1.\")\n",
    "        elif s > 1:\n",
    "           print(\"sum(lambdas) > 1, normalizing by sum(lambdas)...\\n\")\n",
    "           t = [x / s for x in lambdas]\n",
    "        else:\n",
    "            t = lambdas\n",
    "        self.weights = t\n",
    "        print(f\"lambdas = {t}\")\n",
    "\n",
    "    def get_vocab(self):\n",
    "        return self.vocab\n",
    "\n",
    "    def update(self, text):\n",
    "        unique = set(text)\n",
    "        self.vocab = self.vocab | unique # | = union\n",
    "        wc = self.wc\n",
    "        for c in range(self.ngram_max,-1,-1):\n",
    "            for g in ngrams(c, text):\n",
    "                if g[0] in wc:\n",
    "                    if g[1] in wc[g[0]]:\n",
    "                        wc[g[0]][g[1]] += 1\n",
    "                    else:\n",
    "                        wc[g[0]][g[1]] = 1\n",
    "                else:\n",
    "                    wc[g[0]] = {}\n",
    "                    wc[g[0]][g[1]] = 1\n",
    "            \n",
    "        self.wc = wc\n",
    "\n",
    "    def prob(self, context, char):\n",
    "        p_interp = 0\n",
    "        lambdas = self.weights\n",
    "\n",
    "        for l in range(len(lambdas)):\n",
    "            t_context = context[l:]\n",
    "            prob = super().prob(t_context, char) # use parent prob \n",
    "            p_interp += lambdas[l] * prob\n",
    "\n",
    "        return p_interp"
   ]
  },
  {
   "cell_type": "code",
   "execution_count": 24,
   "metadata": {},
   "outputs": [
    {
     "name": "stdout",
     "output_type": "stream",
     "text": [
      "0.25\n",
      "0.75\n"
     ]
    }
   ],
   "source": [
    "m = NgramModelWithInterpolation(1, 0)\n",
    "m.update('abab')\n",
    "\n",
    "print(m.prob('a', 'a'))\n",
    "print(m.prob('a', 'b'))"
   ]
  },
  {
   "cell_type": "code",
   "execution_count": 25,
   "metadata": {},
   "outputs": [
    {
     "name": "stdout",
     "output_type": "stream",
     "text": [
      "sum(lambdas) > 1, normalizing by sum(lambdas)...\n",
      "\n",
      "lambdas = [0.6, 0.4]\n"
     ]
    }
   ],
   "source": [
    "m.set_lambdas([3,2])"
   ]
  },
  {
   "cell_type": "code",
   "execution_count": 26,
   "metadata": {},
   "outputs": [
    {
     "name": "stdout",
     "output_type": "stream",
     "text": [
      "0.2\n",
      "0.8\n"
     ]
    }
   ],
   "source": [
    "print(m.prob('a', 'a'))\n",
    "print(m.prob('a', 'b'))"
   ]
  },
  {
   "cell_type": "code",
   "execution_count": 27,
   "metadata": {},
   "outputs": [
    {
     "name": "stdout",
     "output_type": "stream",
     "text": [
      "0.4682539682539682\n",
      "0.4349206349206349\n",
      "0.27222222222222225\n",
      "0.3222222222222222\n"
     ]
    }
   ],
   "source": [
    "m = NgramModelWithInterpolation(2, 1)\n",
    "m.update('abab')\n",
    "m.update('abcd')\n",
    "\n",
    "print(m.prob('~a', 'b'))\n",
    "print(m.prob('ba', 'b'))\n",
    "print(m.prob('~c', 'd'))\n",
    "print(m.prob('bc', 'd'))"
   ]
  },
  {
   "cell_type": "code",
   "execution_count": 28,
   "metadata": {},
   "outputs": [
    {
     "name": "stdout",
     "output_type": "stream",
     "text": [
      "Error: len(lambdas) does not match max ngram\n",
      "sum(lambdas) > 1, normalizing by sum(lambdas)...\n",
      "\n",
      "lambdas = [0.5555555555555556, 0.2777777777777778, 0.1111111111111111, 0.05555555555555555]\n"
     ]
    }
   ],
   "source": [
    "m = create_ngram_model(NgramModelWithInterpolation, 'data/shakespeare_input.txt',c = 4, k = 1)\n",
    "m.set_lambdas([10,5,2,1])"
   ]
  },
  {
   "cell_type": "code",
   "execution_count": 29,
   "metadata": {},
   "outputs": [
    {
     "name": "stdout",
     "output_type": "stream",
     "text": [
      "First Puck,--thick, he stand I loved,\n",
      "Both his kings to-day a subjected emperiod! Welcome, cock- punk,\n",
      "If the dangerous tomb.\n",
      "He must beat all thee;\n",
      "O, let myself,\n",
      "And leave him: and what house of so for ther.\n",
      "\n",
      "CAPULET:\n",
      "Find that sense\n",
      "questions, God and thee thy again! news;\n",
      "Thy name,\n",
      "And whore.\n",
      "\n",
      "LUCIO:\n",
      "Nay, he is not be sweet his by\n",
      "This stranging contrivilely object?\n",
      "\n",
      "Gaoler that tongue, so,\n",
      "I cannot men purpose pint Albion,\n",
      "'I mayst the lion's aughts,\n",
      "Of mine an anothink, harve Gothsayest ho\n"
     ]
    }
   ],
   "source": [
    "print(m.random_text(500))"
   ]
  },
  {
   "cell_type": "markdown",
   "metadata": {},
   "source": [
    "## Analysis"
   ]
  },
  {
   "cell_type": "code",
   "execution_count": 30,
   "metadata": {},
   "outputs": [],
   "source": [
    "def get_model_scores(model_class, c = 2, k = 0, lambdas = []):\n",
    "    model = create_ngram_model(model_class, 'data/shakespeare_input.txt', c = c, k = k)\n",
    "    scores = {\n",
    "        'nytimes' : [],\n",
    "        'shakespeare' : []\n",
    "    }\n",
    "\n",
    "    if len(lambdas) > 0:\n",
    "        model.set_lambdas(lambdas)\n",
    "\n",
    "    with open('data/nytimes_article.txt', encoding='utf-8', errors = 'ignore') as file:\n",
    "        for f in file:\n",
    "            p = model.perplexity(f)\n",
    "            if f == '\\n':\n",
    "                continue\n",
    "            scores['nytimes'].append(p)\n",
    "\n",
    "    with open('data/shakespeare_sonnets.txt', encoding='utf-8', errors = 'ignore') as file:\n",
    "        for f in file:\n",
    "            p = model.perplexity(f)\n",
    "            if f == '\\n':\n",
    "                continue\n",
    "            scores['shakespeare'].append(p)\n",
    "    \n",
    "    return scores"
   ]
  },
  {
   "cell_type": "markdown",
   "metadata": {},
   "source": [
    "---"
   ]
  },
  {
   "cell_type": "markdown",
   "metadata": {},
   "source": [
    "pandas is imported for analytics, not for the model."
   ]
  },
  {
   "cell_type": "code",
   "execution_count": 31,
   "metadata": {},
   "outputs": [],
   "source": [
    "import pandas as pd"
   ]
  },
  {
   "cell_type": "code",
   "execution_count": 338,
   "metadata": {},
   "outputs": [
    {
     "name": "stdout",
     "output_type": "stream",
     "text": [
      "nytimes = [inf, inf, inf, inf, inf, inf, inf, inf, inf, inf, inf, inf, inf, inf, inf, inf, inf, inf, inf, inf]\n",
      "E[nytimes] = inf\n",
      "shakespeare = [inf, inf, inf, inf, inf, inf, inf, inf, inf, inf, inf, inf, inf, inf, inf, inf, inf, inf, inf, inf, inf, inf, inf, inf, inf, inf, inf, inf, inf, inf, inf, inf, inf, inf, inf, inf, inf, inf, inf, inf, inf, inf, inf, inf, inf, inf, inf, inf, inf, inf, inf, inf, inf, inf, inf, inf, inf, inf, inf, inf, inf, inf, inf, inf, inf, inf, inf, inf, inf, inf, inf, inf, inf, inf, inf, inf, inf, inf, inf, inf, inf, inf, inf, inf, inf, inf, inf, inf, inf, inf, inf, inf, inf, inf, inf, inf, inf, inf, inf, inf, inf, inf, inf, inf, inf, inf, inf, inf, inf, inf, inf, inf, inf, inf, inf, inf, inf, inf, inf, inf, inf, inf, inf, inf, inf, inf, inf, inf, inf, inf, inf, inf, inf, inf, inf, inf, inf, inf, inf, inf, inf, inf, inf, inf, inf, inf, inf, inf, inf, inf, inf, inf, inf, inf, inf, inf, inf, inf, inf, inf, inf, inf, inf, inf, inf, inf, inf, inf, inf, inf, inf, inf, inf, inf, inf, inf, inf, inf, inf, inf, inf, inf, inf, inf, inf, inf, 7.012107374039527, inf, inf, inf, inf, inf, inf, inf, inf, inf, inf, inf, inf, inf, inf, inf, inf, inf, inf, inf, inf, inf, inf, inf, inf, inf, inf, inf, inf, inf, inf, inf, inf, inf, inf, inf, inf, inf, inf]\n",
      "E[shakespeare] = inf\n",
      "\n",
      "\n",
      "nytimes = [10.700845733426599, 9.81565667228615, 9.157137348012721, 10.631204512181263, 12.982345749715227, 10.451662774065289, 14.651283137704482, 14.314161470421634, 17.804952819505296, 10.96873489406781, 10.830177787399945, 9.627102031220062, 16.211472495400546, 12.148833693906456, 9.571773478852114, 10.98871587858476, 9.449996059003817, 9.22162483124427, 11.001534182847397, 13.766191332291946]\n",
      "E[nytimes] = 11.714770344106892\n",
      "shakespeare = [67.49814812274481, 9.2059772615345, 7.937288942543609, 7.834836377765252, 7.686913522221957, 6.634103572540471, 10.05298150029714, 9.26302411471607, 8.142520378265123, 7.509299358052522, 8.579981766066437, 8.109076933118516, 11.132723108405038, 10.548667843920722, 6.018384774133224, 140.05555618202362, 8.192177515253396, 10.444046691758126, 9.311033235604874, 9.204978891393727, 7.611874104223215, 8.082362108121943, 8.262436674213317, 8.324925537349374, 9.537772600223743, 7.668844529422268, 7.35980303892012, 7.899780317694596, 6.995267035941512, 8.168194141862854, 52.38403099711731, 7.428296147467344, 5.7995974792769776, 9.537909082807598, 7.361473334711675, 8.008115384398117, 8.521681979490486, 7.459860904595954, 10.679750291425952, 6.496011674683769, 9.176262670042275, 7.3817675086146926, 8.079766015190144, 7.2587839917282295, 8.24847874165333, 125.02983821021633, 8.723506630173445, 10.06710171522915, 7.47255708426728, 7.857743521321158, 9.990873460933107, 7.921672022979633, 11.24331986693938, 8.024151887359876, 7.604265400320546, 7.319625836539337, 7.5667143250355915, 9.10972239086169, 9.071471387881068, 10.514138170363747, 67.49814812274481, 7.479636185801174, 8.934806942927505, 7.335062576783703, 8.062316807832199, 9.863830546682879, 7.9614780830116105, 10.356786836315077, 10.493809935910312, 8.8510444026831, 9.705855127816061, 10.708345867966791, 8.826402937992961, 7.409332010400674, 8.434727092927988, 58.887502627938645, 7.9839367504629255, 7.527532993662988, 7.667218247115456, 9.407100369148695, 8.525996725516135, 7.148751730976844, 5.71444826637532, 8.536331305295892, 7.2240645656899005, 9.09036390221338, 6.876853256566624, 7.9191449065510255, 7.361708135754003, 7.04174672954973, 80.52536930312903, 7.797879446643326, 9.814707936981035, 7.841438726030879, 9.302613122710545, 9.43845645296469, 9.02403133171667, 9.465128782065685, 11.433783484956692, 8.513702993407758, 8.19821861114062, 10.285297175018776, 6.289299378342665, 9.846493174948915, 8.559309183770115, 40.95671409380853, 8.810098699097317, 8.10707177305191, 9.00319762161333, 11.346793160667136, 8.079898051279534, 8.350396724346755, 8.795960335307813, 7.097413516989785, 7.034734560683006, 11.262430429170406, 7.67267968514006, 8.102964211956646, 8.402447617898805, 7.475157124917193, 82.66756271430182, 9.349906005901424, 7.699206052571776, 10.02471243047596, 7.362474382438892, 6.721720601653615, 7.1663245680490375, 10.422616925722782, 9.341895388169505, 8.289357460478241, 7.75919345392734, 7.162876999307034, 9.362962486148954, 8.839493857490313, 9.599027279122641, 67.49814812274481, 6.977011891021629, 8.719273893029056, 8.179039067321689, 7.841335337253877, 7.992241782330667, 6.652012480713686, 11.243492451958609, 8.00500496747006, 7.141267928583589, 8.708133650104966, 7.97590394865081, 8.357465351889683, 5.87435325707711, 6.718454833537173, 73.73756565240159, 7.794729272835989, 6.326871444231182, 7.384665345137454, 7.362100798238599, 10.344166814764849, 7.512535984970392, 7.973968050821529, 7.029924862536173, 7.133126676930245, 12.314263763132116, 7.958440095544491, 9.283520464965216, 9.516057473109438, 7.35056129139819, 124.69410572707203, 6.692528338837506, 7.5558353720482705, 8.36382932342864, 10.493342157090984, 11.223605153965812, 9.478089211569412, 8.472708579402031, 8.313718121427446, 7.4852139562668665, 6.54076190386246, 8.655230279039037, 7.9868090922057275, 9.215514364395517, 6.75011405829632, 58.110641023222975, 5.524678067677561, 6.222627306080694, 5.491979402120839, 6.45244035387807, 6.6762013168584184, 8.532130426275772, 7.868478107496262, 7.591088151370139, 9.116677177549104, 8.618561840094205, 8.401364985580637, 12.185503452701754, 8.930484409196906, 6.844718630370419, 114.5198894038991, 8.19741871986105, 10.999047303491183, 7.066249522313308, 10.055610715398386, 9.213485557459194, 7.392055616366248, 7.032060207548698, 9.152044662131452, 7.560555350307928, 7.4733367068541385, 8.448343779180918, 9.891110783580926, 10.2706820915367, 10.582576287254225, 67.3316885742296, 7.102751468720477, 8.017425005786528, 8.441706672227042, 9.451051140112309, 8.413563871792787, 10.632545963818956, 8.706398482931817, 7.798847220894524, 7.005182885262556, 6.568351026095169, 13.330701632872286, 6.8734743340430144, 6.433926850774045, 8.81756568085469]\n",
      "E[shakespeare] = 13.245435708274538\n",
      "\n",
      "\n",
      "nytimes = [10.430982425928237, 9.495198801106872, 8.931995816839365, 9.811336167040285, 11.825686049918238, 9.966396047872468, 13.337784270740507, 12.468470694622415, 15.938903276520168, 10.251222441754768, 10.450756255503306, 9.259440208910409, 14.041995062931353, 11.238692066999041, 9.087968519006898, 10.515279693249264, 9.209991501072064, 8.924850830233732, 10.229570642485411, 12.916537859965635]\n",
      "E[nytimes] = 10.916652931635022\n",
      "shakespeare = [30.186089511561438, 8.60944129415093, 7.5995157962512385, 7.508556144270689, 7.353254020951469, 6.3915031863584115, 9.296925375544287, 8.830868699921808, 7.816296128026546, 7.224143815968352, 8.129869857191018, 7.771322380198727, 10.632684324031228, 9.641431523928809, 5.733606536529069, 47.898326453937464, 7.864993307633299, 10.009382830141632, 8.893274619854076, 8.555030544373647, 7.317375393611182, 7.468924289558306, 7.92500041668035, 7.918382262958718, 8.682113826761631, 7.3835493855662655, 7.045942604738568, 7.550185824793187, 6.6584579379085085, 7.646281250532232, 23.32155896710847, 7.146923387258425, 5.593955697571489, 9.16744270463526, 7.014467653812986, 7.480116971873119, 8.108979679246447, 7.105334992908375, 9.554641364380744, 6.251245106640198, 8.717735193981369, 7.124154152163226, 7.734258059841666, 6.7053662642473135, 7.636775675364671, 42.75960319126974, 8.350011672799603, 9.317974661419937, 7.1580753245076005, 7.560175818603656, 9.571025648893722, 7.594692779911553, 10.685897602558951, 7.696177878813086, 7.0569397885948, 7.0460907751853625, 7.2806024750788225, 8.700312811779622, 8.585470910831749, 9.82348882084489, 30.186089511561438, 7.192108440888473, 8.548419789097053, 7.008932109471637, 7.694041597090909, 9.118065141911835, 7.629118691364646, 9.67369790323823, 9.802395679629045, 8.47856246879877, 9.260682300765124, 10.20570807312338, 8.426922829665388, 6.972322740122284, 7.7365739489038665, 32.93839900833209, 7.650026278871764, 7.223103815143044, 7.37907295513409, 8.787635635699964, 8.06963456056379, 6.877638095295111, 5.497517295746988, 8.185640737635445, 6.952163242058297, 8.699607886743221, 6.644390637396911, 7.516457055451018, 6.811575905994079, 6.72016439477131, 35.585786870745046, 7.196245515254185, 9.314368728376802, 7.3842664079886715, 8.533125047425688, 8.611989949968434, 8.62774694589729, 9.058982576795366, 10.756789870352385, 8.0910638693363, 7.836514951922546, 9.802386357514997, 5.877398884681508, 8.816140009365117, 7.851569281817666, 21.234161564403063, 8.40345352085601, 7.788455666676891, 7.808247439681133, 10.202304226147143, 7.652325442487038, 7.995887264779249, 8.46016129812517, 6.70901334792427, 6.7799390424024155, 10.754672885422389, 7.358470822316003, 7.784808774484148, 7.981235589684613, 6.993075287667983, 28.271908762368664, 8.876725597518009, 7.325953182019945, 9.403961527318243, 7.081897421249005, 6.446410100730265, 6.8863713576857934, 9.931900524849953, 8.99968741514193, 7.939544607160156, 7.410150430044185, 6.885968292894491, 8.925553053073822, 8.270366322160275, 8.544289361866912, 30.186089511561438, 6.558135819108918, 8.28979974728749, 7.43386858216169, 6.9928135987689295, 7.5244250814073785, 6.421652643444483, 10.689676005424143, 7.695724381542857, 6.851143345408983, 8.080997451581265, 7.386214281517857, 7.983758503747511, 5.421648092841759, 6.398823233525049, 25.217892726420093, 7.523290969946839, 6.10878959341452, 7.132332224357198, 7.126555691103937, 9.896695974228559, 7.178203082040139, 7.681546181304671, 6.774866546364219, 6.881177321035868, 11.798602667603035, 7.674992128180476, 8.951686796935737, 8.42681312914132, 6.989820219684476, 37.292235804889444, 6.453944632953733, 7.242456104285374, 7.975771227929404, 9.732959483189576, 10.714251672440811, 9.00252349218067, 8.138990926398495, 7.961572510262191, 7.116779252813356, 6.292482411305696, 8.327471059128438, 7.654125553922436, 8.413260303280046, 6.333889895995582, 22.044923500864705, 5.2838879047862095, 5.996407830131268, 5.281436944115181, 6.2095056784135645, 6.432244140258791, 7.994749793614451, 7.485940264880682, 7.188298774222105, 8.705994886394375, 8.225079365938877, 8.018189687861645, 11.612857151148974, 8.21295918119095, 6.312902639117486, 34.24943540914189, 7.840743360581703, 10.36375454053022, 6.750123048274304, 9.604692974475403, 8.819562070277355, 7.101479715042598, 6.74183980179205, 8.735940385033619, 7.256769084677865, 7.182243558362839, 8.010986197744627, 8.79563108381855, 9.333315443874435, 10.016406590877049, 39.37581034697437, 6.793592478002361, 7.664473421513464, 8.10664799662529, 9.05377334730902, 8.0876469315946, 10.04883989083123, 8.306378641002993, 7.4819511846063795, 6.7213187996000805, 6.314046721947175, 12.580657751237116, 6.6199380513449615, 5.94507158514456, 8.111003716091613]\n",
      "E[shakespeare] = 9.540801650828644\n",
      "\n",
      "\n",
      "nytimes = [10.226062137709134, 9.265698896611545, 8.760409408372192, 9.406251061638663, 11.190838568383917, 9.691349601762932, 12.71798952057091, 11.670324436074253, 15.060783035468454, 9.842093673869055, 10.194244906523096, 9.030360551617573, 13.02111613001307, 10.77903604675938, 8.818885341391203, 10.248841016802912, 9.04974289890573, 8.735578502690368, 9.82758101188508, 12.418831612789857]\n",
      "E[nytimes] = 10.497800917991968\n",
      "shakespeare = [21.34478859112921, 8.312967014420758, 7.419661429480548, 7.352978630009199, 7.196113423133415, 6.278217378145383, 8.823323134302068, 8.614010197758484, 7.641118214371328, 7.0838049072962415, 7.886402368728687, 7.605918290060751, 10.344283997733683, 9.186262302227211, 5.577569369182674, 30.174054877026137, 7.707509258522487, 9.77665497786199, 8.668307617379957, 8.267833087908626, 7.173135075074031, 7.197183384550599, 7.7577701220313395, 7.673313271642501, 8.28826744500742, 7.238908489297797, 6.874320414649065, 7.374810197578329, 6.483416204175165, 7.408066604853898, 16.400070475701284, 6.99786679814863, 5.499353800512086, 8.984479543264879, 6.820959291563476, 7.209344403775856, 7.88581571605339, 6.919588114270868, 8.985360768778232, 6.139586292367803, 8.45427554214119, 7.004638365052525, 7.558223334704114, 6.466265934948895, 7.357217984504551, 26.936862072916373, 8.159158932434114, 8.87009651963495, 6.987039748742122, 7.41854427324189, 9.343917230003683, 7.4353118908495075, 10.394602488253287, 7.528437984256767, 6.776405395121112, 6.914166199044146, 7.149308755448161, 8.490715179542832, 8.305926075529378, 9.399918205936853, 21.34478859112921, 7.05247875633566, 8.338435263102, 6.850068974843415, 7.497035253916439, 8.726293332829986, 7.457939743122325, 9.340855907190075, 9.43350987328661, 8.292364402465523, 9.016100928429607, 9.928181539608039, 8.224442178467772, 6.779656695750612, 7.4272111455527865, 24.90817485032406, 7.4846076255503515, 7.0740544641633125, 7.23503222826098, 8.453023690012794, 7.842056980224896, 6.740346048502012, 5.401042037381428, 8.021629817400516, 6.8170220172411, 8.499350135278563, 6.535073513953357, 7.321503606443211, 6.5421995449398, 6.539278923273428, 24.809947213930247, 6.931564090282671, 9.027297778673088, 7.117228656493545, 8.183422662891612, 8.172996379139144, 8.41390765288335, 8.856862116897156, 10.359082080874831, 7.855079451370638, 7.647008071279301, 9.527878032529912, 5.675572074891004, 8.299032714998985, 7.499324400028569, 15.841526864563265, 8.16607668122369, 7.6121800343366814, 7.309024392461967, 9.650935546323499, 7.411060062996146, 7.827997867224274, 8.2937947249008, 6.519771599761901, 6.658758128701235, 10.485976832247216, 7.198028747328493, 7.630441231213883, 7.738379470671045, 6.763701958511162, 17.810186485207797, 8.627428711548111, 7.1161131726822475, 9.060397805465348, 6.939632391134724, 6.310037363609423, 6.751560399210554, 9.675474903280582, 8.824450113285657, 7.746897002764917, 7.201028242833373, 6.750759585473158, 8.689365950685511, 7.988937011666085, 8.071517985153235, 21.34478859112921, 6.346137955602522, 8.068790061967038, 7.093561028642279, 6.644265330069771, 7.294825808112201, 6.3007651280896315, 10.385489016388329, 7.5489623401240395, 6.693283959948607, 7.795934456865354, 7.134570920189747, 7.78160861253907, 5.230454381508954, 6.230729861042913, 15.88627694000374, 7.389965846281291, 6.006364200156578, 7.008210532015036, 7.0092307665534275, 9.65884013662968, 7.006776894786892, 7.54452028584034, 6.65330181662607, 6.7659709265936625, 11.509141648025643, 7.535272050757021, 8.769300789049348, 7.943876362518205, 6.7808993301349165, 22.174096076766876, 6.343243364434738, 7.077753191346685, 7.789167287674771, 9.365089574649971, 10.447245720880344, 8.734090782831089, 7.9713023461183745, 7.765544595326448, 6.923892503114107, 6.1779181784270305, 8.15725823597086, 7.495630424974408, 7.974992094578054, 6.148749394372722, 14.48015150554062, 5.154563954638635, 5.888548543278255, 5.182803692702569, 6.094899863185503, 6.318490364337766, 7.684644406227925, 7.272948385982944, 6.9897194405263905, 8.498839498675057, 8.020835067565532, 7.816278955581595, 11.296697834715143, 7.833496559658209, 6.085132621960609, 20.36483613668883, 7.645025139755368, 10.016409002595235, 6.600168637293309, 9.345416769879531, 8.624648377254182, 6.957265600927898, 6.610288551543993, 8.534177994214975, 7.109308798496278, 7.047294439879932, 7.765973376864928, 8.307469607745178, 8.873299079225816, 9.672419490651682, 31.252601383443707, 6.647679222246163, 7.4845518386636885, 7.921650644002085, 8.82939298767889, 7.928304316550843, 9.666120387389189, 8.063980009654038, 7.3309609502821855, 6.591375866173325, 6.189782580465081, 12.120271610631823, 6.500133762888233, 5.722543655635535, 7.7738868575005835]\n",
      "E[shakespeare] = 8.638752034779323\n",
      "\n",
      "\n",
      "nytimes = [8.626155568110121, 7.602906159372405, 7.419688973286822, 7.5346823944653805, 8.086211564688792, 8.076801681170773, 10.006133954916187, 8.53468850207605, 11.159534130245078, 7.701356521206318, 8.354673079134399, 7.5448024916328045, 9.018855833286832, 8.556990010103414, 7.300571994668348, 8.76170068817276, 7.804344338061043, 7.416538422948816, 7.790896073631624, 9.417746010996524]\n",
      "E[nytimes] = 8.335763919608723\n",
      "shakespeare = [6.749814812274479, 6.9856369238979665, 6.323102323604202, 6.529355534512116, 6.38311920037103, 5.693476081370565, 6.315897055956712, 7.3459989322381105, 6.553347687697516, 6.29065420442834, 6.497860717326207, 6.732606291691701, 8.407151015914204, 7.048546783975829, 4.782366824612085, 6.500803056599083, 6.8406343694516485, 8.288410359031763, 7.2396601531656515, 7.011911752298683, 6.367132012230282, 6.0661212312128585, 6.800916746583618, 6.309740240249132, 6.683701572118576, 6.372027341126935, 5.8027752280798675, 6.328179374135664, 5.706712946607238, 6.3053005719442226, 4.773719692786768, 6.068087009239199, 5.0359559745904745, 7.903344868822006, 5.792454461854892, 6.00460971528916, 6.448946208894471, 5.867883451292714, 6.464792445255515, 5.608645805661405, 6.8727519196364355, 6.398792522549486, 6.513017126145688, 5.485000982497985, 6.109914110019283, 5.803371009049522, 7.006005052866989, 6.575050358744243, 6.041909602928842, 6.658942473297271, 7.874784211038473, 6.543086774321706, 8.606349877168222, 6.5106846399900675, 5.483338025416265, 6.1774932193077605, 6.50857259644614, 7.190101817461239, 6.809785534347056, 7.038185593893275, 6.749814812274479, 6.283569175798089, 7.009005107060439, 5.973765028611761, 6.254698647446471, 6.856662960501618, 6.511959888402215, 7.632688051370014, 7.524724560925264, 7.20801854711349, 7.464910678359636, 8.076947552448075, 7.128809040871896, 5.943878619683731, 6.084235223963151, 7.664336665661037, 6.545747478311902, 6.2310860267282004, 6.389302872118048, 6.757184897526467, 6.5435945980109675, 5.909921168851133, 4.980262863138411, 7.180574358166654, 6.082356460489468, 7.317367249757173, 5.963726942611373, 6.277297527175733, 5.312640498427174, 5.559478238863351, 6.606425542075381, 5.805240405723957, 7.346617619270901, 5.698102386600177, 6.538615580731487, 6.082251790260674, 7.052434873066162, 7.663853245443371, 7.952049027001092, 6.628659897681123, 6.5502121500498705, 7.803130297094546, 4.784500420708267, 6.172420158846776, 5.817467875729804, 5.1437347090368855, 6.633100366236923, 6.421159057647722, 5.590021055906389, 7.38681866984574, 6.168583539383198, 6.932395171783705, 7.341324846475391, 5.699900988389642, 5.999444061739193, 8.74938205601789, 6.251725688392425, 6.773058157118131, 6.4145886718834015, 5.594031470516331, 3.837088359966871, 7.201954114093435, 5.977737097685755, 7.246550534994459, 6.117505005910049, 5.566273158266587, 6.017801060335361, 8.111997264397017, 7.707307151840569, 6.598829024390552, 5.957421268878012, 6.015717329512169, 7.276378844903781, 6.704278075378349, 6.248272055109695, 6.749814812274479, 5.342183564904273, 6.808395940052379, 5.7432654077761445, 5.407234263684981, 6.2678062536454755, 5.536664618678124, 8.401682548496561, 6.757740300948879, 5.867139538134858, 6.495445097602101, 6.152762968620161, 6.589123701228246, 4.51552075591578, 5.456061503496876, 3.4225946134997622, 6.616232948970682, 5.4749916371693095, 6.282103034310023, 6.315299482289824, 8.1427284927862, 6.0501058623022965, 6.842542909072025, 5.9941672330416775, 6.2097165558289635, 9.566706816879686, 6.713346007798066, 7.592362679145851, 6.1076704829590085, 5.698289868968352, 3.943173848953939, 5.785246858900397, 6.122945555035827, 6.767411942456022, 7.521420786431349, 8.91985985594927, 7.294188478809021, 6.969076314644524, 6.691916323913779, 5.924134430447064, 5.617057845246192, 7.074214424320256, 6.671138680310484, 5.885567110399224, 5.360569861328783, 3.40394132793273, 4.486460313774857, 5.326040098809084, 4.6801831862036245, 5.496149570864024, 5.73807251812744, 6.204045498087126, 6.08339807274152, 6.09273300911633, 7.38434310243773, 6.793423143755502, 6.652289544247156, 9.213991322295879, 5.923890365226079, 5.183011219973335, 3.6214368790690354, 6.358695720063635, 8.192432707572568, 5.797877913090976, 7.601422525587724, 7.498536348136929, 6.177439210339965, 5.9913247199015105, 7.419731658367465, 6.282732320540181, 6.373422850961156, 6.42260205876724, 6.450836784786138, 6.740439963568355, 7.559354341341637, 14.50617256027436, 5.906824935859124, 6.451297386896189, 6.797767032503016, 7.3437310630219, 7.066109715729593, 7.336114507182657, 6.585425198645139, 6.5312736190431115, 5.966520259000353, 5.517815245174714, 9.215652237547953, 5.875037198137087, 4.777703052105638, 6.1412717110550705]\n",
      "E[shakespeare] = 6.479466935679978\n",
      "\n",
      "\n"
     ]
    }
   ],
   "source": [
    "for x in [0,1,5,10,100]:\n",
    "    s = get_model_scores(NgramModel, c = 2, k = x)\n",
    "    for k,v in s.items():\n",
    "        print(f\"{k} = {v}\")\n",
    "        print(f\"E[{k}] = {sum(v)/len(v)}\")\n",
    "    print('\\n')"
   ]
  },
  {
   "cell_type": "code",
   "execution_count": 46,
   "metadata": {},
   "outputs": [
    {
     "name": "stdout",
     "output_type": "stream",
     "text": [
      "sum(lambdas) > 1, normalizing by sum(lambdas)...\n",
      "\n",
      "lambdas = [0.3333333333333333, 0.3333333333333333, 0.3333333333333333]\n",
      "nytimes = [12.22632821612132, 11.51858950516417, 11.145620785550184, 12.30420956705738, 13.97761896184441, 12.26194618415351, 15.845342359596945, 16.395883106671416, 17.56885473839405, 12.272558890610709, 12.576266660701862, 11.987098212688835, 15.479410433424334, 14.17370201020421, 11.146382861203483, 12.861130554194302, 11.309528779985744, 10.99955249210193, 12.422142813106271, 14.054209847660823]\n",
      "shakespeare = [30.3869014008627, 11.098497164605499, 10.310397253536886, 9.546311573858159, 9.619895517016074, 9.054320332396463, 13.009932714608672, 10.773241796130563, 10.47988427830137, 9.427809436723436, 9.942517333764407, 9.671464826592324, 11.938508132692064, 11.412122562243972, 8.296014805674288, 43.85649505506701, 9.919093062964448, 11.757082167585095, 10.949747537772046, 10.355874411382912, 9.731031554171404, 9.32156231451413, 10.252320703960676, 10.46876673203025, 11.655753816893748, 10.18430259579277, 10.207029811523938, 10.813354805932246, 8.950856867791286, 10.072454920419519, 28.321764096742687, 9.604966808607463, 7.9101147500986935, 10.822762409096692, 9.77543425878352, 10.235295492611266, 10.701519208207495, 8.866652790098952, 12.702411484062875, 8.388408613852235, 11.041643126525246, 9.100030230701538, 10.292293662177899, 9.341072857416625, 9.3609214618766, 52.598204479381536, 10.986971625945005, 12.7321986902145, 9.982328006919579, 9.572657839846169, 11.644955057920239, 9.676540161060514, 11.627447234532088, 10.935670963406105, 9.856412654274692, 9.774266124254966, 9.250572827551634, 11.240350496410452, 10.668809011521045, 11.3811577722557, 33.82996879211152, 9.72479603282794, 10.627882254284405, 9.295199122264473, 10.700749075193803, 12.108382550224563, 9.455275566196072, 11.666746435441754, 12.030636272451355, 10.875898575321912, 11.989844357953693, 12.859529614630413, 10.43366145678849, 9.434429673396185, 10.474844441112255, 17.78811597543789, 10.112614571327308, 9.436784431553797, 10.571985724911825, 11.681469506071421, 10.638442893582122, 9.011380823228833, 7.6893315685666, 10.40409809764219, 9.27997304304158, 10.269281725609586, 9.165200075323911, 10.254268496821705, 10.091624138929467, 9.354827714875418, 22.243597266715714, 9.728931968106874, 12.147329665508213, 10.791047756915843, 11.466445809360543, 11.449473660780761, 11.175083284393729, 11.192411003349493, 13.074340085654184, 10.706829188125992, 10.192014382841835, 11.718930845602422, 8.881841991773133, 10.591557458451211, 11.091010227647406, 17.957253235000067, 11.43893012727553, 11.385707913277166, 10.273089228773342, 12.172966161503457, 10.484959087873635, 10.396274636930531, 10.583055691294234, 9.092748107597844, 9.615831060059294, 13.168187079265325, 9.880597283358915, 9.764611803328918, 10.897504149201577, 10.012722747072594, 48.56881660075167, 10.826878997858884, 10.138157037921783, 12.052562781344367, 9.274738693178259, 8.80797230403569, 8.78790220214145, 11.697156902604666, 11.305214110042751, 10.463633369247859, 10.193103117952207, 9.01952698768806, 11.385778263603324, 10.142400349854176, 11.451777576788976, 30.350413152131743, 9.025901749312828, 10.866618059064644, 10.046988762012068, 9.179926599169006, 9.708413194463198, 9.476020038276364, 12.035517782092992, 9.864699445525227, 8.951650618570678, 10.366646753267103, 9.541768753942234, 11.028867554133699, 7.7085859967481305, 8.657476311287892, 25.82927549793541, 9.895858392829162, 8.954163298247769, 9.411822492407593, 9.181084013178554, 11.538840153272078, 9.4210956844311, 9.428808941156555, 8.974499097935098, 9.076503679018389, 12.946997693523047, 9.907087261420653, 10.833216780071151, 10.162290012010885, 9.60205180355565, 33.31645312714238, 8.455517664703386, 9.532373081766066, 10.236208198616659, 11.483117790538632, 11.198672772937579, 10.057999042378475, 10.871167361166412, 9.649025106839131, 9.779467382466173, 8.482793349988704, 11.035885211636629, 9.632756508290377, 11.482409137178797, 8.745163819621204, 24.808636547473593, 8.207654187865858, 8.14777119088992, 8.300322031170326, 8.711880523987636, 9.196267482807063, 9.920954137407088, 10.649368278329389, 9.616791083324639, 10.630005859365808, 10.789597679619193, 10.489757226997854, 12.440692215501375, 11.457335932665055, 9.11935850777172, 35.79142449814874, 11.170834838370858, 10.285750792490706, 9.220698599814972, 12.678557235411487, 11.073511408292346, 9.247266515382481, 9.757858786313866, 10.222843417945466, 10.059583361882833, 9.66077232094259, 10.667174191186268, 11.31253327960522, 11.156437358395173, 11.932772686895062, 48.36780653947395, 9.211715548844866, 10.727866031460355, 9.865037378969085, 11.094231461105528, 10.066844309677945, 11.458127496618129, 10.634197131080978, 9.41674480089001, 8.780712939280837, 9.01429944580507, 12.9910222886263, 8.853233735965127, 8.444899568841475, 10.535525006153978]\n",
      "sum(lambdas) > 1, normalizing by sum(lambdas)...\n",
      "\n",
      "lambdas = [0.625, 0.3125, 0.0625]\n",
      "nytimes = [10.654571409461285, 9.849896228425733, 9.434243016896213, 10.42661400868928, 12.014409469598682, 10.404554494142848, 13.523117360891302, 13.57809968803051, 15.46783815639959, 10.651538245117427, 10.848019754471522, 9.994879109120228, 13.980959410589188, 11.794861450425543, 9.43694064158179, 10.846283919503025, 9.655639044873336, 9.262305777734895, 10.564149035099403, 12.498606158763046]\n",
      "shakespeare = [31.02817698681987, 9.229245502616434, 8.34621066447404, 7.82594749003202, 7.8918801302191275, 7.153128032895747, 10.5577515626674, 8.92384547468299, 8.60427682797603, 7.687826227345267, 8.209008980995593, 7.966468413327624, 10.36242099689849, 10.203181287308167, 6.685665059698714, 46.00468371043788, 8.08535351526631, 9.941801301833003, 8.961953028921888, 8.888503308283287, 7.805112432038484, 7.773002854040318, 8.434589276455236, 8.593643782002207, 9.48239495488009, 8.166430886102047, 8.038317257766376, 8.465550625861155, 7.422724383667362, 8.424567879997696, 25.32964446720186, 7.85935778905907, 6.145557976153011, 9.26387425127394, 7.7568580729893135, 8.343984220304769, 8.884875601184588, 7.253291492393999, 10.554948829738434, 6.7510211726511855, 9.06387819887325, 7.538072167672456, 8.42907925213189, 7.591384154057345, 8.01450896389026, 49.22959496270166, 8.955188924402577, 10.286388542884788, 7.931482755092158, 7.931006678002112, 9.934921999230136, 7.974868622865644, 10.157833291269814, 8.812192841497145, 7.92612980734164, 7.8202187665569625, 7.646232225846895, 9.131867878205881, 9.219910874526516, 9.961284195151293, 34.521131457575756, 7.771562168654289, 8.928197314746287, 7.523129597703333, 8.593572230228014, 10.041227031568557, 7.855453211582922, 9.843717587099873, 10.28107466894515, 8.889669207605474, 9.970429150245053, 10.88381098423962, 8.750891703907147, 7.710982491295177, 8.649539563240086, 16.80293266256519, 8.150825943554045, 7.770726714907526, 8.410258096451487, 9.547100706420514, 8.685012752437084, 7.229445300624369, 5.969849082667675, 8.750006616290117, 7.628428151076925, 8.867166345185439, 7.267070587921084, 8.210986953429483, 8.040123659952053, 7.5486834307196355, 21.167204399574814, 7.8336891631344, 10.404480855433603, 8.432658801027982, 9.382505578050706, 9.296079840211783, 9.307620091791408, 9.385768402844985, 11.239946235013262, 8.71088973121105, 8.573648804677743, 10.183629078326431, 6.80438186146456, 9.344628173199627, 9.15951267261308, 15.337439001304075, 9.484875030360232, 9.049627107900134, 8.408325516805915, 10.73333544160564, 8.376522235953237, 8.676556106829858, 8.768292500529425, 7.464047844580192, 7.56271755099883, 11.441579466512726, 7.981154412859867, 8.094997425007824, 9.125288343678786, 8.030771673098132, 35.78250266436735, 9.238105540965678, 8.024603695891784, 10.290184966185747, 7.427723529175462, 6.971482970181369, 7.278815111354264, 9.896645398907145, 9.407556462554052, 8.556398550666044, 8.067532334462536, 7.372631278554479, 9.624548487538403, 8.788859070471254, 9.528619684146515, 29.852227696842093, 7.193810607217779, 8.818768503270093, 8.170411295805925, 7.514435962491684, 7.954931826543316, 7.292415936664405, 10.959931658695295, 8.003314894901822, 7.1143582326976125, 8.464943789783316, 7.637678092587856, 8.891893235736331, 6.144338336857097, 7.147237573332247, 21.768926512773575, 8.044534912860934, 7.040083474309556, 7.4871917038857845, 7.4546869375314975, 9.928169422554644, 7.4926568124709405, 7.84053506756916, 7.275265191252268, 7.472806744439454, 11.575154654781986, 8.108480327896364, 9.13862405644777, 8.80198636820336, 7.895347856402894, 31.51230739460967, 6.822735581178544, 7.783950720663015, 8.335440354713723, 9.8805368024777, 9.890634428714616, 8.51984518283183, 8.815509464030981, 8.183599996601497, 7.697149932388961, 6.735884808162238, 9.200924387756155, 7.97447172993051, 9.570074248072853, 7.133442043240964, 21.086582969763107, 6.200802320435321, 6.469058121903578, 6.293871445172342, 6.882391693935222, 7.324523624961756, 8.420856710002784, 8.297226341684839, 7.880014429230007, 8.875720678748692, 8.703639032843643, 8.602701289856771, 11.260853089211215, 9.222516796311805, 7.3714633618258665, 32.386641652090404, 8.71615408060056, 8.648166999402946, 7.407500558080128, 10.488247873283303, 9.280295639138249, 7.640886124800107, 7.750122249750761, 8.6827917393272, 8.013968260578913, 7.888130285188913, 8.799659409248068, 9.415389546905887, 9.963248406139813, 10.35992371487177, 43.964863257463456, 7.329093193138573, 8.539163984471564, 8.132820888003327, 9.476761793014509, 8.29486389226773, 9.773768674979362, 8.974522217485063, 7.757659964605119, 7.077301801442734, 7.169404794742359, 11.594234210762279, 7.058239229259357, 6.797444791660381, 8.912634567239868]\n",
      "sum(lambdas) > 1, normalizing by sum(lambdas)...\n",
      "\n",
      "lambdas = [0.0625, 0.3125, 0.625]\n",
      "nytimes = [15.460324178486676, 15.39183120450823, 14.907422936689322, 16.604661368330653, 18.507358256186947, 16.543437056273117, 21.474899620056476, 23.7046679393311, 22.92880830392721, 15.872431040161572, 16.498078958231204, 16.140464111537508, 19.62445858968804, 19.955982915333163, 14.862350590758151, 17.453578225469155, 14.992142734798936, 14.68072909421622, 16.5638955923371, 17.731363723024693]\n",
      "shakespeare = [33.06906194536189, 14.598633073790639, 14.471093416210374, 13.116058414818903, 13.403873441280249, 13.31269497267621, 18.340964133096655, 14.702886266643231, 14.296545481020186, 13.127434205855023, 13.8892755900364, 13.100584584323848, 15.582305260706637, 14.346138164972642, 12.058967882634297, 46.79189361685908, 13.716173082097638, 15.434616762248071, 15.660540508806692, 13.983139988840602, 13.51966976587859, 12.845946736858531, 14.123639430183356, 14.393332735639532, 16.21978626714142, 14.492728620239307, 15.43971971554274, 15.84503308236975, 12.171051366406976, 13.549259232061996, 41.93640270401221, 13.360598038242479, 11.843807779283127, 14.229965229962449, 13.963837851147856, 14.030893380613778, 15.086101369411262, 12.225232071909875, 17.82337444964598, 11.657525111578398, 15.737029702150629, 12.412734556332516, 14.435634861573531, 13.701782264290172, 12.38529801173836, 68.33130444362456, 15.274225548801278, 17.914441187909482, 14.523646769461452, 12.718554899670107, 15.296121134063876, 13.456985106435734, 15.042830679332111, 15.389221118748656, 14.253002823758301, 13.869981014062828, 12.381355817872805, 15.528957558975838, 14.028499090209253, 15.553505393541009, 38.34163212024451, 13.691313695744231, 14.777899507740955, 12.993315413309073, 15.63495891004684, 16.084333050190597, 13.040045901616468, 15.55770113770637, 15.981814558248141, 14.89635836207895, 16.403562635615273, 16.79880045565003, 14.015133288472525, 13.406685881979664, 14.54059519513463, 21.005846573417124, 14.242795748018647, 12.998703403469998, 14.872564092271764, 16.24226453081506, 15.034830061444975, 12.915408724620084, 11.514221760306606, 13.73254431373518, 12.64085051197713, 13.259366482496606, 13.083272005305435, 14.789503443796512, 15.172222001871047, 13.467382872276907, 28.711022264686218, 13.728703656458645, 16.044669185811546, 16.15303356654137, 16.82192150274822, 16.482075385730354, 15.108556853901751, 14.965309108514022, 17.14027725704543, 15.185875356440203, 13.89547385893425, 15.21198161462951, 13.526049142500788, 14.123276003842973, 15.489359269332642, 29.00076748918422, 15.677086684980594, 16.509312209658688, 14.759895802642532, 15.508829192675282, 14.960989593882843, 14.157808978967026, 14.324166010730746, 12.740058115405605, 13.866724112135087, 16.96136437743728, 14.033509773810671, 13.233517010660156, 14.83742601756206, 14.564003478715268, 89.01616159023743, 14.408480737355601, 14.45095040501392, 15.743705720274926, 13.493473610872265, 12.924707249728195, 11.975783982036628, 15.806169354420279, 15.382637806909639, 14.554598924402637, 15.092239524665052, 12.542546051948975, 14.786734189276308, 13.24075899120604, 16.0308122646558, 35.68094246340255, 12.954844902892491, 15.0446561879506, 14.216886482156793, 13.129617706740204, 13.249616271429234, 14.271520131252226, 14.956885256834516, 13.775123798041395, 12.921480505615117, 14.457865732159236, 13.586510031063858, 15.384930854581876, 11.687581989918257, 11.954105135643179, 33.87359272553837, 13.556283866881328, 12.974428495995904, 13.615727665941934, 12.80399416430412, 15.151173566334817, 13.540991930203353, 12.641635977348383, 12.847476583121617, 12.36351317700302, 16.105464467000946, 13.747446916018049, 14.328167529153236, 13.10769849339262, 13.422911760768466, 42.3481699154948, 11.864468674062534, 13.64021200057347, 14.070418923243105, 15.357850959024782, 13.808775603609904, 13.491230701472265, 15.107192766039308, 12.829940415259822, 14.281501078928803, 12.125688362029072, 14.760098370289198, 12.808748310696087, 16.136054419370954, 12.283838287141226, 39.57658201946435, 13.110805709654688, 11.956066472193749, 13.129737657761952, 12.750819924095751, 13.17525485510628, 13.460041455513672, 15.914635289214859, 13.573526931883388, 13.956539050430695, 15.65438448856411, 14.667605060268972, 15.653164327890618, 17.10661971162776, 13.049352444477599, 52.15868592145888, 16.613968571732265, 13.728910341976828, 13.90765570849237, 17.780980235366442, 14.868424331633268, 12.758524556185849, 14.000559232098388, 13.44727909385732, 14.696138064148391, 13.199145293646398, 14.632002458288625, 15.689825849632827, 14.285095994055789, 15.802069034400752, 62.91891994414784, 13.211761185597643, 15.482419791770878, 13.589467177414358, 14.42081814539399, 13.467244156374633, 15.32043803466672, 14.58197198948497, 12.946335808466607, 12.220332329818765, 13.305381678910626, 16.107997248606775, 13.110536991392713, 12.588510831481349, 14.799400245572699]\n",
      "sum(lambdas) > 1, normalizing by sum(lambdas)...\n",
      "\n",
      "lambdas = [0.47619047619047616, 0.047619047619047616, 0.47619047619047616]\n",
      "nytimes = [12.55597919277129, 11.70411395454585, 11.297553117430137, 12.142194400954839, 14.236626468180049, 12.542667799205816, 16.274414324316943, 16.043427634662077, 18.090657844145287, 12.314167449186625, 12.716489961378716, 12.066373819250233, 15.511147765665457, 14.420445334598229, 11.452863756311187, 13.344387841916452, 11.473736524992905, 11.421036206159323, 12.673615004091028, 14.53931411628284]\n",
      "shakespeare = [30.410608457135258, 11.412313316781253, 10.351341365798094, 9.996135736988998, 9.87824928425328, 8.980700767705162, 12.482261796529471, 11.45927091447285, 10.372488583784751, 9.584977771120354, 10.38460985158732, 10.44912497904392, 12.844568897982368, 11.491544018182392, 8.039938297717665, 44.060271367810394, 10.533529592391965, 12.399854819021106, 11.600776423484232, 10.388389719942312, 10.268533810050023, 9.489560002876372, 10.45121276531001, 10.624827801540448, 11.813474836833988, 10.423824572759582, 10.001309246024912, 10.952783882895439, 8.95375044356293, 10.193648934206843, 26.177132345169433, 9.497533882957653, 8.057858787300082, 10.918325065573294, 9.862000102218031, 10.34313976973516, 10.551254150147765, 9.377825511210252, 12.402926534583411, 8.67783838111018, 11.356015299756459, 9.385101773547138, 10.330271766463001, 9.100151335428821, 9.62868842186066, 50.533575058950156, 11.103111623888879, 12.72369138216332, 10.28657217394407, 10.131323819400604, 12.069885419192106, 10.089697127871375, 12.10748556492754, 10.49701539848415, 9.869258572743389, 9.64388584545358, 9.655301103643618, 11.582762748979768, 10.828136665156869, 11.394042111981333, 32.36563459417542, 9.977278358570537, 10.863104321219767, 9.403368372611316, 10.541880716701192, 12.15710005339099, 9.99051520039246, 12.21671811295744, 12.26466390672051, 11.193555370117696, 12.107140590949616, 13.150440910132756, 10.765435774225983, 9.491111921861265, 10.096729662326508, 29.95244827364837, 10.299063672116725, 9.710135838081754, 10.392941807660836, 11.937297687795072, 10.523503638662326, 9.511326301933103, 7.832157553952237, 10.654992090499665, 9.531594877690962, 10.80969784981282, 9.360408643420906, 10.436321117987902, 9.472596356197949, 9.367645034567154, 31.42130992537664, 9.801658999433839, 11.713222778203608, 10.50052289750133, 11.101366082089692, 11.622205235663408, 11.368888790450315, 11.41118261664145, 13.306689809140138, 10.974722783839537, 10.113427762080766, 11.867369940922657, 8.699470747077276, 10.214407205350248, 10.346235260416657, 22.166074241470962, 11.398351676894436, 11.029163706583281, 10.36960376937032, 12.281069340290442, 10.738906656077765, 10.477198095197522, 10.972179389926469, 8.985569771162131, 9.534217209629624, 13.279350462725947, 10.288018925922906, 10.051706391166208, 10.565590281575734, 9.762903954101645, 44.15815016449091, 10.751582695070475, 10.353347371086109, 11.787762789428117, 9.534049771865877, 9.002040190064129, 9.091732164546823, 12.364479994029129, 11.860483637176106, 10.506727667159012, 10.116745340708826, 9.387206865777824, 11.4014588567941, 10.151392270014009, 11.142635733088266, 32.06860230392897, 9.329850698352878, 11.032687262454003, 10.23906699981866, 9.298700291499028, 10.182997814040611, 9.379904100258289, 12.01731014090601, 10.260001724853911, 10.009666777175799, 10.726264250952292, 10.15285230883684, 11.079346872526196, 7.487885298727005, 8.720340228087395, 33.388232392107966, 10.137290864702425, 8.873481401883453, 10.00461821608956, 9.693462534794993, 12.20591038944207, 10.059763761924849, 10.012347144433576, 9.202932003971819, 9.215640210450747, 13.71893576042516, 10.382608581837422, 11.57952973018928, 10.693573816753362, 9.430150344824357, 39.22996337594274, 8.820569314763436, 9.574874148451254, 10.774396610553389, 11.736473751518634, 12.246885799270645, 10.714204975099618, 11.068386813601322, 10.148390443444816, 10.047537596273482, 8.827723681457584, 10.899863796948875, 10.060451179586044, 10.927005441057851, 8.765091317007366, 26.47303150605668, 8.056401416962785, 8.419705932121921, 8.04966995921653, 8.723625667139936, 9.057732315749847, 10.016387034712567, 10.459663808735124, 9.413440717398286, 10.976094297395518, 10.956389298012843, 10.671138644422784, 12.847101204192304, 10.909669653821613, 8.730551535838922, 40.22992470932937, 11.228387770797491, 11.869609251380869, 8.92868336217713, 12.597245929876287, 11.241316478201691, 9.482683621669707, 9.641859146654433, 11.169307710032074, 10.090970375162483, 9.67958025440359, 10.792027379978173, 11.323934954507937, 10.821185230093697, 12.214314761489982, 50.67116269125484, 9.485301206674038, 10.440309909670923, 10.241806239467778, 11.322134010596349, 10.734037405770415, 12.256044368856399, 10.523771631002743, 9.935924303484807, 9.166839932873984, 8.80818155785592, 13.793758687392199, 9.083910326354593, 8.188363254139642, 10.020895572770305]\n",
      "sum(lambdas) > 1, normalizing by sum(lambdas)...\n",
      "\n",
      "lambdas = [0.08333333333333333, 0.8333333333333334, 0.08333333333333333]\n",
      "nytimes = [12.355811567939101, 12.199507264915724, 11.683892639870177, 13.641188962504005, 15.023430062489934, 12.967857970863971, 17.129799693507408, 19.429788306662516, 18.627604184534725, 13.17883753533766, 13.341094485713969, 12.733419682054736, 17.01842351755347, 15.359944870866231, 11.393369126026885, 13.209451193801437, 11.970774371710064, 11.162161636795249, 12.951904869328642, 14.354042716113755]\n",
      "shakespeare = [33.39071762837304, 11.012367024485753, 11.123243040042492, 9.442370613659271, 9.807618502698856, 10.226948589622143, 15.025860068526471, 10.398701522890674, 11.66585466672631, 9.986081942896742, 10.21414347263751, 9.106566231607477, 11.524668775497233, 12.296055676122092, 9.396573878757296, 45.88542860486863, 9.78444002738305, 11.576531079999599, 11.164802386456895, 11.437736734510922, 9.56034357298156, 9.916950625700478, 11.030446170308148, 10.8861688359374, 12.308623352653086, 10.38821445631373, 11.181787376971524, 11.30728334171036, 9.60203390878569, 10.581214902428448, 39.00019802778237, 10.204877296506941, 8.134361143292939, 11.720454560337185, 10.613524984446025, 10.743066754958926, 11.804443077375575, 8.654779336008154, 14.681645966687455, 8.363947780032449, 11.303553028922632, 9.322456475738436, 10.789341638037712, 10.679325856135806, 9.654626414125113, 69.16605665397135, 11.778622810914904, 13.40877123081412, 10.262365550453612, 9.327857817031974, 11.9136185706713, 10.067745603891565, 11.7806815203643, 12.573775839251702, 10.643402466932189, 10.888635532824381, 9.170992964344364, 11.619476841559134, 11.11264529199223, 12.654044418300565, 50.71119074387367, 10.06976644761754, 11.511975646270896, 9.915303367767107, 12.081617627290864, 12.850106905062196, 9.282976951386383, 11.514164638279881, 12.626125270397154, 11.40249195041109, 12.70201514143626, 13.141759004415345, 10.550051498349305, 10.04260324930469, 12.142527370947517, 14.401126542123153, 10.744433151962737, 9.489817299653028, 11.50870427104313, 12.039598815301131, 12.149202555009179, 9.024806636510924, 8.063918406833908, 10.344375506141137, 9.31817015994702, 9.945588517262058, 9.472474763483106, 10.561133807466673, 12.361823463124844, 10.257398178350668, 21.185677198511872, 10.358458017657185, 14.187582478737443, 12.427611093162318, 13.105173811039283, 12.308094357264084, 11.671138642275507, 11.576612299368339, 14.07655749739691, 11.269449427884178, 11.259012496036156, 12.960483989502373, 9.892736609029674, 12.421562651797917, 13.99327089707957, 21.711131347877416, 12.35567318919724, 13.447489517345304, 11.607738613558602, 13.037494379037632, 10.962909870395789, 11.16743561599283, 10.919912253077712, 9.789651926880776, 10.606283866501016, 13.96378401837721, 9.77234955884032, 10.142595676867328, 12.573786554828477, 11.51993197786401, 68.7591703195091, 11.691312529513501, 10.441029601240585, 13.398347589191582, 9.632024753256628, 9.250506074501432, 9.125043424343424, 11.984289539253677, 11.365660733113947, 11.272724870368572, 11.217256210308848, 9.121329100965111, 12.27304315361376, 11.074375853275017, 13.320033631870697, 29.779752527197342, 9.019173190514309, 11.779623768798405, 10.444588761632376, 10.24754437585239, 9.605629050184385, 10.48660965429748, 13.376268075230415, 10.092125174883927, 8.1102999445655, 10.524897424191884, 9.165563759273015, 11.656377285126027, 8.881424886875262, 9.097894557129559, 23.728354262614754, 9.885647077573518, 9.529867720699123, 9.17363152074592, 9.081882132602766, 11.157718975971974, 9.003674713733337, 9.014886325308966, 9.18912558627558, 9.456756824644444, 12.719799773341713, 9.671692378777387, 10.621867267870115, 10.143043097894498, 10.678949019513272, 32.646337938485736, 8.429781531902858, 10.389939914774859, 10.375680432790627, 12.047555079683548, 10.643764839849137, 9.926449224023942, 11.313212793086857, 9.276239677754505, 10.287765821056928, 8.513890447906107, 11.899425577416341, 9.497077353533896, 13.77500558903177, 9.276781864478885, 30.684295159563025, 9.191032044399147, 8.236214994183213, 9.337843005156103, 9.390541242474628, 9.853236425994899, 10.48102811782663, 12.238558685490007, 10.945251295208417, 11.082018029204782, 11.90254785720284, 11.158631043787848, 12.916518160974793, 14.386295486254998, 10.783513964627392, 43.25907702852005, 12.120457100286504, 9.43868056018226, 11.129006551441147, 14.210430902869447, 11.571986604212507, 9.513161320782219, 10.508850999706059, 9.327618422947092, 11.19279411747492, 10.305710988212384, 11.177917989997406, 12.50369458554651, 12.890801300662424, 12.805849172300231, 57.225446165878594, 9.622250351546256, 12.594577420377165, 10.280391280737733, 11.621481883652324, 9.65439341182466, 11.341170617581684, 11.957555325212804, 9.269765845595908, 8.85079044426001, 10.170720249400125, 13.054277638328992, 9.622705654149447, 9.69636729669543, 12.873250298676865]\n"
     ]
    }
   ],
   "source": [
    "for x in [[1,1,1],[10,5,1],[1,5,10],[10,1,10],[1,10,1]]:\n",
    "    s = get_model_scores(NgramModelWithInterpolation, c = 2, k = 5, lambdas = x)\n",
    "    for k,v in s.items():\n",
    "        print(f\"{k} = {v}\")\n",
    "        #print(f\"E[{k}] = {sum(v)/len(v)}\")"
   ]
  }
 ],
 "metadata": {
  "kernelspec": {
   "display_name": "base",
   "language": "python",
   "name": "python3"
  },
  "language_info": {
   "codemirror_mode": {
    "name": "ipython",
    "version": 3
   },
   "file_extension": ".py",
   "mimetype": "text/x-python",
   "name": "python",
   "nbconvert_exporter": "python",
   "pygments_lexer": "ipython3",
   "version": "3.11.4"
  },
  "orig_nbformat": 4
 },
 "nbformat": 4,
 "nbformat_minor": 2
}
